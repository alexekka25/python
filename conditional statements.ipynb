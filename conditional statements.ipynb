{
 "cells": [
  {
   "cell_type": "markdown",
   "id": "578b1ada",
   "metadata": {},
   "source": [
    "# 1>"
   ]
  },
  {
   "cell_type": "markdown",
   "id": "58abb5f8",
   "metadata": {},
   "source": [
    "### Write a Python program that asks the user for their age and prints \"You are an adult\" if the age is 18 or older, otherwise prints \"You are a minor'."
   ]
  },
  {
   "cell_type": "code",
   "execution_count": 57,
   "id": "5b565bdd",
   "metadata": {},
   "outputs": [
    {
     "name": "stdout",
     "output_type": "stream",
     "text": [
      "Age: 25\n",
      "adult\n"
     ]
    }
   ],
   "source": [
    "Age = int(input('Age: '))              # user input for age\n",
    "if Age >18:                            # Check if the age is greater than 18\n",
    "    print('adult')\n",
    "else:                                # If the age is greater than 18, so its  adult\n",
    "    print('minor')                  # If the age is not greater than 18, so its minor"
   ]
  },
  {
   "cell_type": "markdown",
   "id": "f21ce495",
   "metadata": {},
   "source": [
    "# 2>"
   ]
  },
  {
   "cell_type": "markdown",
   "id": "ee903aca",
   "metadata": {},
   "source": [
    "### Write a program that takes a numerical grade (out of 100) as input and prints the corresponding letter grade according to the following scale:\n",
    "### 90-100: A\n",
    " ### 80-89: B\n",
    " ### 70-79: C\n",
    " ### 60-69: D\n",
    " ### Below 60: F\n"
   ]
  },
  {
   "cell_type": "code",
   "execution_count": 2,
   "id": "148092c9",
   "metadata": {},
   "outputs": [
    {
     "name": "stdout",
     "output_type": "stream",
     "text": [
      "grade: 58\n",
      "fail\n"
     ]
    }
   ],
   "source": [
    "grade = int(input('grade: '))   # Check if the grade is above 100, which would be invalid\n",
    "if grade >100:                 # If the grade is greater than 100, it's considered invalid\n",
    "    print('invalid marks')     # If the grade is greater than 89, it's an 'A' grade\n",
    "elif grade >89:\n",
    "    print('A grade')           # If the grade is between 80 and 89, it's a 'B' grade\n",
    "elif grade >79:\n",
    "    print(' B grade')         # If the grade is between 70 and 79, it's a 'C' grade\n",
    "elif grade >69:\n",
    "    print(' C grade')\n",
    "elif grade >59:                  # If the grade is between 60 and 69, it's a 'D' grade\n",
    "    print('D grade')          # If none of the above conditions match it shows fail result                                      \n",
    "else:\n",
    "    print('fail')"
   ]
  },
  {
   "cell_type": "markdown",
   "id": "febc886c",
   "metadata": {},
   "source": [
    "# 3>"
   ]
  },
  {
   "cell_type": "markdown",
   "id": "491331e3",
   "metadata": {},
   "source": [
    "### Write a program that calculates the Body Mass Index (BMI) of a person. The user should input their weight in kilograms and height in meters. The program should then print whether the person is underweight, normal weight, overweight, or obese"
   ]
  },
  {
   "cell_type": "code",
   "execution_count": 1,
   "id": "ad1f2337",
   "metadata": {},
   "outputs": [
    {
     "name": "stdout",
     "output_type": "stream",
     "text": [
      "weight: 63\n",
      "height: 1.4\n",
      "normal weight\n",
      "Your BMI is: 32.14\n"
     ]
    }
   ],
   "source": [
    "weight = float(input('weight: '))    # Calculate BMI (Body Mass Index) using the provided weight and height\n",
    "height = float(input('height: '))\n",
    "\n",
    "bmi = weight / (height ** 2)  # This is the height squared,height is multiplied by itself.\n",
    "\n",
    "if bmi <18.5:                  # BMI is calculated as weight (in kilograms) divided by the square of the height (in meters).\n",
    "    print('underweight')     # If   the BMI is less than 18.5, it's categorized as \"underweight\"\n",
    "elif bmi >18.4:\n",
    "    print('normal weight')      #is greater than or equal to 18.5 but less than 25, it's categorized as \"normal weight\"\n",
    "elif bmi >25:\n",
    "    print('overweight')       # is greater than or equal to 25 but less than 30\n",
    "elif bmi <29.9:\n",
    "    print('overweight')     # is greater than or equal to 30,\n",
    "else: \n",
    "    print(\"Obesity\")\n",
    "    \n",
    "print(f\"Your BMI is: {bmi:.2f}\")   #f-string to format and display the BMI (Body Mass Index) value with two decimal places."
   ]
  },
  {
   "cell_type": "markdown",
   "id": "1c424dd9",
   "metadata": {},
   "source": [
    "# 4"
   ]
  },
  {
   "cell_type": "markdown",
   "id": "c395ad60",
   "metadata": {},
   "source": [
    "### Write a program that asks the user for three numbers and prints the maximum of the three."
   ]
  },
  {
   "cell_type": "code",
   "execution_count": 1,
   "id": "e67aba6d",
   "metadata": {},
   "outputs": [
    {
     "name": "stdout",
     "output_type": "stream",
     "text": [
      "Enter the first number: 5\n",
      "Enter the second number: 5\n",
      "Enter the third number: 5\n",
      "The maximum number is: 5.0\n"
     ]
    }
   ],
   "source": [
    "number1 = float(input(\"Enter the first number: \"))   # Compare the numbers to find the maximum\n",
    "number2 = float(input(\"Enter the second number: \"))  \n",
    "number3 = float(input(\"Enter the third number: \"))\n",
    "\n",
    "if (number1>number2) & (number1>number3):    # Check if 'number1' is greater than both 'number2' and 'number3'\n",
    "     maximum = number1                          # If 'number1' is the greatest, assign it to 'maximum'\n",
    "        \n",
    "elif (number2>number1) & (number2>number3):  #Check if 'number2' is greater than both 'number1' and 'number3'\n",
    "     maximum = number2                       # If 'number2' is the greatest, assign it to 'maximum'\n",
    "        \n",
    "else:\n",
    "     maximum = number3                            # If none of the above conditions are mactch # Assign 'number3' to 'maximum'\n",
    "        \n",
    "print(\"The maximum number is:\", maximum)              "
   ]
  },
  {
   "cell_type": "markdown",
   "id": "2f5a8e3c",
   "metadata": {},
   "source": [
    "# 5"
   ]
  },
  {
   "cell_type": "markdown",
   "id": "72f5b923",
   "metadata": {},
   "source": [
    "### Write a program that asks the user for a temperature (in Celsius) and prints \"It's freezing\" if the temperature is below 0, \"It's cool\" if it's between 0 and 10, \"It's warm\" if it's between 10 and 20, and \"It's hot\" if it's above 20"
   ]
  },
  {
   "cell_type": "code",
   "execution_count": 63,
   "id": "51459442",
   "metadata": {},
   "outputs": [
    {
     "name": "stdout",
     "output_type": "stream",
     "text": [
      "Enter the temperature in Celsius: 34\n",
      "hot\n"
     ]
    }
   ],
   "source": [
    "temperature = float(input(\"Enter the temperature in Celsius: \"))\n",
    "\n",
    "if temperature <0:              # Take user input for the temperature in Celsius and convert it to a floating-point number\n",
    "    print('freezing')          # Check if the temperature is below 0, indicating freezing\n",
    "\n",
    "elif 0>= temperature <=10:     #  is greater than or equal to 0 and less than or equal to 10, indicating cool\n",
    "    print('cool')\n",
    "elif 10>= temperature <=20:      #is greater than or equal to 10 and less than or equal to 20, indicating warm\n",
    "    print('warm')\n",
    "else:\n",
    "    print('hot')        # it means the temperature is greater than 20, indicating hot\n",
    " \n",
    "   "
   ]
  },
  {
   "cell_type": "code",
   "execution_count": null,
   "id": "549aa5fe",
   "metadata": {},
   "outputs": [],
   "source": []
  },
  {
   "cell_type": "markdown",
   "id": "e297b9e7",
   "metadata": {},
   "source": [
    "# 6"
   ]
  },
  {
   "cell_type": "markdown",
   "id": "7c068eb7",
   "metadata": {},
   "source": [
    "### Write a program that asks the user for a number (1-7) and prints the corresponding day of the week.\n"
   ]
  },
  {
   "cell_type": "code",
   "execution_count": 20,
   "id": "0335400f",
   "metadata": {},
   "outputs": [
    {
     "name": "stdout",
     "output_type": "stream",
     "text": [
      "Enter a number (1-7): 5\n",
      "friday\n"
     ]
    }
   ],
   "source": [
    "day = int(input(\"Enter a number (1-7): \"))       #'day' to determine the corresponding day of the week\n",
    "if day == 1:\n",
    "    print('monady')       # If 'day' is 1, it represents Monday\n",
    "elif day ==2:\n",
    "    print('tuesday')       # If 'day' is 2, it represents Tuesday\n",
    "elif day ==3:\n",
    "    print('wednesday')        # If 'day' is 3, it represents Wednesday\n",
    "elif day ==4:\n",
    "    print('Thursday')            # If 'day' is 4, it represents Thursday\n",
    "elif day ==5:\n",
    "    print('friday')                 # If 'day' is 5, it represents Friday\n",
    "elif day ==6:\n",
    "    print('saturday')                ## If 'day' is 6, it represents Saturday\n",
    "elif day ==7:\n",
    "    print('sunday')      # If 'day' does not match any of the conditions \n",
    "else:\n",
    "    print('in valid number')   # it's considered an invalid number"
   ]
  },
  {
   "cell_type": "markdown",
   "id": "7bb320de",
   "metadata": {},
   "source": [
    "# 7 "
   ]
  },
  {
   "cell_type": "markdown",
   "id": "3f3230d3",
   "metadata": {},
   "source": [
    "### Write a program that asks the user for a number and prints \"In range\" if the number is between 10 and 20 (inclusive), and \"Out of range\" otherwise."
   ]
  },
  {
   "cell_type": "code",
   "execution_count": 33,
   "id": "75e523ce",
   "metadata": {},
   "outputs": [
    {
     "name": "stdout",
     "output_type": "stream",
     "text": [
      "Enter a number: 24\n",
      "out of range\n"
     ]
    }
   ],
   "source": [
    "number = float(input(\"Enter a number: \"))    #if the number is within the range [10, 20] (inclusive)\n",
    "if 10>= number <=20:                        # If the number is within the range [10, 20], it's considered inclusive\n",
    "    print('inclusive')\n",
    "else:\n",
    "    print('out of range')        # If the number is not within the range [10, 20], it's considered out of range"
   ]
  },
  {
   "cell_type": "markdown",
   "id": "5ebba8ac",
   "metadata": {},
   "source": [
    "# 8"
   ]
  },
  {
   "cell_type": "markdown",
   "id": "c58efb07",
   "metadata": {},
   "source": [
    "### Write a program that asks the user for an integer and prints whether it's even or odd.\n"
   ]
  },
  {
   "cell_type": "code",
   "execution_count": null,
   "id": "fd46be09",
   "metadata": {},
   "outputs": [],
   "source": []
  },
  {
   "cell_type": "code",
   "execution_count": 23,
   "id": "86986c35",
   "metadata": {},
   "outputs": [
    {
     "name": "stdout",
     "output_type": "stream",
     "text": [
      "Enter a number: 5\n",
      "odd number\n"
     ]
    }
   ],
   "source": [
    "number = float(input(\"Enter a number: \"))\n",
    "if number %2!=0:\n",
    "    print('odd number')   #Check if the number is odd\n",
    "if number %2==0:            # If the number's remainder when divided by 2 is not 0, it's considered odd\n",
    "    print('even number')      # If the number's remainder when divided by 2 is 0, it's considered even"
   ]
  },
  {
   "cell_type": "markdown",
   "id": "55add926",
   "metadata": {},
   "source": [
    "# 9"
   ]
  },
  {
   "cell_type": "markdown",
   "id": "81760732",
   "metadata": {},
   "source": [
    "### Write a Python program to add 'ing' at the end of a given string (string length should be equal to or more than 3). If the given string already ends with 'ing' then add 'ly' instead.If the string length of the given string is less than 3, leave it unchanged"
   ]
  },
  {
   "cell_type": "code",
   "execution_count": null,
   "id": "ad32f18a",
   "metadata": {},
   "outputs": [],
   "source": []
  },
  {
   "cell_type": "code",
   "execution_count": 70,
   "id": "868a314d",
   "metadata": {},
   "outputs": [
    {
     "name": "stdout",
     "output_type": "stream",
     "text": [
      "Enter a string: how are u ly\n",
      "Result: how are u lying\n"
     ]
    }
   ],
   "source": [
    "string = input('Enter a string: ')\n",
    "\n",
    "if len(string) < 3:\n",
    "    print(\"String length should be at least 3 characters.\")    # Check if the length of the string is less than 3\n",
    "    \n",
    "elif string.endswith('ing'):             # Check if the string ends with 'ing'\n",
    "    result = string + 'ly'\n",
    "    print(\"Result:\", result)             #print(\"Result:\", result) is used to display the value of the variable\n",
    "                                               # Check if the string ends with 'ly'\n",
    "elif string.endswith('ly'):\n",
    "    result = string + 'ing'\n",
    "    print(\"Result:\", result)\n",
    "\n",
    "else:                                           # If none of the above conditions are met, it's considered a valid string\n",
    "    print('invalid string')\n"
   ]
  },
  {
   "cell_type": "markdown",
   "id": "7cbf119f",
   "metadata": {},
   "source": [
    "# 16"
   ]
  },
  {
   "cell_type": "markdown",
   "id": "4854bfff",
   "metadata": {},
   "source": [
    "### Accept any city from the user and display the momentum of the city \n",
    "### Hyderabad  : “charminar”\n",
    "### “Delhi”         : “red fort\n",
    "### “Agra           : Taj mahal\n",
    "### If the city name is not given correctly, give him a warning message.\n"
   ]
  },
  {
   "cell_type": "code",
   "execution_count": 64,
   "id": "f5ff7db7",
   "metadata": {},
   "outputs": [
    {
     "name": "stdout",
     "output_type": "stream",
     "text": [
      "momentum of the city: delhi\n",
      "red fort\n"
     ]
    }
   ],
   "source": [
    "city = input('momentum of the city: ')\n",
    "if city == 'hydrabad':  # city == 'city_name' to compare the user input with the city names.\n",
    "    print('charminar')\n",
    "elif city == 'delhi':\n",
    "    print('red fort')\n",
    "elif city == 'agra':\n",
    "    print('taj mahal')\n",
    "else:\n",
    "    print('warning in valid')\n"
   ]
  },
  {
   "cell_type": "markdown",
   "id": "a6411d52",
   "metadata": {},
   "source": [
    "# 17"
   ]
  },
  {
   "cell_type": "markdown",
   "id": "73a20e94",
   "metadata": {},
   "source": [
    "### Write a program to check whether a person is eligible for voting or not  (voting age>=18).\n"
   ]
  },
  {
   "cell_type": "code",
   "execution_count": 48,
   "id": "0b4aec0e",
   "metadata": {},
   "outputs": [
    {
     "name": "stdout",
     "output_type": "stream",
     "text": [
      "voting for age: 15\n",
      "not eligible for voting\n"
     ]
    }
   ],
   "source": [
    "Age = int(input('voting for age: ')) \n",
    "if Age <18:\n",
    "    print('not eligible for voting')  # checks below 18 or above 18, if it match is eligible for voting\n",
    "else:\n",
    "    print('eligible for voting')"
   ]
  },
  {
   "cell_type": "markdown",
   "id": "94db2fea",
   "metadata": {},
   "source": [
    "# 14"
   ]
  },
  {
   "cell_type": "markdown",
   "id": "fbc60c0f",
   "metadata": {},
   "source": [
    "### A company decided to give a bonus of 5% to employees if his/her year of service is more than 5 years.Ask user for their salary and year of service and print the net bonus amount."
   ]
  },
  {
   "cell_type": "code",
   "execution_count": 62,
   "id": "856d38ac",
   "metadata": {},
   "outputs": [
    {
     "name": "stdout",
     "output_type": "stream",
     "text": [
      "year of service: 7\n",
      "employe salary: 10000\n",
      "bonus Result: 500.0\n"
     ]
    }
   ],
   "source": [
    "employe_service = int(input('year of service: '))\n",
    "employe_salary = int(input('employe salary: ')) # checking employee service year if more then 5 gives bonus\n",
    "if employe_service >5:\n",
    "    result = employe_salary *0.05            # 5% bonus (0.05 represents 5%)\n",
    "    print(\"bonus Result:\", result)"
   ]
  },
  {
   "cell_type": "code",
   "execution_count": null,
   "id": "80f13162",
   "metadata": {},
   "outputs": [],
   "source": []
  }
 ],
 "metadata": {
  "kernelspec": {
   "display_name": "Python 3 (ipykernel)",
   "language": "python",
   "name": "python3"
  },
  "language_info": {
   "codemirror_mode": {
    "name": "ipython",
    "version": 3
   },
   "file_extension": ".py",
   "mimetype": "text/x-python",
   "name": "python",
   "nbconvert_exporter": "python",
   "pygments_lexer": "ipython3",
   "version": "3.11.5"
  }
 },
 "nbformat": 4,
 "nbformat_minor": 5
}
