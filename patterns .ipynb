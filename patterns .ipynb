{
 "cells": [
  {
   "cell_type": "markdown",
   "id": "cd1d57cb",
   "metadata": {},
   "source": [
    "# `square`"
   ]
  },
  {
   "cell_type": "code",
   "execution_count": 3,
   "id": "c25537d2",
   "metadata": {},
   "outputs": [
    {
     "name": "stdout",
     "output_type": "stream",
     "text": [
      "* * * * * * * * * * \n",
      "* * * * * * * * * * \n",
      "* * * * * * * * * * \n",
      "* * * * * * * * * * \n",
      "* * * * * * * * * * \n",
      "* * * * * * * * * * \n",
      "* * * * * * * * * * \n",
      "* * * * * * * * * * \n",
      "* * * * * * * * * * \n",
      "* * * * * * * * * * \n"
     ]
    }
   ],
   "source": [
    "n=10\n",
    "for i in range(n):\n",
    "    for j in range(n):\n",
    "        print(\"*\",end=\" \")\n",
    "    print()"
   ]
  },
  {
   "cell_type": "code",
   "execution_count": 4,
   "id": "0fb98264",
   "metadata": {},
   "outputs": [
    {
     "name": "stdout",
     "output_type": "stream",
     "text": [
      "1 2 3 4 5 6 7 8 9 10 \n",
      "1 2 3 4 5 6 7 8 9 10 \n",
      "1 2 3 4 5 6 7 8 9 10 \n",
      "1 2 3 4 5 6 7 8 9 10 \n",
      "1 2 3 4 5 6 7 8 9 10 \n",
      "1 2 3 4 5 6 7 8 9 10 \n",
      "1 2 3 4 5 6 7 8 9 10 \n",
      "1 2 3 4 5 6 7 8 9 10 \n",
      "1 2 3 4 5 6 7 8 9 10 \n",
      "1 2 3 4 5 6 7 8 9 10 \n"
     ]
    }
   ],
   "source": [
    "n=10\n",
    "for i in range(1,n+1):\n",
    "    for j in range(1,n+1):\n",
    "        print(j,end=\" \")\n",
    "    print()"
   ]
  },
  {
   "cell_type": "markdown",
   "id": "b6e05cea",
   "metadata": {},
   "source": [
    "# with function"
   ]
  },
  {
   "cell_type": "code",
   "execution_count": 16,
   "id": "7505ff88",
   "metadata": {},
   "outputs": [],
   "source": [
    "def foopattern(n, char):\n",
    "    for i in range(n):\n",
    "        for j in range(n):\n",
    "            print(char, end=\" \")\n",
    "        print()\n"
   ]
  },
  {
   "cell_type": "code",
   "execution_count": 29,
   "id": "367e5439",
   "metadata": {},
   "outputs": [
    {
     "name": "stdout",
     "output_type": "stream",
     "text": [
      "* * * * * * * * * * \n",
      "* * * * * * * * * * \n",
      "* * * * * * * * * * \n",
      "* * * * * * * * * * \n",
      "* * * * * * * * * * \n",
      "* * * * * * * * * * \n",
      "* * * * * * * * * * \n",
      "* * * * * * * * * * \n",
      "* * * * * * * * * * \n",
      "* * * * * * * * * * \n"
     ]
    }
   ],
   "source": [
    "foopattern(10, '*')\n"
   ]
  },
  {
   "cell_type": "markdown",
   "id": "9f3a4c41",
   "metadata": {},
   "source": [
    "# `Rectangle`"
   ]
  },
  {
   "cell_type": "code",
   "execution_count": 32,
   "id": "a4aa9235",
   "metadata": {},
   "outputs": [
    {
     "name": "stdout",
     "output_type": "stream",
     "text": [
      "* * * * * * * * * * \n",
      "* * * * * * * * * * \n",
      "* * * * * * * * * * \n",
      "* * * * * * * * * * \n",
      "* * * * * * * * * * \n"
     ]
    }
   ],
   "source": [
    "r=5\n",
    "c=10\n",
    "for i in range(1,6):\n",
    "    for j in range(1,11):\n",
    "        print(\"*\",end=\" \")\n",
    "    print()"
   ]
  },
  {
   "cell_type": "code",
   "execution_count": 33,
   "id": "a7dc4d31",
   "metadata": {},
   "outputs": [
    {
     "name": "stdout",
     "output_type": "stream",
     "text": [
      "1 2 3 4 5 6 7 8 9 10 \n",
      "1 2 3 4 5 6 7 8 9 10 \n",
      "1 2 3 4 5 6 7 8 9 10 \n",
      "1 2 3 4 5 6 7 8 9 10 \n",
      "1 2 3 4 5 6 7 8 9 10 \n"
     ]
    }
   ],
   "source": [
    "r=5\n",
    "c=10\n",
    "for i in range(1,6):\n",
    "    for j in range(1,11):\n",
    "        print(j,end=\" \")\n",
    "    print()"
   ]
  },
  {
   "cell_type": "markdown",
   "id": "9897e06f",
   "metadata": {},
   "source": [
    "# using function"
   ]
  },
  {
   "cell_type": "code",
   "execution_count": 57,
   "id": "7f874a53",
   "metadata": {},
   "outputs": [],
   "source": [
    "def foopattern(r, c, char):\n",
    "    for i in range(1, r + 1):\n",
    "        for j in range(1, c + 1):\n",
    "            print(char, end=\" \")\n",
    "        print()\n"
   ]
  },
  {
   "cell_type": "code",
   "execution_count": 58,
   "id": "e2d600d0",
   "metadata": {},
   "outputs": [
    {
     "name": "stdout",
     "output_type": "stream",
     "text": [
      "* * * * * * * * * * \n",
      "* * * * * * * * * * \n",
      "* * * * * * * * * * \n",
      "* * * * * * * * * * \n",
      "* * * * * * * * * * \n"
     ]
    }
   ],
   "source": [
    "\n",
    "foopattern(5, 10, \"*\")\n"
   ]
  },
  {
   "cell_type": "markdown",
   "id": "2fed7995",
   "metadata": {},
   "source": [
    "# `pyramid`"
   ]
  },
  {
   "cell_type": "code",
   "execution_count": 60,
   "id": "4364b8f5",
   "metadata": {},
   "outputs": [
    {
     "name": "stdout",
     "output_type": "stream",
     "text": [
      "                    * \n",
      "                  * * * \n",
      "                * * * * * \n",
      "              * * * * * * * \n",
      "            * * * * * * * * * \n",
      "          * * * * * * * * * * * \n",
      "        * * * * * * * * * * * * * \n",
      "      * * * * * * * * * * * * * * * \n",
      "    * * * * * * * * * * * * * * * * * \n",
      "  * * * * * * * * * * * * * * * * * * * \n"
     ]
    }
   ],
   "source": [
    "n=10\n",
    "for i in range(n):\n",
    "    for j in range(i,n):\n",
    "        print(\" \",end=\" \")\n",
    "        \n",
    "    for j in range(i+1):\n",
    "        print(\"*\",end=\" \")\n",
    "        \n",
    "    for j in range(i+0):\n",
    "        print(\"*\",end=\" \")\n",
    "        \n",
    "    print()"
   ]
  },
  {
   "cell_type": "code",
   "execution_count": 61,
   "id": "6b7042c1",
   "metadata": {},
   "outputs": [
    {
     "name": "stdout",
     "output_type": "stream",
     "text": [
      "                    0 \n",
      "                  0 1 0 \n",
      "                0 1 2 0 1 \n",
      "              0 1 2 3 0 1 2 \n",
      "            0 1 2 3 4 0 1 2 3 \n",
      "          0 1 2 3 4 5 0 1 2 3 4 \n",
      "        0 1 2 3 4 5 6 0 1 2 3 4 5 \n",
      "      0 1 2 3 4 5 6 7 0 1 2 3 4 5 6 \n",
      "    0 1 2 3 4 5 6 7 8 0 1 2 3 4 5 6 7 \n",
      "  0 1 2 3 4 5 6 7 8 9 0 1 2 3 4 5 6 7 8 \n"
     ]
    }
   ],
   "source": [
    "n=10\n",
    "for i in range(n):\n",
    "    for j in range(i,n):\n",
    "        print(\" \",end=\" \")\n",
    "        \n",
    "    for j in range(i+1):\n",
    "        print(j,end=\" \")\n",
    "        \n",
    "    for j in range(i+0):\n",
    "        print(j,end=\" \")\n",
    "        \n",
    "    print()"
   ]
  },
  {
   "cell_type": "markdown",
   "id": "534dffb4",
   "metadata": {},
   "source": [
    "# using function"
   ]
  },
  {
   "cell_type": "code",
   "execution_count": 69,
   "id": "d9b62dca",
   "metadata": {},
   "outputs": [],
   "source": [
    "def foopattern(n):\n",
    "    for i in range(n):\n",
    "        for j in range(i, n):\n",
    "            print(\" \", end=\" \")\n",
    "\n",
    "        for j in range(i + 1):\n",
    "            print(j, end=\" \")\n",
    "\n",
    "        for j in range(i, 0, -1):\n",
    "            print(j, end=\" \")\n",
    "\n",
    "        print()\n",
    "\n"
   ]
  },
  {
   "cell_type": "code",
   "execution_count": 70,
   "id": "3c7018e2",
   "metadata": {},
   "outputs": [
    {
     "name": "stdout",
     "output_type": "stream",
     "text": [
      "                    0 \n",
      "                  0 1 1 \n",
      "                0 1 2 2 1 \n",
      "              0 1 2 3 3 2 1 \n",
      "            0 1 2 3 4 4 3 2 1 \n",
      "          0 1 2 3 4 5 5 4 3 2 1 \n",
      "        0 1 2 3 4 5 6 6 5 4 3 2 1 \n",
      "      0 1 2 3 4 5 6 7 7 6 5 4 3 2 1 \n",
      "    0 1 2 3 4 5 6 7 8 8 7 6 5 4 3 2 1 \n",
      "  0 1 2 3 4 5 6 7 8 9 9 8 7 6 5 4 3 2 1 \n"
     ]
    }
   ],
   "source": [
    "foopattern(10)\n"
   ]
  },
  {
   "cell_type": "code",
   "execution_count": null,
   "id": "e28205f2",
   "metadata": {},
   "outputs": [],
   "source": []
  },
  {
   "cell_type": "code",
   "execution_count": 78,
   "id": "41aa001b",
   "metadata": {},
   "outputs": [
    {
     "name": "stdout",
     "output_type": "stream",
     "text": [
      "* \n",
      "* * \n",
      "* * * \n",
      "* * * * \n",
      "* * * * * \n",
      "* * * * * * \n",
      "* * * * * * * \n",
      "* * * * * * * * \n",
      "* * * * * * * * * \n",
      "* * * * * * * * * * \n"
     ]
    }
   ],
   "source": [
    "n=10\n",
    "for i in range(n):\n",
    "    for j in range(i+1):\n",
    "        print(\"*\",end=\" \")\n",
    "    print()"
   ]
  },
  {
   "cell_type": "code",
   "execution_count": 79,
   "id": "020b15ec",
   "metadata": {},
   "outputs": [
    {
     "name": "stdout",
     "output_type": "stream",
     "text": [
      "* * * * * * * * * * \n",
      "* * * * * * * * * \n",
      "* * * * * * * * \n",
      "* * * * * * * \n",
      "* * * * * * \n",
      "* * * * * \n",
      "* * * * \n",
      "* * * \n",
      "* * \n",
      "* \n"
     ]
    }
   ],
   "source": [
    "n=10\n",
    "for i in range(n):\n",
    "    for j in range(i,n):\n",
    "        print(\"*\",end=\" \")\n",
    "    print()"
   ]
  },
  {
   "cell_type": "markdown",
   "id": "a8da738e",
   "metadata": {},
   "source": [
    "# using function"
   ]
  },
  {
   "cell_type": "code",
   "execution_count": 92,
   "id": "3c0102e5",
   "metadata": {},
   "outputs": [],
   "source": [
    "def foopattern(n):\n",
    "    for i in range(n):\n",
    "        for j in range(i+1):\n",
    "            print(\"*\",end=\" \")\n",
    "        print()"
   ]
  },
  {
   "cell_type": "code",
   "execution_count": 94,
   "id": "51c939c8",
   "metadata": {},
   "outputs": [
    {
     "name": "stdout",
     "output_type": "stream",
     "text": [
      "* \n",
      "* * \n",
      "* * * \n",
      "* * * * \n",
      "* * * * * \n",
      "* * * * * * \n",
      "* * * * * * * \n",
      "* * * * * * * * \n",
      "* * * * * * * * * \n",
      "* * * * * * * * * * \n"
     ]
    }
   ],
   "source": [
    "foopattern(10)"
   ]
  },
  {
   "cell_type": "code",
   "execution_count": 95,
   "id": "019ccfcc",
   "metadata": {},
   "outputs": [],
   "source": [
    "def foopattern(n):\n",
    "    for i in range(n):\n",
    "        for j in range(i+1):\n",
    "            print(j,end=\" \")\n",
    "        print()"
   ]
  },
  {
   "cell_type": "code",
   "execution_count": 96,
   "id": "e8efefc0",
   "metadata": {},
   "outputs": [
    {
     "name": "stdout",
     "output_type": "stream",
     "text": [
      "0 \n",
      "0 1 \n",
      "0 1 2 \n",
      "0 1 2 3 \n",
      "0 1 2 3 4 \n",
      "0 1 2 3 4 5 \n",
      "0 1 2 3 4 5 6 \n",
      "0 1 2 3 4 5 6 7 \n",
      "0 1 2 3 4 5 6 7 8 \n",
      "0 1 2 3 4 5 6 7 8 9 \n"
     ]
    }
   ],
   "source": [
    "foopattern(10)"
   ]
  },
  {
   "cell_type": "code",
   "execution_count": 98,
   "id": "526be4c1",
   "metadata": {},
   "outputs": [],
   "source": [
    "def foopattern(n):\n",
    "    for i in range(n):\n",
    "        for j in range(i,n):\n",
    "            print(j,end=\" \")\n",
    "        print()"
   ]
  },
  {
   "cell_type": "code",
   "execution_count": 99,
   "id": "9df71cc4",
   "metadata": {},
   "outputs": [
    {
     "name": "stdout",
     "output_type": "stream",
     "text": [
      "0 1 2 3 4 5 6 7 8 9 \n",
      "1 2 3 4 5 6 7 8 9 \n",
      "2 3 4 5 6 7 8 9 \n",
      "3 4 5 6 7 8 9 \n",
      "4 5 6 7 8 9 \n",
      "5 6 7 8 9 \n",
      "6 7 8 9 \n",
      "7 8 9 \n",
      "8 9 \n",
      "9 \n"
     ]
    }
   ],
   "source": [
    "foopattern(10)"
   ]
  },
  {
   "cell_type": "code",
   "execution_count": 102,
   "id": "1fd85517",
   "metadata": {},
   "outputs": [
    {
     "name": "stdout",
     "output_type": "stream",
     "text": [
      "                    * \n",
      "                  * * \n",
      "                * * * \n",
      "              * * * * \n",
      "            * * * * * \n",
      "          * * * * * * \n",
      "        * * * * * * * \n",
      "      * * * * * * * * \n",
      "    * * * * * * * * * \n",
      "  * * * * * * * * * * \n"
     ]
    }
   ],
   "source": [
    "n=10\n",
    "for i in range(n):\n",
    "    for j in range(i,n):\n",
    "        print(\" \",end=\" \")\n",
    "    for j in range(i+1):\n",
    "        print(\"*\",end=\" \")\n",
    "        \n",
    "    print()\n",
    "        "
   ]
  },
  {
   "cell_type": "code",
   "execution_count": 103,
   "id": "d7fbff96",
   "metadata": {},
   "outputs": [
    {
     "name": "stdout",
     "output_type": "stream",
     "text": [
      "                    0 \n",
      "                  0 1 \n",
      "                0 1 2 \n",
      "              0 1 2 3 \n",
      "            0 1 2 3 4 \n",
      "          0 1 2 3 4 5 \n",
      "        0 1 2 3 4 5 6 \n",
      "      0 1 2 3 4 5 6 7 \n",
      "    0 1 2 3 4 5 6 7 8 \n",
      "  0 1 2 3 4 5 6 7 8 9 \n"
     ]
    }
   ],
   "source": [
    "n=10\n",
    "for i in range(n):\n",
    "    for j in range(i,n):\n",
    "        print(\" \",end=\" \")\n",
    "    for j in range(i+1):\n",
    "        print(j,end=\" \")\n",
    "        \n",
    "    print()\n",
    "        "
   ]
  },
  {
   "cell_type": "markdown",
   "id": "88575271",
   "metadata": {},
   "source": [
    "# using function"
   ]
  },
  {
   "cell_type": "code",
   "execution_count": 105,
   "id": "8949d302",
   "metadata": {},
   "outputs": [],
   "source": [
    "def foopattern(n):\n",
    "    for i in range(n):\n",
    "        for j in range(i,n):\n",
    "            print(\" \",end=\" \")\n",
    "        for j in range(i+1):\n",
    "            print(j,end=\" \")\n",
    "        \n",
    "        print()"
   ]
  },
  {
   "cell_type": "code",
   "execution_count": 107,
   "id": "e4339f22",
   "metadata": {},
   "outputs": [
    {
     "name": "stdout",
     "output_type": "stream",
     "text": [
      "                    0 \n",
      "                  0 1 \n",
      "                0 1 2 \n",
      "              0 1 2 3 \n",
      "            0 1 2 3 4 \n",
      "          0 1 2 3 4 5 \n",
      "        0 1 2 3 4 5 6 \n",
      "      0 1 2 3 4 5 6 7 \n",
      "    0 1 2 3 4 5 6 7 8 \n",
      "  0 1 2 3 4 5 6 7 8 9 \n"
     ]
    }
   ],
   "source": [
    "foopattern(10)"
   ]
  },
  {
   "cell_type": "markdown",
   "id": "b40a1e98",
   "metadata": {},
   "source": [
    "# `Parallelogram` "
   ]
  },
  {
   "cell_type": "code",
   "execution_count": 119,
   "id": "4f240e35",
   "metadata": {},
   "outputs": [
    {
     "name": "stdout",
     "output_type": "stream",
     "text": [
      "  * * * * * * * * * * * \n",
      "    * * * * * * * * * * * \n",
      "      * * * * * * * * * * * \n",
      "        * * * * * * * * * * * \n",
      "          * * * * * * * * * * * \n",
      "            * * * * * * * * * * * \n",
      "              * * * * * * * * * * * \n",
      "                * * * * * * * * * * * \n",
      "                  * * * * * * * * * * * \n",
      "                    * * * * * * * * * * * \n"
     ]
    }
   ],
   "source": [
    "n=10\n",
    "for i in range(n):\n",
    "    for j in range(i+1):\n",
    "        print(\" \",end=\" \")\n",
    "        \n",
    "    for j in range(i+1):\n",
    "        print(\"*\",end=\" \")\n",
    "        \n",
    "    for j in range(i,n):\n",
    "        print(\"*\",end=\" \")\n",
    "        \n",
    "    print()"
   ]
  },
  {
   "cell_type": "code",
   "execution_count": 134,
   "id": "84a02126",
   "metadata": {},
   "outputs": [
    {
     "name": "stdout",
     "output_type": "stream",
     "text": [
      "                      * * * * * * * * * * * \n",
      "                    * * * * * * * * * * \n",
      "                  * * * * * * * * * * \n",
      "                * * * * * * * * * * \n",
      "              * * * * * * * * * * \n",
      "            * * * * * * * * * * \n",
      "          * * * * * * * * * * \n",
      "        * * * * * * * * * * \n",
      "      * * * * * * * * * * \n",
      "    * * * * * * * * * * \n",
      "  * * * * * * * * * * \n"
     ]
    }
   ],
   "source": [
    "n=11\n",
    "for i in range(n):\n",
    "    for j in range(i,n):\n",
    "        print(\" \", end=\" \")\n",
    "\n",
    "    for j in range(i,n):\n",
    "        print(\"*\", end=\" \")\n",
    "\n",
    "    for j in range(i-1):\n",
    "        print(\"*\", end=\" \")\n",
    "\n",
    "    print()\n"
   ]
  },
  {
   "cell_type": "code",
   "execution_count": null,
   "id": "bd10921b",
   "metadata": {},
   "outputs": [],
   "source": []
  },
  {
   "cell_type": "code",
   "execution_count": null,
   "id": "f43f248a",
   "metadata": {},
   "outputs": [],
   "source": []
  },
  {
   "cell_type": "markdown",
   "id": "af389548",
   "metadata": {},
   "source": [
    "# `Inverted Pyramid`"
   ]
  },
  {
   "cell_type": "code",
   "execution_count": 143,
   "id": "a4f8cf87",
   "metadata": {},
   "outputs": [
    {
     "name": "stdout",
     "output_type": "stream",
     "text": [
      "  * * * * * * * * * * * * * * * * * * * \n",
      "    * * * * * * * * * * * * * * * * * \n",
      "      * * * * * * * * * * * * * * * \n",
      "        * * * * * * * * * * * * * \n",
      "          * * * * * * * * * * * \n",
      "            * * * * * * * * * \n",
      "              * * * * * * * \n",
      "                * * * * * \n",
      "                  * * * \n",
      "                    * \n"
     ]
    }
   ],
   "source": [
    "n=10\n",
    "for i in range(n):\n",
    "    for j in range(i+1):\n",
    "        print(\" \",end=\" \")\n",
    "        \n",
    "    for j in range(i,n-1):\n",
    "        print(\"*\",end=\" \")\n",
    "        \n",
    "    for j in range(i,n):\n",
    "        print(\"*\",end=\" \")\n",
    "        \n",
    "    print()"
   ]
  },
  {
   "cell_type": "code",
   "execution_count": 144,
   "id": "fdc364b4",
   "metadata": {},
   "outputs": [
    {
     "name": "stdout",
     "output_type": "stream",
     "text": [
      "  $ $ $ $ $ $ $ $ $ $ $ $ $ $ $ $ $ $ $ \n",
      "    $ $ $ $ $ $ $ $ $ $ $ $ $ $ $ $ $ \n",
      "      $ $ $ $ $ $ $ $ $ $ $ $ $ $ $ \n",
      "        $ $ $ $ $ $ $ $ $ $ $ $ $ \n",
      "          $ $ $ $ $ $ $ $ $ $ $ \n",
      "            $ $ $ $ $ $ $ $ $ \n",
      "              $ $ $ $ $ $ $ \n",
      "                $ $ $ $ $ \n",
      "                  $ $ $ \n",
      "                    $ \n"
     ]
    }
   ],
   "source": [
    "n=10\n",
    "for i in range(n):\n",
    "    for j in range(i+1):\n",
    "        print(\" \",end=\" \")\n",
    "        \n",
    "    for j in range(i,n-1):\n",
    "        print(\"$\",end=\" \")\n",
    "        \n",
    "    for j in range(i,n):\n",
    "        print(\"$\",end=\" \")\n",
    "        \n",
    "    print()"
   ]
  },
  {
   "cell_type": "code",
   "execution_count": 145,
   "id": "f60fff6e",
   "metadata": {},
   "outputs": [
    {
     "name": "stdout",
     "output_type": "stream",
     "text": [
      "  0 1 2 3 4 5 6 7 8 0 1 2 3 4 5 6 7 8 9 \n",
      "    1 2 3 4 5 6 7 8 1 2 3 4 5 6 7 8 9 \n",
      "      2 3 4 5 6 7 8 2 3 4 5 6 7 8 9 \n",
      "        3 4 5 6 7 8 3 4 5 6 7 8 9 \n",
      "          4 5 6 7 8 4 5 6 7 8 9 \n",
      "            5 6 7 8 5 6 7 8 9 \n",
      "              6 7 8 6 7 8 9 \n",
      "                7 8 7 8 9 \n",
      "                  8 8 9 \n",
      "                    9 \n"
     ]
    }
   ],
   "source": [
    "n=10\n",
    "for i in range(n):\n",
    "    for j in range(i+1):\n",
    "        print(\" \",end=\" \")\n",
    "        \n",
    "    for j in range(i,n-1):\n",
    "        print(j,end=\" \")\n",
    "        \n",
    "    for j in range(i,n):\n",
    "        print(j,end=\" \")\n",
    "        \n",
    "    print()"
   ]
  },
  {
   "cell_type": "markdown",
   "id": "551e93f9",
   "metadata": {},
   "source": [
    "# using function"
   ]
  },
  {
   "cell_type": "code",
   "execution_count": 147,
   "id": "e3bcd1ba",
   "metadata": {},
   "outputs": [],
   "source": [
    "def foopattern(n):\n",
    "    for i in range(n):\n",
    "        for j in range(i+1):\n",
    "            print(\" \",end=\" \")\n",
    "        \n",
    "        for j in range(i,n-1):\n",
    "            print(\"$\",end=\" \")\n",
    "        \n",
    "        for j in range(i,n):\n",
    "            print(\"$\",end=\" \")\n",
    "        \n",
    "        print()"
   ]
  },
  {
   "cell_type": "code",
   "execution_count": 148,
   "id": "84bf952a",
   "metadata": {},
   "outputs": [
    {
     "name": "stdout",
     "output_type": "stream",
     "text": [
      "  $ $ $ $ $ $ $ $ $ $ $ $ $ $ $ $ $ $ $ \n",
      "    $ $ $ $ $ $ $ $ $ $ $ $ $ $ $ $ $ \n",
      "      $ $ $ $ $ $ $ $ $ $ $ $ $ $ $ \n",
      "        $ $ $ $ $ $ $ $ $ $ $ $ $ \n",
      "          $ $ $ $ $ $ $ $ $ $ $ \n",
      "            $ $ $ $ $ $ $ $ $ \n",
      "              $ $ $ $ $ $ $ \n",
      "                $ $ $ $ $ \n",
      "                  $ $ $ \n",
      "                    $ \n"
     ]
    }
   ],
   "source": [
    "foopattern(10)"
   ]
  },
  {
   "cell_type": "markdown",
   "id": "bd17ba2e",
   "metadata": {},
   "source": [
    "# `Rhombus`"
   ]
  },
  {
   "cell_type": "code",
   "execution_count": 165,
   "id": "05750c76",
   "metadata": {},
   "outputs": [
    {
     "name": "stdout",
     "output_type": "stream",
     "text": [
      "                    * \n",
      "                  * * * \n",
      "                * * * * * \n",
      "              * * * * * * * \n",
      "            * * * * * * * * * \n",
      "          * * * * * * * * * * * \n",
      "        * * * * * * * * * * * * * \n",
      "      * * * * * * * * * * * * * * * \n",
      "    * * * * * * * * * * * * * * * * * \n",
      "  * * * * * * * * * * * * * * * * * * * \n",
      "* * * * * * * * * * * * * * * * * * * * * \n",
      "  * * * * * * * * * * * * * * * * * * * \n",
      "    * * * * * * * * * * * * * * * * * \n",
      "      * * * * * * * * * * * * * * * \n",
      "        * * * * * * * * * * * * * \n",
      "          * * * * * * * * * * * \n",
      "            * * * * * * * * * \n",
      "              * * * * * * * \n",
      "                * * * * * \n",
      "                  * * * \n",
      "                    * \n"
     ]
    }
   ],
   "source": [
    "n=10\n",
    "for i in range(n):\n",
    "        for j in range(i,n):\n",
    "            print(' ',end=' ')\n",
    "        for j in range(i):\n",
    "            print('*',end=' ')\n",
    "        for j in range(i+1):\n",
    "            print('*',end=' ')\n",
    "        print()\n",
    "for i in range(n,-1,-1):\n",
    "        for j in range(i,n):\n",
    "            print(' ',end=' ')\n",
    "        for j in range(i):\n",
    "            print('*',end=' ')\n",
    "        for j in range(i+1):\n",
    "            print('*',end=' ')\n",
    "        print()\n",
    " "
   ]
  },
  {
   "cell_type": "code",
   "execution_count": 158,
   "id": "079c2784",
   "metadata": {},
   "outputs": [],
   "source": [
    "def foopattern(n):\n",
    "    for i in range(n):\n",
    "        for j in range(i,n):\n",
    "            print(' ',end=' ')\n",
    "        for j in range(i):\n",
    "            print('*',end=' ')\n",
    "        for j in range(i+1):\n",
    "            print('*',end=' ')\n",
    "        print()\n",
    "    for i in range(n,-1,-1):\n",
    "        for j in range(i,n):\n",
    "            print(' ',end=' ')\n",
    "        for j in range(i):\n",
    "            print('*',end=' ')\n",
    "        for j in range(i+1):\n",
    "            print('*',end=' ')\n",
    "        print()\n",
    " "
   ]
  },
  {
   "cell_type": "code",
   "execution_count": 159,
   "id": "ab190cce",
   "metadata": {},
   "outputs": [
    {
     "name": "stdout",
     "output_type": "stream",
     "text": [
      "                    * \n",
      "                  * * * \n",
      "                * * * * * \n",
      "              * * * * * * * \n",
      "            * * * * * * * * * \n",
      "          * * * * * * * * * * * \n",
      "        * * * * * * * * * * * * * \n",
      "      * * * * * * * * * * * * * * * \n",
      "    * * * * * * * * * * * * * * * * * \n",
      "  * * * * * * * * * * * * * * * * * * * \n",
      "* * * * * * * * * * * * * * * * * * * * * \n",
      "  * * * * * * * * * * * * * * * * * * * \n",
      "    * * * * * * * * * * * * * * * * * \n",
      "      * * * * * * * * * * * * * * * \n",
      "        * * * * * * * * * * * * * \n",
      "          * * * * * * * * * * * \n",
      "            * * * * * * * * * \n",
      "              * * * * * * * \n",
      "                * * * * * \n",
      "                  * * * \n",
      "                    * \n"
     ]
    }
   ],
   "source": [
    "foopattern(10)"
   ]
  },
  {
   "cell_type": "code",
   "execution_count": 166,
   "id": "32318549",
   "metadata": {},
   "outputs": [
    {
     "name": "stdout",
     "output_type": "stream",
     "text": [
      "                    $ \n",
      "                  $ $ $ \n",
      "                $ $ $ $ $ \n",
      "              $ $ $ $ $ $ $ \n",
      "            $ $ $ $ $ $ $ $ $ \n",
      "          $ $ $ $ $ $ $ $ $ $ $ \n",
      "        $ $ $ $ $ $ $ $ $ $ $ $ $ \n",
      "      $ $ $ $ $ $ $ $ $ $ $ $ $ $ $ \n",
      "    $ $ $ $ $ $ $ $ $ $ $ $ $ $ $ $ $ \n",
      "  $ $ $ $ $ $ $ $ $ $ $ $ $ $ $ $ $ $ $ \n",
      "$ $ $ $ $ $ $ $ $ $ $ $ $ $ $ $ $ $ $ $ $ \n",
      "  $ $ $ $ $ $ $ $ $ $ $ $ $ $ $ $ $ $ $ \n",
      "    $ $ $ $ $ $ $ $ $ $ $ $ $ $ $ $ $ \n",
      "      $ $ $ $ $ $ $ $ $ $ $ $ $ $ $ \n",
      "        $ $ $ $ $ $ $ $ $ $ $ $ $ \n",
      "          $ $ $ $ $ $ $ $ $ $ $ \n",
      "            $ $ $ $ $ $ $ $ $ \n",
      "              $ $ $ $ $ $ $ \n",
      "                $ $ $ $ $ \n",
      "                  $ $ $ \n",
      "                    $ \n"
     ]
    }
   ],
   "source": [
    "n=10\n",
    "for i in range(n):\n",
    "        for j in range(i,n):\n",
    "            print(' ',end=' ')\n",
    "        for j in range(i):\n",
    "            print('$',end=' ')\n",
    "        for j in range(i+1):\n",
    "            print('$',end=' ')\n",
    "        print()\n",
    "for i in range(n,-1,-1):\n",
    "        for j in range(i,n):\n",
    "            print(' ',end=' ')\n",
    "        for j in range(i):\n",
    "            print('$',end=' ')\n",
    "        for j in range(i+1):\n",
    "            print('$',end=' ')\n",
    "        print()\n",
    " "
   ]
  },
  {
   "cell_type": "markdown",
   "id": "8265358f",
   "metadata": {},
   "source": [
    "# `Sand Glass`"
   ]
  },
  {
   "cell_type": "code",
   "execution_count": 167,
   "id": "eed61c16",
   "metadata": {},
   "outputs": [
    {
     "name": "stdout",
     "output_type": "stream",
     "text": [
      "  * * * * * * * * * * * * * * * * * * * \n",
      "    * * * * * * * * * * * * * * * * * \n",
      "      * * * * * * * * * * * * * * * \n",
      "        * * * * * * * * * * * * * \n",
      "          * * * * * * * * * * * \n",
      "            * * * * * * * * * \n",
      "              * * * * * * * \n",
      "                * * * * * \n",
      "                  * * * \n",
      "                    * \n",
      "                    * \n",
      "                  * * * \n",
      "                * * * * * \n",
      "              * * * * * * * \n",
      "            * * * * * * * * * \n",
      "          * * * * * * * * * * * \n",
      "        * * * * * * * * * * * * * \n",
      "      * * * * * * * * * * * * * * * \n",
      "    * * * * * * * * * * * * * * * * * \n",
      "  * * * * * * * * * * * * * * * * * * * \n"
     ]
    }
   ],
   "source": [
    "n=10\n",
    "for i in range(n-1,-1,-1):\n",
    "    for j in range(i,n):\n",
    "        print(' ',end=' ')\n",
    "    for j in range(i):\n",
    "        print('*',end=' ')\n",
    "    for j in range(i+1):\n",
    "        print('*',end=' ')\n",
    "    print()\n",
    "for i in range(n):\n",
    "    for j in range(i,n):\n",
    "        print(' ',end=' ')\n",
    "    for j in range(i):\n",
    "        print('*',end=' ')\n",
    "    for j in range(i+1):\n",
    "        print('*',end=' ')\n",
    "    print()"
   ]
  },
  {
   "cell_type": "code",
   "execution_count": 169,
   "id": "cf8585b8",
   "metadata": {},
   "outputs": [
    {
     "name": "stdout",
     "output_type": "stream",
     "text": [
      "  $ $ $ $ $ $ $ $ $ $ $ $ $ $ $ $ $ $ $ \n",
      "    $ $ $ $ $ $ $ $ $ $ $ $ $ $ $ $ $ \n",
      "      $ $ $ $ $ $ $ $ $ $ $ $ $ $ $ \n",
      "        $ $ $ $ $ $ $ $ $ $ $ $ $ \n",
      "          $ $ $ $ $ $ $ $ $ $ $ \n",
      "            $ $ $ $ $ $ $ $ $ \n",
      "              $ $ $ $ $ $ $ \n",
      "                $ $ $ $ $ \n",
      "                  $ $ $ \n",
      "                    $ \n",
      "                    $ \n",
      "                  $ $ $ \n",
      "                $ $ $ $ $ \n",
      "              $ $ $ $ $ $ $ \n",
      "            $ $ $ $ $ $ $ $ $ \n",
      "          $ $ $ $ $ $ $ $ $ $ $ \n",
      "        $ $ $ $ $ $ $ $ $ $ $ $ $ \n",
      "      $ $ $ $ $ $ $ $ $ $ $ $ $ $ $ \n",
      "    $ $ $ $ $ $ $ $ $ $ $ $ $ $ $ $ $ \n",
      "  $ $ $ $ $ $ $ $ $ $ $ $ $ $ $ $ $ $ $ \n"
     ]
    }
   ],
   "source": [
    "n=10\n",
    "for i in range(n-1,-1,-1):\n",
    "    for j in range(i,n):\n",
    "        print(' ',end=' ')\n",
    "    for j in range(i):\n",
    "        print('$',end=' ')\n",
    "    for j in range(i+1):\n",
    "        print('$',end=' ')\n",
    "    print()\n",
    "for i in range(n):\n",
    "    for j in range(i,n):\n",
    "        print(' ',end=' ')\n",
    "    for j in range(i):\n",
    "        print('$',end=' ')\n",
    "    for j in range(i+1):\n",
    "        print('$',end=' ')\n",
    "    print()"
   ]
  },
  {
   "cell_type": "code",
   "execution_count": null,
   "id": "fb452c9a",
   "metadata": {},
   "outputs": [],
   "source": []
  }
 ],
 "metadata": {
  "kernelspec": {
   "display_name": "Python 3 (ipykernel)",
   "language": "python",
   "name": "python3"
  },
  "language_info": {
   "codemirror_mode": {
    "name": "ipython",
    "version": 3
   },
   "file_extension": ".py",
   "mimetype": "text/x-python",
   "name": "python",
   "nbconvert_exporter": "python",
   "pygments_lexer": "ipython3",
   "version": "3.11.5"
  }
 },
 "nbformat": 4,
 "nbformat_minor": 5
}
