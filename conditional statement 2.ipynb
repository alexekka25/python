{
 "cells": [
  {
   "cell_type": "markdown",
   "id": "a7b5714e",
   "metadata": {},
   "source": [
    "# 11 Create a dynamic calculator which asks for numbers and operator and return the answers,\n",
    "             Example\n",
    "    Input: Type first number: 10\",\n",
    "    Type any of this (+, -, *, /, %, **): ,*\n",
    "    Assignment-2 ,\n",
    "   Type second number: 19,\n",
    "    Output:Answer is 190\n",
    "\n",
    "\n"
   ]
  },
  {
   "cell_type": "code",
   "execution_count": 61,
   "id": "da5a59d4",
   "metadata": {},
   "outputs": [
    {
     "name": "stdout",
     "output_type": "stream",
     "text": [
      "number1: 6\n",
      "Enter the operation (+, -, *, /, %, **): *\n",
      "number2: 6\n",
      "Result: 36.0\n"
     ]
    }
   ],
   "source": [
    "number1 = float(input('number1: '))\n",
    "operation = input('Enter the operation (+, -, *, /, %, **): ')\n",
    "number2 = float(input('number2: '))\n",
    "\n",
    "if operation == '+':\n",
    "    result = number1 + number2      # for addition with number1 and number2 and gives result\n",
    "    print(\"Result:\", result)\n",
    "    \n",
    "elif operation == '-':                   # for subtraction with number1 and number2 and gives result\n",
    "    result = number1 - number2\n",
    "    print(\"Result:\", result)\n",
    "    \n",
    "elif operation == '*':                    # for multiplication with number1 and number2 and gives result\n",
    "    result = number1 * number2\n",
    "    print(\"Result:\", result)\n",
    "    \n",
    "elif operation == '/':                      # for division with number1 and number2 and gives result\n",
    "    result = number1 / number2\n",
    "    print(\"Result:\", result)\n",
    "    \n",
    "elif operation == '%':\n",
    "    result = number1 % number2            # which is the remainder when number1 is divided by number2\n",
    "    print(\"Result:\", result)\n",
    "    \n",
    "elif operation == '**':\n",
    "    result = number1 ** number2            #'**' operator to perform exponentiation\n",
    "    print(\"Result:\", result)\n",
    "    \n",
    "    \n",
    "else:\n",
    "    print(\"Invalid operation. Please enter one of the valid operators: +, -, *, /, %, **\")\n",
    "    "
   ]
  },
  {
   "cell_type": "markdown",
   "id": "3b8660d2",
   "metadata": {},
   "source": [
    "# 12`Manoj Kumar has family and friends. Help him remind them who is who. Given a string with a name, return the relation of that person to Manoj Kumar.,\n",
    " # Person Relation,\n"
   ]
  },
  {
   "cell_type": "code",
   "execution_count": 93,
   "id": "462b8174",
   "metadata": {},
   "outputs": [
    {
     "name": "stdout",
     "output_type": "stream",
     "text": [
      "Enter a name: priya\n",
      "The relationship of priya to alex is: Sister\n"
     ]
    }
   ],
   "source": [
    "name = input(\"Enter a name: \")  # Use if and elif statements to determine the relationship based on the name\n",
    "if name == \"priya\":     # priya is sister\n",
    "    relation = \"Sister\"\n",
    "elif name == \"adarsh\":    # adarsh is friend given\n",
    "    relation = \"Friend\"\n",
    "elif name == \"pritam\":     # pritam as cousin given\n",
    "    relation = \"Cousin\"\n",
    "elif name == \"xavier\":      # xavier as uncle given\n",
    "    relation = \"Uncle\"\n",
    "elif name == \"anupa\":        # anupa as aunt given\n",
    "    relation = \"Aunt\"\n",
    "elif name == \"alex\":          #self\n",
    "    relation = \"Self\"\n",
    "else:\n",
    "    relation = \"Unknown relation\"            #                Print the relationship based on the entered name\n",
    "print(\"The relationship of\", name, \"to alex is:\", relation)\n"
   ]
  },
  {
   "cell_type": "code",
   "execution_count": null,
   "id": "3f990002",
   "metadata": {},
   "outputs": [],
   "source": []
  },
  {
   "cell_type": "markdown",
   "id": "3a662b22",
   "metadata": {},
   "source": [
    "# 13 Write a python program that takes in a word and determines whether or not it is plural. A plural word is one that ends with “s”\n"
   ]
  },
  {
   "cell_type": "code",
   "execution_count": 105,
   "id": "4c4c055e",
   "metadata": {},
   "outputs": [
    {
     "name": "stdout",
     "output_type": "stream",
     "text": [
      "Enter a word: words\n",
      "plural\n"
     ]
    }
   ],
   "source": [
    "word = input(\"Enter a word: \")\n",
    "if word.endswith(\"s\"):                            #if the word ends with \"s\"\n",
    "    print('plural')                                        # If the word ends with \"s\", it's considered plural\n",
    "else:\n",
    "    print(\"The word '{}' is not plural.\".format(word))         # If the word doesn't end with \"s\", it's not plural"
   ]
  },
  {
   "cell_type": "code",
   "execution_count": null,
   "id": "f4a54608",
   "metadata": {},
   "outputs": [],
   "source": []
  },
  {
   "cell_type": "markdown",
   "id": "747cb24e",
   "metadata": {},
   "source": [
    "# 15 Take values of length and breadth of a rectangle from the user and check if it is square or not.\n"
   ]
  },
  {
   "cell_type": "code",
   "execution_count": 60,
   "id": "f1c97522",
   "metadata": {},
   "outputs": [
    {
     "name": "stdout",
     "output_type": "stream",
     "text": [
      "Enter the length of  rectangle: 4\n",
      "Enter the breadth of  rectangle: 4\n",
      "It's a square.\n"
     ]
    }
   ],
   "source": [
    "length = float(input('Enter the length of  rectangle: '))\n",
    "breadth = float(input('Enter the breadth of  rectangle: '))\n",
    "\n",
    "if length == breadth:\n",
    "    print(\"It's a square.\")          # Check if the length is equal to the breadth\n",
    "                                      # If the length is equal to the breadth, it's a square.\n",
    "else:\n",
    "    print(\"It's a rectangle.\")    #length and breadth are equal, it prints \"It's a square.\n",
    "    \n",
    "\n"
   ]
  },
  {
   "cell_type": "markdown",
   "id": "fd396d55",
   "metadata": {},
   "source": [
    "# 18 Accept three sides of the triangle and check whether the triangle is possible or not.(Triangle is possible only when the sum of any two sides is greater than 3 rd side)."
   ]
  },
  {
   "cell_type": "code",
   "execution_count": 65,
   "id": "4c1d0383",
   "metadata": {},
   "outputs": [
    {
     "name": "stdout",
     "output_type": "stream",
     "text": [
      "Enter the length of the first side: 7\n",
      "Enter the length of the second side: 9\n",
      "Enter the length of the third side: 5\n",
      "The triangle is valid.\n"
     ]
    }
   ],
   "source": [
    "side1 = float(input('Enter the length of the first side: '))   # Input the lengths of the three sides of the triangle\n",
    "side2 = float(input('Enter the length of the second side: '))\n",
    "side3 = float(input('Enter the length of the third side: '))\n",
    "\n",
    "if (side1 + side2 > side3) and (side1 + side3 > side2) and (side2 + side3 > side1):  # Check if the triangle is possible\n",
    "    print(\"The triangle is valid.\")                                                  # 5*2 + 7*2 = 25+ 49= 74\n",
    "else:                                                   # the converse of pythagorean thereom is obtuse triange \n",
    "    print(\"The triangle is not valid.\")\n"
   ]
  },
  {
   "cell_type": "markdown",
   "id": "31da02b7",
   "metadata": {},
   "source": [
    "# 10 Create rock-paper-scissors by using the if condition."
   ]
  },
  {
   "cell_type": "code",
   "execution_count": 113,
   "id": "2b235878",
   "metadata": {},
   "outputs": [
    {
     "name": "stdout",
     "output_type": "stream",
     "text": [
      "player-I:p\n",
      "player-II:s\n",
      "Player-II wins\n"
     ]
    }
   ],
   "source": [
    "a, b = input('player-I:').lower(), input('player-II:').lower()  \n",
    "\n",
    "if a == b:         #               # two players to enter their choices and convert them to lowercase for case insensitivity.\n",
    "    print('a tie')                    # Check if player-I chooses 'rock  \n",
    "elif a == 'r':                     # If player-II chooses 'paper', player-II wins\n",
    "    if b == 'p':\n",
    "        print('Player-II wins')\n",
    "    elif b == 's':                      \n",
    "        print('Player-I wins')\n",
    "elif a == 'p':                    # If player-II chooses 'rock', player-I wins\n",
    "    if b == 'r':                          # If player-II chooses 'scissors', player-II wins\n",
    "        print('Player-I wins')\n",
    "    elif b == 's':\n",
    "        print('Player-II wins')\n",
    "elif a == 's':                         # If player-II chooses 'rock', player-II wins\n",
    "    if b == 'r':                     # If player-II chooses 'paper', player-I wins\n",
    "        print('Player-II wins')\n",
    "    elif b == 'p':\n",
    "        print('Player-I wins')       # invalid inputs shows put valid word\n",
    "else:\n",
    "    print('Invalid input. Please enter \"r\" (rock), \"p\" (paper), or \"s\" (scissors).')\n",
    " "
   ]
  },
  {
   "cell_type": "code",
   "execution_count": null,
   "id": "de5cb5b5",
   "metadata": {},
   "outputs": [],
   "source": []
  }
 ],
 "metadata": {
  "kernelspec": {
   "display_name": "Python 3 (ipykernel)",
   "language": "python",
   "name": "python3"
  },
  "language_info": {
   "codemirror_mode": {
    "name": "ipython",
    "version": 3
   },
   "file_extension": ".py",
   "mimetype": "text/x-python",
   "name": "python",
   "nbconvert_exporter": "python",
   "pygments_lexer": "ipython3",
   "version": "3.11.5"
  }
 },
 "nbformat": 4,
 "nbformat_minor": 5
}
