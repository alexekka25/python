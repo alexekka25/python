{
 "cells": [
  {
   "cell_type": "markdown",
   "id": "fe652362",
   "metadata": {},
   "source": [
    "# `51`"
   ]
  },
  {
   "cell_type": "code",
   "execution_count": 12,
   "id": "b4521add",
   "metadata": {},
   "outputs": [
    {
     "name": "stdout",
     "output_type": "stream",
     "text": [
      "Enter the number of rows: 4\n",
      "DDDDDDD\n",
      " CCCCC\n",
      "  BBB\n",
      "   A\n"
     ]
    }
   ],
   "source": [
    "def foopattern(n):\n",
    "    \"\"\"\n",
    "    Generate a pattern of uppercase letters in a diagonal form based on the input value 'n'.\n",
    "\n",
    "    Parameters:\n",
    "    - n (int): The number of rows in the pattern.\n",
    "\n",
    "    Output:\n",
    "    Prints a pattern of uppercase letters and spaces, where each row contains letters in a diagonal form,\n",
    "    and spaces are used to create a symmetric pattern.\n",
    "    \"\"\"\n",
    "    decr = n * 2 - 1\n",
    "    for x in range(n, 0, -1):\n",
    "        for y in range(x, n):\n",
    "            print(\" \", end=\"\")\n",
    "        for z in range(1, decr + 1):\n",
    "            print(chr(x + 64), end=\"\")\n",
    "        decr -= 2\n",
    "        print()\n",
    "\n",
    "n = int(input(\"Enter the number of rows: \"))\n",
    "\n",
    "foopattern(n)\n"
   ]
  },
  {
   "cell_type": "markdown",
   "id": "0fd87072",
   "metadata": {},
   "source": [
    "# `52`"
   ]
  },
  {
   "cell_type": "code",
   "execution_count": 15,
   "id": "28e077c3",
   "metadata": {},
   "outputs": [
    {
     "name": "stdout",
     "output_type": "stream",
     "text": [
      "Enter the decrement value: 7\n",
      " GGGGGGG\n",
      "  EEEEE\n",
      "   CCC\n",
      "    A\n"
     ]
    }
   ],
   "source": [
    "def foopattern(decr_value):\n",
    "    \"\"\"\n",
    "    Generate a pattern of uppercase letters in a diagonal form based on the input value 'decr_value'.\n",
    "\n",
    "    Parameters:\n",
    "    - decr_value (int): The value used for decrementing.\n",
    "\n",
    "    Output:\n",
    "    Prints a pattern of uppercase letters and spaces, where each row contains letters in a diagonal form,\n",
    "    and spaces are used to create a symmetric pattern.\n",
    "    \"\"\"\n",
    "    for x in range(4, 0, -1):\n",
    "        for y in range(x, 5):\n",
    "            print(\" \", end=\"\")\n",
    "        for z in range(1, decr_value + 1):\n",
    "            print(chr(decr_value + 64), end=\"\")\n",
    "        decr_value -= 2\n",
    "        print()\n",
    "\n",
    "decr_value = int(input(\"Enter the decrement value: \"))\n",
    "\n",
    "foopattern(decr_value)\n"
   ]
  },
  {
   "cell_type": "markdown",
   "id": "bca10f64",
   "metadata": {},
   "source": [
    "# `53`"
   ]
  },
  {
   "cell_type": "code",
   "execution_count": 10,
   "id": "284fc10f",
   "metadata": {},
   "outputs": [
    {
     "name": "stdout",
     "output_type": "stream",
     "text": [
      "Enter the decrement value: 7\n",
      " ABCDEFG\n",
      "  ABCDE\n",
      "   ABC\n",
      "    A\n"
     ]
    }
   ],
   "source": [
    "def foopattern(decr_value):\n",
    "    \"\"\"\n",
    "    Generate a pattern of uppercase letters in a diagonal form based on the input value 'decr_value'.\n",
    "\n",
    "    Parameters:\n",
    "    - decr_value (int): The value used for decrementing.\n",
    "\n",
    "    Output:\n",
    "    Prints a pattern of uppercase letters and spaces, where each row contains letters in a diagonal form,\n",
    "    and spaces are used to create a symmetric pattern.\n",
    "    \"\"\"\n",
    "    for x in range(4, 0, -1):\n",
    "        for y in range(x, 5):\n",
    "            print(\" \", end=\"\")\n",
    "        for z in range(1, decr_value + 1):\n",
    "            print(chr(z + 64), end=\"\")\n",
    "        decr_value -= 2\n",
    "        print()\n",
    "\n",
    "decr_value = int(input(\"Enter the decrement value: \"))\n",
    "foopattern(decr_value)\n"
   ]
  },
  {
   "cell_type": "markdown",
   "id": "44338386",
   "metadata": {},
   "source": [
    "# `54`"
   ]
  },
  {
   "cell_type": "code",
   "execution_count": 7,
   "id": "85a53580",
   "metadata": {},
   "outputs": [
    {
     "name": "stdout",
     "output_type": "stream",
     "text": [
      "Enter the size of the pattern: 3\n",
      "*\n",
      "**\n",
      "***\n",
      "****\n",
      "***\n",
      "**\n",
      "*\n"
     ]
    }
   ],
   "source": [
    "def foopattern(size):\n",
    "    \"\"\"\n",
    "    Generate a pattern of asterisks in a specific form based on the input size.\n",
    "\n",
    "    Parameters:\n",
    "    - size (int): The size of the pattern.\n",
    "\n",
    "    Output:\n",
    "    Prints a pattern of asterisks, where each row contains asterisks in a specific form.\n",
    "    \"\"\"\n",
    "    for x in range(size, -(size + 1), -1):\n",
    "        for y in range(size, abs(x) - 1, -1):\n",
    "            print(\"*\", end=\"\")\n",
    "        print()\n",
    "\n",
    "size = int(input(\"Enter the size of the pattern: \"))\n",
    "\n",
    "foopattern(size)\n"
   ]
  },
  {
   "cell_type": "markdown",
   "id": "39679904",
   "metadata": {},
   "source": [
    "# `55`"
   ]
  },
  {
   "cell_type": "code",
   "execution_count": 10,
   "id": "77e67906",
   "metadata": {},
   "outputs": [
    {
     "name": "stdout",
     "output_type": "stream",
     "text": [
      "Enter the size of the pattern: 3\n",
      "3\n",
      "32\n",
      "321\n",
      "3210\n",
      "321\n",
      "32\n",
      "3\n"
     ]
    }
   ],
   "source": [
    "def foopattern(size):\n",
    "    \"\"\"\n",
    "    Generate a pattern of numbers in a specific form based on the input size.\n",
    "\n",
    "    Parameters:\n",
    "    - size (int): The size of the pattern.\n",
    "\n",
    "    Output:\n",
    "    Prints a pattern of numbers, where each row contains numbers in a specific form.\n",
    "    \"\"\"\n",
    "    for x in range(size, -(size + 1), -1):\n",
    "        for y in range(size, abs(x) - 1, -1):\n",
    "            print(y, end=\"\")\n",
    "        print()\n",
    "\n",
    "size = int(input(\"Enter the size of the pattern: \"))\n",
    "\n",
    "foopattern(size)\n"
   ]
  },
  {
   "cell_type": "code",
   "execution_count": null,
   "id": "2758242b",
   "metadata": {},
   "outputs": [],
   "source": []
  }
 ],
 "metadata": {
  "kernelspec": {
   "display_name": "Python 3 (ipykernel)",
   "language": "python",
   "name": "python3"
  },
  "language_info": {
   "codemirror_mode": {
    "name": "ipython",
    "version": 3
   },
   "file_extension": ".py",
   "mimetype": "text/x-python",
   "name": "python",
   "nbconvert_exporter": "python",
   "pygments_lexer": "ipython3",
   "version": "3.11.5"
  }
 },
 "nbformat": 4,
 "nbformat_minor": 5
}
