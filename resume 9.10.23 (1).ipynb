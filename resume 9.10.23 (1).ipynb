{
 "cells": [
  {
   "cell_type": "markdown",
   "id": "18dbe9db",
   "metadata": {},
   "source": [
    "# <center>RESUME</center>"
   ]
  },
  {
   "attachments": {
    "IMG_20210709_163143.jpg": {
     "image/jpeg": "[encoded data removed]"
    }
   },
   "cell_type": "markdown",
   "id": "bbdfc605",
   "metadata": {},
   "source": [
    "# Name-Alex ekka \n",
    "# Email- alexekka99@gmail.com\n",
    "# 830******   \n",
    "![IMG_20210709_163143.jpg](attachment:IMG_20210709_163143.jpg)"
   ]
  },
  {
   "cell_type": "markdown",
   "id": "1a313427",
   "metadata": {},
   "source": [
    "# `OBJECTIVE`\n",
    "> A highly organized and hardworking individual looking for responsible position to gain practical and experience\n",
    "\n"
   ]
  },
  {
   "cell_type": "markdown",
   "id": "3c80255e",
   "metadata": {},
   "source": [
    "# `EXPERIENCE`\n",
    "> Event industry for one year"
   ]
  },
  {
   "cell_type": "markdown",
   "id": "d6c1e7bc",
   "metadata": {},
   "source": [
    "# `EDUCATION`\n",
    "> 1.Graduation \n",
    "\n",
    "           . Andhra university Bsc life science\n",
    "\n",
    "> 2.School\n",
    "\n",
    "            .CBSE board 12th class K.V koliwada mumbai\n",
    "\n",
    "            .CBSE board 10th class K.V koliwada mumbai"
   ]
  },
  {
   "cell_type": "markdown",
   "id": "83329b5e",
   "metadata": {},
   "source": [
    "# `SKILLS`\n",
    "> Team mangement\n",
    "\n",
    "> communication \n",
    "\n",
    "> python\n",
    "\n",
    "> SQL\n",
    "\n",
    "> Tabeau"
   ]
  },
  {
   "cell_type": "markdown",
   "id": "47e67599",
   "metadata": {},
   "source": [
    "# `LANGUAGES`\n",
    "> English\n",
    "\n",
    "> Hindi"
   ]
  },
  {
   "cell_type": "markdown",
   "id": "04351b9d",
   "metadata": {},
   "source": [
    "# `Links`\n",
    "\n",
    "> [Github](https://github.com/alexekka25)\n",
    "\n",
    "> [Kaggle](https://www.kaggle.com/alexekka)\n",
    "\n",
    "> [Medium](https://medium.com/@alexekka99)\n",
    " \n",
    "    "
   ]
  },
  {
   "cell_type": "code",
   "execution_count": null,
   "id": "788e1890",
   "metadata": {},
   "outputs": [],
   "source": []
  }
 ],
 "metadata": {
  "kernelspec": {
   "display_name": "Python 3 (ipykernel)",
   "language": "python",
   "name": "python3"
  },
  "language_info": {
   "codemirror_mode": {
    "name": "ipython",
    "version": 3
   },
   "file_extension": ".py",
   "mimetype": "text/x-python",
   "name": "python",
   "nbconvert_exporter": "python",
   "pygments_lexer": "ipython3",
   "version": "3.11.5"
  }
 },
 "nbformat": 4,
 "nbformat_minor": 5
}
