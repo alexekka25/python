{
 "cells": [
  {
   "cell_type": "markdown",
   "id": "3f002496",
   "metadata": {},
   "source": [
    "# `81`"
   ]
  },
  {
   "cell_type": "code",
   "execution_count": 81,
   "id": "3af0edde",
   "metadata": {},
   "outputs": [
    {
     "name": "stdout",
     "output_type": "stream",
     "text": [
      "Enter the number of rows: 6\n",
      "     *      \n",
      "    * *     \n",
      "   *   *    \n",
      "  *     *   \n",
      " *       *  \n",
      "*         * \n"
     ]
    }
   ],
   "source": [
    "def foopattern(n):\n",
    "    \"\"\"\n",
    "    Generate a pattern of asterisks based on the input value 'n'.\n",
    "\n",
    "    Parameters:\n",
    "    - n (int): The number of rows in the pattern.\n",
    "\n",
    "    Output:\n",
    "    Prints a pattern of asterisks and spaces.\n",
    "    \"\"\"\n",
    "\n",
    "    px = n\n",
    "    py = n\n",
    "\n",
    "    for x in range(1, n + 1):\n",
    "        for y in range(1, n * 2 + 1):\n",
    "            if y == px or y == py:\n",
    "                print(\"*\", end=\"\")\n",
    "            else:\n",
    "                print(\" \", end=\"\")\n",
    "        px -= 1\n",
    "        py += 1\n",
    "        print()\n",
    "\n",
    "n = int(input(\"Enter the number of rows: \"))\n",
    "\n",
    "foopattern(n)"
   ]
  },
  {
   "cell_type": "markdown",
   "id": "4fda5740",
   "metadata": {},
   "source": [
    "# `82`"
   ]
  },
  {
   "cell_type": "code",
   "execution_count": 80,
   "id": "8a538d86",
   "metadata": {},
   "outputs": [
    {
     "name": "stdout",
     "output_type": "stream",
     "text": [
      "Enter the number of rows: 5\n",
      "    1     \n",
      "   2 2    \n",
      "  3   3   \n",
      " 4     4  \n",
      "5       5 \n"
     ]
    }
   ],
   "source": [
    "def foopattern(n):\n",
    "    \"\"\"\n",
    "    Generate a pattern of numbers based on the input value 'n'.\n",
    "\n",
    "    Parameters:\n",
    "    - n (int): The number of rows in the pattern.\n",
    "\n",
    "    Output:\n",
    "    Prints a pattern of numbers and spaces.\n",
    "    \"\"\"\n",
    "\n",
    "    px = n\n",
    "    py = n\n",
    "    num = 1\n",
    "\n",
    "    for x in range(1, n + 1):\n",
    "        for y in range(1, n * 2 + 1):\n",
    "            if y == px or y == py:\n",
    "                print(num, end=\"\")\n",
    "            else:\n",
    "                print(\" \", end=\"\")\n",
    "        px -= 1\n",
    "        py += 1\n",
    "        num += 1 \n",
    "        print()\n",
    "\n",
    "n = int(input(\"Enter the number of rows: \"))\n",
    "\n",
    "foopattern(n)"
   ]
  },
  {
   "cell_type": "markdown",
   "id": "a4c48556",
   "metadata": {},
   "source": [
    "# `83`"
   ]
  },
  {
   "cell_type": "code",
   "execution_count": 79,
   "id": "77552dda",
   "metadata": {},
   "outputs": [
    {
     "name": "stdout",
     "output_type": "stream",
     "text": [
      "Enter the number of rows: 5\n",
      "    5     \n",
      "   4 4    \n",
      "  3   3   \n",
      " 2     2  \n",
      "1       1 \n"
     ]
    }
   ],
   "source": [
    "def foopattern(n):\n",
    "    \"\"\"\n",
    "    Generate a pattern of numbers in descending order based on the input value 'n'.\n",
    "\n",
    "    Parameters:\n",
    "    - n (int): The number of rows in the pattern.\n",
    "\n",
    "    Output:\n",
    "    Prints a pattern of numbers and spaces, where each row contains a sequence\n",
    "    of numbers in descending order, and spaces are used to create a symmetric pattern.\n",
    "    \"\"\"\n",
    "\n",
    "    px = n\n",
    "    py = n\n",
    "    num = n\n",
    "\n",
    "    for x in range(1, n + 1):\n",
    "        for y in range(1, n * 2 + 1):\n",
    "            if y == px or y == py:\n",
    "                print(num, end=\"\")\n",
    "            else:\n",
    "                print(\" \", end=\"\")\n",
    "        px -= 1\n",
    "        py += 1\n",
    "        num -= 1  \n",
    "        print()\n",
    "\n",
    "n = int(input(\"Enter the number of rows: \"))\n",
    "\n",
    "foopattern(n)"
   ]
  },
  {
   "cell_type": "markdown",
   "id": "6967d4b1",
   "metadata": {},
   "source": [
    "# `84`"
   ]
  },
  {
   "cell_type": "code",
   "execution_count": 84,
   "id": "04f9649e",
   "metadata": {},
   "outputs": [
    {
     "name": "stdout",
     "output_type": "stream",
     "text": [
      "Enter the number of rows: 5\n",
      "    A     \n",
      "   B B    \n",
      "  C   C   \n",
      " D     D  \n",
      "E       E \n"
     ]
    }
   ],
   "source": [
    "def foopattern(n):\n",
    "    \"\"\"\n",
    "    Generate a pattern of uppercase letters in a diagonal form based on the input value 'n'.\n",
    "\n",
    "    Parameters:\n",
    "    - n (int): The number of rows in the pattern.\n",
    "\n",
    "    Output:\n",
    "    Prints a pattern of uppercase letters and spaces, where each row contains letters in a\n",
    "    diagonal form, and spaces are used to create a symmetric pattern.\n",
    "    \"\"\"\n",
    "    px = n\n",
    "    py = n\n",
    "\n",
    "    for x in range(1, n + 1):\n",
    "        for y in range(1, n * 2 + 1):\n",
    "            if y == px or y == py:\n",
    "                print(chr(x + 64), end=\"\")\n",
    "            else:\n",
    "                print(\" \", end=\"\")\n",
    "        px -= 1\n",
    "        py += 1\n",
    "        print()\n",
    "\n",
    "n = int(input(\"Enter the number of rows: \"))\n",
    "\n",
    "foopattern(n)"
   ]
  },
  {
   "cell_type": "markdown",
   "id": "7ab17af6",
   "metadata": {},
   "source": [
    "# `85`"
   ]
  },
  {
   "cell_type": "code",
   "execution_count": 2,
   "id": "476802ee",
   "metadata": {},
   "outputs": [
    {
     "name": "stdout",
     "output_type": "stream",
     "text": [
      "Enter the number of rows: 5\n",
      "    E     \n",
      "   D D    \n",
      "  C   C   \n",
      " B     B  \n",
      "A       A \n"
     ]
    }
   ],
   "source": [
    "def foopattern(n):\n",
    "    \"\"\"\n",
    "    Generate a pattern of uppercase letters in descending order based on the input value 'n'.\n",
    "\n",
    "    Parameters:\n",
    "    - n (int): The number of rows in the pattern.\n",
    "\n",
    "    Output:\n",
    "    Prints a pattern of uppercase letters and spaces, where each row contains a sequence\n",
    "    of letters in descending alphabetical order, and spaces are used to create a symmetric pattern.\n",
    "    \"\"\"\n",
    "    px = n\n",
    "    py = n\n",
    "    num = n\n",
    "\n",
    "    for x in range(1, n + 1):\n",
    "        for y in range(1, n * 2 + 1):\n",
    "            if y == px or y == py:\n",
    "                print(chr(ord('A') + num - 1), end=\"\")\n",
    "            else:\n",
    "                print(\" \", end=\"\")\n",
    "        px -= 1\n",
    "        py += 1\n",
    "        num -= 1\n",
    "        print()\n",
    "\n",
    "n = int(input(\"Enter the number of rows: \"))\n",
    "\n",
    "foopattern(n)\n"
   ]
  },
  {
   "cell_type": "markdown",
   "id": "4fcc0958",
   "metadata": {},
   "source": [
    "# `86`"
   ]
  },
  {
   "cell_type": "code",
   "execution_count": 10,
   "id": "3626c240",
   "metadata": {},
   "outputs": [
    {
     "name": "stdout",
     "output_type": "stream",
     "text": [
      "Enter the number of rows: 5\n",
      "*       * \n",
      " *     *  \n",
      "  *   *   \n",
      "   * *    \n",
      "    *     \n"
     ]
    }
   ],
   "source": [
    "def foopattern(n):\n",
    "    \"\"\"\n",
    "    Generate a pattern of asterisks in a diagonal form based on the input value 'n'.\n",
    "\n",
    "    Parameters:\n",
    "    - n (int): The number of rows in the pattern.\n",
    "\n",
    "    Output:\n",
    "    Prints a pattern of asterisks and spaces, where each row contains asterisks in a diagonal form,\n",
    "    and spaces are used to create a symmetric pattern.\n",
    "    \"\"\"\n",
    "    px = 1\n",
    "    py = n * 2 - 1\n",
    "\n",
    "    for x in range(1, n + 1):\n",
    "        for y in range(1, n * 2 + 1):\n",
    "            if y == px or y == py:\n",
    "                print(\"*\", end=\"\")\n",
    "            else:\n",
    "                print(\" \", end=\"\")\n",
    "        px += 1\n",
    "        py -= 1\n",
    "        print()\n",
    "\n",
    "n = int(input(\"Enter the number of rows: \"))\n",
    "\n",
    "foopattern(n)"
   ]
  },
  {
   "cell_type": "markdown",
   "id": "1126ef5c",
   "metadata": {},
   "source": [
    "# `87`"
   ]
  },
  {
   "cell_type": "code",
   "execution_count": 4,
   "id": "14f39d48",
   "metadata": {},
   "outputs": [
    {
     "name": "stdout",
     "output_type": "stream",
     "text": [
      "Enter the number of rows: 5\n",
      "1       1 \n",
      " 2     2  \n",
      "  3   3   \n",
      "   4 4    \n",
      "    5     \n"
     ]
    }
   ],
   "source": [
    "def foopattern(n):\n",
    "    \"\"\"\n",
    "    Generate a pattern of numbers in a diagonal form based on the input value 'n'.\n",
    "\n",
    "    Parameters:\n",
    "    - n (int): The number of rows in the pattern.\n",
    "\n",
    "    Output:\n",
    "    Prints a pattern of numbers and spaces, where each row contains numbers in a diagonal form,\n",
    "    and spaces are used to create a symmetric pattern.\n",
    "    \"\"\"\n",
    "    px = 1\n",
    "    py = n * 2 - 1\n",
    "\n",
    "    for x in range(1, n + 1):\n",
    "        for y in range(1, n * 2 + 1):\n",
    "            if y == px or y == py:\n",
    "                print(x, end=\"\")\n",
    "            else:\n",
    "                print(\" \", end=\"\")\n",
    "        px += 1\n",
    "        py -= 1\n",
    "        print()\n",
    "\n",
    "n = int(input(\"Enter the number of rows: \"))\n",
    "\n",
    "foopattern(n)"
   ]
  },
  {
   "cell_type": "markdown",
   "id": "3cc7a3e4",
   "metadata": {},
   "source": [
    "# `88`"
   ]
  },
  {
   "cell_type": "code",
   "execution_count": 6,
   "id": "3fb59210",
   "metadata": {},
   "outputs": [
    {
     "name": "stdout",
     "output_type": "stream",
     "text": [
      "Enter the number of rows: 5\n",
      "5       5 \n",
      " 4     4  \n",
      "  3   3   \n",
      "   2 2    \n",
      "    1     \n"
     ]
    }
   ],
   "source": [
    "def foopattern(n):\n",
    "    \"\"\"\n",
    "    Generate a pattern of numbers in descending order in a diagonal form based on the input value 'n'.\n",
    "\n",
    "    Parameters:\n",
    "    - n (int): The number of rows in the pattern.\n",
    "\n",
    "    Output:\n",
    "    Prints a pattern of numbers and spaces, where each row contains numbers in descending order\n",
    "    in a diagonal form, and spaces are used to create a symmetric pattern.\n",
    "    \"\"\"\n",
    "    px = 1\n",
    "    py = n * 2 - 1\n",
    "\n",
    "    for x in range(n, 0, -1):\n",
    "        for y in range(1, n * 2 + 1):\n",
    "            if y == px or y == py:\n",
    "                print(x, end=\"\")\n",
    "            else:\n",
    "                print(\" \", end=\"\")\n",
    "        px += 1\n",
    "        py -= 1\n",
    "        print()\n",
    "\n",
    "n = int(input(\"Enter the number of rows: \"))\n",
    "\n",
    "foopattern(n)"
   ]
  },
  {
   "cell_type": "markdown",
   "id": "a8b0ceae",
   "metadata": {},
   "source": [
    "# `89`"
   ]
  },
  {
   "cell_type": "code",
   "execution_count": 7,
   "id": "1739940b",
   "metadata": {},
   "outputs": [
    {
     "name": "stdout",
     "output_type": "stream",
     "text": [
      "Enter the number of rows: 5\n",
      "A       A \n",
      " B     B  \n",
      "  C   C   \n",
      "   D D    \n",
      "    E     \n"
     ]
    }
   ],
   "source": [
    "def foopattern(n):\n",
    "    \"\"\"\n",
    "    Generate a pattern of uppercase letters in a diagonal form based on the input value 'n'.\n",
    "\n",
    "    Parameters:\n",
    "    - n (int): The number of rows in the pattern.\n",
    "\n",
    "    Output:\n",
    "    Prints a pattern of uppercase letters and spaces, where each row contains letters in a diagonal form,\n",
    "    and spaces are used to create a symmetric pattern.\n",
    "    \"\"\"\n",
    "    px = 1\n",
    "    py = n * 2 - 1\n",
    "\n",
    "    for x in range(1, n + 1):\n",
    "        for y in range(1, n * 2 + 1):\n",
    "            if y == px or y == py:\n",
    "                print(chr(x + 64), end=\"\")\n",
    "            else:\n",
    "                print(\" \", end=\"\")\n",
    "        px += 1\n",
    "        py -= 1\n",
    "        print()\n",
    "\n",
    "n = int(input(\"Enter the number of rows: \"))\n",
    "\n",
    "foopattern(n)"
   ]
  },
  {
   "cell_type": "markdown",
   "id": "dbe2d233",
   "metadata": {},
   "source": [
    "# `90`"
   ]
  },
  {
   "cell_type": "code",
   "execution_count": 9,
   "id": "cc4957ca",
   "metadata": {},
   "outputs": [
    {
     "name": "stdout",
     "output_type": "stream",
     "text": [
      "Enter the number of rows: 5\n",
      "E       E \n",
      " D     D  \n",
      "  C   C   \n",
      "   B B    \n",
      "    A     \n"
     ]
    }
   ],
   "source": [
    "def foopattern(n):\n",
    "    \"\"\"\n",
    "    Generate a pattern of uppercase letters in descending order in a diagonal form based on the input value 'n'.\n",
    "\n",
    "    Parameters:\n",
    "    - n (int): The number of rows in the pattern.\n",
    "\n",
    "    Output:\n",
    "    Prints a pattern of uppercase letters and spaces, where each row contains letters in descending order\n",
    "    in a diagonal form, and spaces are used to create a symmetric pattern.\n",
    "    \"\"\"\n",
    "    px = 1\n",
    "    py = n * 2 - 1\n",
    "\n",
    "    for x in range(n, 0, -1):\n",
    "        for y in range(1, n * 2 + 1):\n",
    "            if y == px or y == py:\n",
    "                print(chr(x + 64), end=\"\")\n",
    "            else:\n",
    "                print(\" \", end=\"\")\n",
    "        px += 1\n",
    "        py -= 1\n",
    "        print()\n",
    "        \n",
    "n = int(input(\"Enter the number of rows: \"))\n",
    "\n",
    "foopattern(n)"
   ]
  },
  {
   "cell_type": "code",
   "execution_count": null,
   "id": "5d8483a2",
   "metadata": {},
   "outputs": [],
   "source": []
  }
 ],
 "metadata": {
  "kernelspec": {
   "display_name": "Python 3 (ipykernel)",
   "language": "python",
   "name": "python3"
  },
  "language_info": {
   "codemirror_mode": {
    "name": "ipython",
    "version": 3
   },
   "file_extension": ".py",
   "mimetype": "text/x-python",
   "name": "python",
   "nbconvert_exporter": "python",
   "pygments_lexer": "ipython3",
   "version": "3.11.5"
  }
 },
 "nbformat": 4,
 "nbformat_minor": 5
}
