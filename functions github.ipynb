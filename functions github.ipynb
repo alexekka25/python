{
 "cells": [
  {
   "cell_type": "markdown",
   "id": "d790cd41",
   "metadata": {},
   "source": [
    " # <center><font color='green'>function</font></center>"
   ]
  },
  {
   "cell_type": "markdown",
   "id": "1cd37b2a",
   "metadata": {},
   "source": [
    "## A function is a block of code which only runs when it is called.\n",
    "\n",
    "## You can pass data, known as parameters, into a function.\n",
    "\n",
    "## A function can return data as a result."
   ]
  },
  {
   "cell_type": "code",
   "execution_count": null,
   "id": "3c8d73d8",
   "metadata": {},
   "outputs": [],
   "source": []
  },
  {
   "cell_type": "markdown",
   "id": "951d5207",
   "metadata": {},
   "source": [
    "# `Creating a Function`\n",
    "In Python a function is defined using the def keyword:"
   ]
  },
  {
   "cell_type": "code",
   "execution_count": 4,
   "id": "13490fe3",
   "metadata": {},
   "outputs": [],
   "source": [
    "def my_function():                 # This is the body of the function.\n",
    "  print(\"Hello python\")  # It contains the code that will be executed when the function is called."
   ]
  },
  {
   "cell_type": "code",
   "execution_count": 5,
   "id": "b4757ccd",
   "metadata": {},
   "outputs": [
    {
     "name": "stdout",
     "output_type": "stream",
     "text": [
      "Hello python\n"
     ]
    }
   ],
   "source": [
    "my_function()       # To call the 'my_function', you can do this:"
   ]
  },
  {
   "cell_type": "markdown",
   "id": "b2363cbd",
   "metadata": {},
   "source": [
    "# `calling function`"
   ]
  },
  {
   "cell_type": "markdown",
   "id": "e690d6a5",
   "metadata": {},
   "source": [
    "### To call a function, use the function name followed by parenthesis:"
   ]
  },
  {
   "cell_type": "code",
   "execution_count": 6,
   "id": "4ab1b6b6",
   "metadata": {},
   "outputs": [
    {
     "name": "stdout",
     "output_type": "stream",
     "text": [
      "Hello python\n"
     ]
    }
   ],
   "source": [
    "my_function()"
   ]
  },
  {
   "cell_type": "markdown",
   "id": "f8845ec1",
   "metadata": {},
   "source": [
    "# `Default Parameter Value`"
   ]
  },
  {
   "cell_type": "markdown",
   "id": "cf2a9433",
   "metadata": {},
   "source": [
    "## If we call the function without argument, it uses the default value:"
   ]
  },
  {
   "cell_type": "code",
   "execution_count": 12,
   "id": "7a48b113",
   "metadata": {},
   "outputs": [
    {
     "name": "stdout",
     "output_type": "stream",
     "text": [
      "I am from Sweden\n",
      "I am from India\n",
      "I am from Norway\n",
      "I am from Brazil\n"
     ]
    }
   ],
   "source": [
    "def my_function(country = \"Norway\"):\n",
    "  print(\"I am from \" + country)\n",
    "\n",
    "my_function(\"Sweden\")\n",
    "my_function(\"India\")\n",
    "my_function()  # default value\n",
    "my_function(\"Brazil\")\n"
   ]
  },
  {
   "cell_type": "code",
   "execution_count": null,
   "id": "5d7201ab",
   "metadata": {},
   "outputs": [],
   "source": []
  },
  {
   "cell_type": "code",
   "execution_count": null,
   "id": "9a79f0a5",
   "metadata": {},
   "outputs": [],
   "source": []
  },
  {
   "cell_type": "markdown",
   "id": "bc47b164",
   "metadata": {},
   "source": [
    "# `Positional Arguments`\n",
    "## Positional arguments are passed to a function in the order in which the function expects them. The position of the argument determines which parameter it corresponds to in the function definition"
   ]
  },
  {
   "cell_type": "code",
   "execution_count": 7,
   "id": "f2c328de",
   "metadata": {},
   "outputs": [
    {
     "name": "stdout",
     "output_type": "stream",
     "text": [
      "Hello, max!\n",
      "Hi, sam!\n"
     ]
    }
   ],
   "source": [
    "def greet(name, greeting):\n",
    "    print(f\"{greeting}, {name}!\")\n",
    "\n",
    "# Calling the function with positional arguments\n",
    "greet(\"max\", \"Hello\")  \n",
    "greet(\"sam\", \"Hi\")       \n"
   ]
  },
  {
   "cell_type": "markdown",
   "id": "5d89b6b4",
   "metadata": {},
   "source": [
    "# `Keyword Arguments`\n",
    "## Keyword arguments are passed by explicitly specifying the parameter name followed by a colon and the value. This allows you to provide arguments in any order and makes your code more readable. Here's an example:"
   ]
  },
  {
   "cell_type": "code",
   "execution_count": 8,
   "id": "b1412685",
   "metadata": {},
   "outputs": [
    {
     "name": "stdout",
     "output_type": "stream",
     "text": [
      "Hello, max!\n",
      "Hi, sam!\n"
     ]
    }
   ],
   "source": [
    "def greet(name, greeting):\n",
    "    print(f\"{greeting}, {name}!\")\n",
    "\n",
    "# Calling the function with keyword arguments\n",
    "greet(greeting=\"Hello\", name=\"max\")  \n",
    "greet(name=\"sam\", greeting=\"Hi\")      \n"
   ]
  },
  {
   "cell_type": "markdown",
   "id": "ebf55b85",
   "metadata": {},
   "source": [
    "# `docstring` "
   ]
  },
  {
   "cell_type": "markdown",
   "id": "6331e888",
   "metadata": {},
   "source": [
    "## a docstring (documentation string) is a special type of string that is used to document a module, function, class, or method. Docstrings serve as a way to provide documentation and information about the purpose and usage of the code. They are typically placed within triple-quotes (either single or double) and appear at the beginning of a module, function, class, or method definition."
   ]
  },
  {
   "cell_type": "code",
   "execution_count": 9,
   "id": "64e5a09a",
   "metadata": {},
   "outputs": [],
   "source": [
    "def fooddivision(d: float, n: float):\n",
    "    '''\n",
    "    This function divides the numerator 'n' by the denominator 'd' and prints the result.\n",
    "\n",
    "    Parameters:\n",
    "    d (float): The denominator.\n",
    "    n (float): The numerator.\n",
    "\n",
    "    Returns:\n",
    "    None\n",
    "    '''\n",
    "    # Calculate the result of division and print it\n",
    "    result = n / d\n",
    "    print(result)\n"
   ]
  },
  {
   "cell_type": "code",
   "execution_count": 10,
   "id": "d2298b53",
   "metadata": {},
   "outputs": [
    {
     "name": "stdout",
     "output_type": "stream",
     "text": [
      "\n",
      "    This function divides the numerator 'n' by the denominator 'd' and prints the result.\n",
      "\n",
      "    Parameters:\n",
      "    d (float): The denominator.\n",
      "    n (float): The numerator.\n",
      "\n",
      "    Returns:\n",
      "    None\n",
      "    \n"
     ]
    }
   ],
   "source": [
    "print(fooddivision.__doc__)"
   ]
  },
  {
   "attachments": {},
   "cell_type": "markdown",
   "id": "8dd50fe9",
   "metadata": {},
   "source": []
  },
  {
   "cell_type": "code",
   "execution_count": null,
   "id": "240b1293",
   "metadata": {},
   "outputs": [],
   "source": []
  }
 ],
 "metadata": {
  "kernelspec": {
   "display_name": "Python 3 (ipykernel)",
   "language": "python",
   "name": "python3"
  },
  "language_info": {
   "codemirror_mode": {
    "name": "ipython",
    "version": 3
   },
   "file_extension": ".py",
   "mimetype": "text/x-python",
   "name": "python",
   "nbconvert_exporter": "python",
   "pygments_lexer": "ipython3",
   "version": "3.11.5"
  }
 },
 "nbformat": 4,
 "nbformat_minor": 5
}
