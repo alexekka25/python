{
 "cells": [
  {
   "cell_type": "markdown",
   "id": "cf46590d",
   "metadata": {},
   "source": [
    "# <center><font color='green'>STRINGS</font></center>\n",
    "## In Python, a string is a data type used to represent text. A string is a sequence of characters, and it can contain letters, numbers, symbols, or any combination of these. Strings are a fundamental data type in Python and are enclosed in either single quotes ('...') or double quotes (\"...\") or triple-quotes ('''...''' or \"\"\"...\"\"\").\n",
    "\n",
    "## Creating Strings:\n",
    "## Single Quotes: 'Hello, World!'\n",
    "## Double Quotes: \"Python is great!\"\n",
    "## Triple Quotes (for multiline strings):"
   ]
  },
  {
   "cell_type": "code",
   "execution_count": 40,
   "id": "f2f3a8f3",
   "metadata": {},
   "outputs": [],
   "source": [
    "s1='this is a string, enclosed in single quotes'\n",
    "s2=\"this is a string, enclosed in double quotes\"\n",
    "s3='''this is a multi-string enclosed, in triple single quotes'''"
   ]
  },
  {
   "cell_type": "code",
   "execution_count": 41,
   "id": "d2079856",
   "metadata": {},
   "outputs": [
    {
     "name": "stdout",
     "output_type": "stream",
     "text": [
      "this is a string, enclosed in single quotes\n",
      "this is a string, enclosed in double quotes\n",
      "this is a multi-string enclosed, in triple single quotes\n"
     ]
    }
   ],
   "source": [
    "print(s1, s2, s3, sep='\\n')"
   ]
  },
  {
   "cell_type": "markdown",
   "id": "4b38cdd5",
   "metadata": {},
   "source": [
    "# <center><font color='green'>string functions</font></center>"
   ]
  },
  {
   "cell_type": "markdown",
   "id": "8fb3fb5e",
   "metadata": {},
   "source": [
    "![](https://www.wikitechy.com/tutorials/python/img/python-images/useful-string-functions-and-methods.png)"
   ]
  },
  {
   "cell_type": "markdown",
   "id": "0d1424e0",
   "metadata": {},
   "source": [
    "## As there are many more string functions and methods"
   ]
  },
  {
   "cell_type": "code",
   "execution_count": null,
   "id": "2c5e6890",
   "metadata": {},
   "outputs": [],
   "source": []
  },
  {
   "cell_type": "code",
   "execution_count": null,
   "id": "12d5aadc",
   "metadata": {},
   "outputs": [],
   "source": []
  },
  {
   "cell_type": "code",
   "execution_count": null,
   "id": "cda260da",
   "metadata": {},
   "outputs": [],
   "source": []
  },
  {
   "cell_type": "code",
   "execution_count": null,
   "id": "fa222520",
   "metadata": {},
   "outputs": [],
   "source": []
  },
  {
   "cell_type": "markdown",
   "id": "bf8f220a",
   "metadata": {},
   "source": [
    "# <center><font color='green'>indexing</font></center>"
   ]
  },
  {
   "cell_type": "markdown",
   "id": "098a0cf2",
   "metadata": {},
   "source": [
    "### The index() method finds the first occurrence of the specified value.\n",
    "\n",
    "### The index() method raises an exception if the value is not found.\n",
    "\n",
    "### The index() method is almost the same as the find() method, the only difference is that the find() method returns -1 if the value is not found. (See example below)\n",
    "\n"
   ]
  },
  {
   "cell_type": "markdown",
   "id": "2e3e5f2f",
   "metadata": {},
   "source": [
    "| Parameter  | Description  |\n",
    "|---|---|\n",
    "| value  | Required. The value to search for  |\n",
    "| start  | Optional. Where to start the search. Default is 0  |\n",
    "| end  |  Optional. Where to end the search. Default is to the end of the string |"
   ]
  },
  {
   "cell_type": "markdown",
   "id": "f97473ac",
   "metadata": {},
   "source": [
    "![](https://encrypted-tbn0.gstatic.com/images?q=tbn:ANd9GcRFsJf7wSWZ8h2K8-blP8i4Ht85h9w38hHkaQ&usqp=CAU)"
   ]
  },
  {
   "cell_type": "code",
   "execution_count": 70,
   "id": "3e27a87b",
   "metadata": {},
   "outputs": [
    {
     "name": "stdout",
     "output_type": "stream",
     "text": [
      "P\n",
      "l\n",
      "s\n",
      "s\n"
     ]
    }
   ],
   "source": [
    ">>> s = 'Planets'\n",
    ">>> s[0]\n",
    "'p'\n",
    ">>> s[1]\n",
    "'l'\n",
    ">>> s[6]\n",
    "'s'\n",
    ">>> s[len(s) - 1]\n",
    "'s'\n",
    "print(s[0])\n",
    "print(s[1])\n",
    "print(s[6])\n",
    "print(s[len(s)-1])\n"
   ]
  },
  {
   "cell_type": "markdown",
   "id": "1f6f49f6",
   "metadata": {},
   "source": [
    "# <center><font color='green'>negative string indexing</font></center>"
   ]
  },
  {
   "cell_type": "code",
   "execution_count": 75,
   "id": "cbf375ea",
   "metadata": {},
   "outputs": [
    {
     "name": "stdout",
     "output_type": "stream",
     "text": [
      "s\n",
      "n\n",
      "a\n"
     ]
    }
   ],
   "source": [
    ">>> s\n",
    "'planets'\n",
    ">>> s[-1]\n",
    "'n'\n",
    ">>> s[-4]\n",
    "'a'\n",
    ">>> s[-5]\n",
    "\n",
    "print(s[-1])\n",
    "print(s[-4])\n",
    "print(s[-5])\n"
   ]
  },
  {
   "cell_type": "markdown",
   "id": "de7f7957",
   "metadata": {},
   "source": [
    "# <center><font color='green'>slicing strings</font></center>\n",
    "### We can also call out a range of characters from the string. Say we would like to only print the word Shark. We can do so by creating a slice, which is a sequence of characters within an original string. With slices, we can call multiple character values by creating a range of index numbers separated by a colon [x:y]:"
   ]
  },
  {
   "cell_type": "markdown",
   "id": "3f010af7",
   "metadata": {},
   "source": [
    "![](https://media.geeksforgeeks.org/wp-content/uploads/20201025141338/Screenshot584.png)"
   ]
  },
  {
   "cell_type": "code",
   "execution_count": 76,
   "id": "59a1e3bc",
   "metadata": {},
   "outputs": [
    {
     "data": {
      "text/plain": [
       "'space paradox'"
      ]
     },
     "execution_count": 76,
     "metadata": {},
     "output_type": "execute_result"
    }
   ],
   "source": [
    "t='space paradox'\n",
    "t"
   ]
  },
  {
   "cell_type": "code",
   "execution_count": 78,
   "id": "93aca4c6",
   "metadata": {},
   "outputs": [
    {
     "name": "stdout",
     "output_type": "stream",
     "text": [
      "ado\n"
     ]
    }
   ],
   "source": [
    "print(t[-4:-1])"
   ]
  },
  {
   "cell_type": "code",
   "execution_count": 81,
   "id": "bae4130b",
   "metadata": {},
   "outputs": [
    {
     "name": "stdout",
     "output_type": "stream",
     "text": [
      "parad\n"
     ]
    }
   ],
   "source": [
    "print(t[6:11])"
   ]
  },
  {
   "cell_type": "code",
   "execution_count": 82,
   "id": "1e264fcc",
   "metadata": {},
   "outputs": [
    {
     "name": "stdout",
     "output_type": "stream",
     "text": [
      "parad\n"
     ]
    }
   ],
   "source": [
    "print(t[6:11:1])"
   ]
  },
  {
   "cell_type": "code",
   "execution_count": 83,
   "id": "e8549a03",
   "metadata": {},
   "outputs": [
    {
     "name": "stdout",
     "output_type": "stream",
     "text": [
      "saeprd\n"
     ]
    }
   ],
   "source": [
    "print(t[0:12:2])"
   ]
  },
  {
   "cell_type": "code",
   "execution_count": 87,
   "id": "5ea6bea2",
   "metadata": {},
   "outputs": [
    {
     "name": "stdout",
     "output_type": "stream",
     "text": [
      "ser\n"
     ]
    }
   ],
   "source": [
    "print(t[0:12:4])"
   ]
  },
  {
   "cell_type": "markdown",
   "id": "4e20c1ec",
   "metadata": {},
   "source": [
    "### Since we are printing the whole string we can omit the two index numbers and keep the two colons within the syntax to achieve the same result:"
   ]
  },
  {
   "cell_type": "code",
   "execution_count": 85,
   "id": "d38d7821",
   "metadata": {},
   "outputs": [
    {
     "name": "stdout",
     "output_type": "stream",
     "text": [
      "serx\n"
     ]
    }
   ],
   "source": [
    "print(t[::4])"
   ]
  },
  {
   "cell_type": "markdown",
   "id": "b60283a5",
   "metadata": {},
   "source": [
    "### Additionally, you can indicate a negative numeric value for the stride, which we can use to print the original string in reverse order if we set the stride to -1:"
   ]
  },
  {
   "cell_type": "code",
   "execution_count": 88,
   "id": "bddd5385",
   "metadata": {},
   "outputs": [
    {
     "name": "stdout",
     "output_type": "stream",
     "text": [
      "xodarap ecaps\n"
     ]
    }
   ],
   "source": [
    "print(t[::-1])"
   ]
  },
  {
   "cell_type": "code",
   "execution_count": 89,
   "id": "ad42dc60",
   "metadata": {},
   "outputs": [
    {
     "name": "stdout",
     "output_type": "stream",
     "text": [
      "xdrpeas\n"
     ]
    }
   ],
   "source": [
    "print(t[::-2])"
   ]
  },
  {
   "cell_type": "markdown",
   "id": "0f9f934f",
   "metadata": {},
   "source": [
    "# <center><font color='green'>counting methods</font></center>\n",
    "### While we are thinking about the relevant index numbers that correspond to characters within strings, it is worth going through some of the methods that count strings or return index numbers."
   ]
  },
  {
   "cell_type": "code",
   "execution_count": 90,
   "id": "cd874c64",
   "metadata": {},
   "outputs": [
    {
     "name": "stdout",
     "output_type": "stream",
     "text": [
      "13\n"
     ]
    }
   ],
   "source": [
    "print(len(t))"
   ]
  },
  {
   "cell_type": "markdown",
   "id": "87b0926b",
   "metadata": {},
   "source": [
    "# count()\n",
    "### If we want to count the number of times either one particular character or a sequence of characters shows up in a string, we can do so with the str.count()"
   ]
  },
  {
   "cell_type": "code",
   "execution_count": 91,
   "id": "a5982ef7",
   "metadata": {},
   "outputs": [
    {
     "name": "stdout",
     "output_type": "stream",
     "text": [
      "3\n"
     ]
    }
   ],
   "source": [
    "print(t.count(\"a\"))"
   ]
  },
  {
   "cell_type": "code",
   "execution_count": 92,
   "id": "a1ae705c",
   "metadata": {},
   "outputs": [
    {
     "name": "stdout",
     "output_type": "stream",
     "text": [
      "1\n"
     ]
    }
   ],
   "source": [
    "print(t.count(\"s\"))"
   ]
  },
  {
   "cell_type": "markdown",
   "id": "64ab08d4",
   "metadata": {},
   "source": [
    "# find()\n",
    "### We can also find at what position a character or character sequence occurs in a string. We can do this with the str.find() method, and it will return the position of the character based on index number.\n",
    "\n"
   ]
  },
  {
   "cell_type": "markdown",
   "id": "4cc5fce5",
   "metadata": {},
   "source": [
    "### We can check to see where the first “p” occurs in the string t:"
   ]
  },
  {
   "cell_type": "code",
   "execution_count": 94,
   "id": "13c6ee19",
   "metadata": {},
   "outputs": [
    {
     "name": "stdout",
     "output_type": "stream",
     "text": [
      "1\n"
     ]
    }
   ],
   "source": [
    "print(t.find(\"p\"))"
   ]
  },
  {
   "cell_type": "code",
   "execution_count": 100,
   "id": "edac11a4",
   "metadata": {},
   "outputs": [
    {
     "name": "stdout",
     "output_type": "stream",
     "text": [
      "6\n"
     ]
    }
   ],
   "source": [
    "print(t.find(\"paradox\"))"
   ]
  },
  {
   "cell_type": "markdown",
   "id": "4a8098b4",
   "metadata": {},
   "source": [
    "# <center><font color='green'>raw string</font><center>\n",
    "### In Python, a raw string is a string that is defined by prefixing the string literal with the letter 'r' or 'R'. Raw strings are used when you want to treat backslashes (\\) as literal characters and not as escape characters"
   ]
  },
  {
   "cell_type": "code",
   "execution_count": null,
   "id": "a4bf3c0d",
   "metadata": {},
   "outputs": [],
   "source": [
    "#regular string"
   ]
  },
  {
   "cell_type": "code",
   "execution_count": 103,
   "id": "94a38256",
   "metadata": {},
   "outputs": [
    {
     "name": "stdout",
     "output_type": "stream",
     "text": [
      "C:\\Users\\Username\\Documents\\file.txt\n"
     ]
    }
   ],
   "source": [
    "regular_string = \"C:\\\\Users\\\\Username\\\\Documents\\\\file.txt\"\n",
    "print(regular_string)\n",
    "\n"
   ]
  },
  {
   "cell_type": "code",
   "execution_count": 105,
   "id": "425df3f8",
   "metadata": {},
   "outputs": [],
   "source": [
    "#raw string"
   ]
  },
  {
   "cell_type": "code",
   "execution_count": 106,
   "id": "72d66f73",
   "metadata": {},
   "outputs": [
    {
     "name": "stdout",
     "output_type": "stream",
     "text": [
      "C:\\Users\\Username\\Documents\\file.txt\n"
     ]
    }
   ],
   "source": [
    "raw_string = r\"C:\\Users\\Username\\Documents\\file.txt\"\n",
    "print(raw_string)\n"
   ]
  },
  {
   "cell_type": "markdown",
   "id": "ae0943f8",
   "metadata": {},
   "source": [
    "#### In the raw string, you only need a single backslash to represent a single backslash because it's treated as a raw string, and escape sequences are ignored.\n",
    "\n",
    "#### Raw strings are particularly useful when working with file paths on Windows or when specifying regular expressions, as they simplify the need for escaping backslashes"
   ]
  },
  {
   "cell_type": "markdown",
   "id": "c3f7d588",
   "metadata": {},
   "source": [
    "# <center><font color='green'>format string</font></center>\n",
    "### In Python, you can create formatted strings using f-strings (formatted string literals) or the .format() method. Formatted strings allow you to insert values or variables into a string in a specific format. "
   ]
  },
  {
   "cell_type": "markdown",
   "id": "eec6a1c5",
   "metadata": {},
   "source": [
    "# example-1"
   ]
  },
  {
   "cell_type": "code",
   "execution_count": 107,
   "id": "c7da226a",
   "metadata": {},
   "outputs": [
    {
     "name": "stdout",
     "output_type": "stream",
     "text": [
      "My name is alex, and I am 25 years old.\n"
     ]
    }
   ],
   "source": [
    "name = \"alex\"\n",
    "age = 25\n",
    "\n",
    "formatted_string = f\"My name is {name}, and I am {age} years old.\"\n",
    "print(formatted_string)"
   ]
  },
  {
   "cell_type": "markdown",
   "id": "3d759ea2",
   "metadata": {},
   "source": [
    "# example-2"
   ]
  },
  {
   "cell_type": "code",
   "execution_count": 108,
   "id": "b734d4b7",
   "metadata": {},
   "outputs": [
    {
     "name": "stdout",
     "output_type": "stream",
     "text": [
      "My name is Alice and I am 30 years old.\n"
     ]
    }
   ],
   "source": [
    "name = \"Alice\"\n",
    "age = 30\n",
    "formatted_string = f\"My name is {name} and I am {age} years old.\"\n",
    "print(formatted_string)\n"
   ]
  },
  {
   "cell_type": "markdown",
   "id": "08680cf5",
   "metadata": {},
   "source": [
    "# <center><font color='green'>title()</font></center>"
   ]
  },
  {
   "cell_type": "markdown",
   "id": "254cb421",
   "metadata": {},
   "source": [
    " ### method is a string method that is used to convert the first character of each word in a string to uppercase (titlecase). Words in this context are defined as sequences of characters separated by spaces."
   ]
  },
  {
   "cell_type": "code",
   "execution_count": 110,
   "id": "794ed54c",
   "metadata": {},
   "outputs": [
    {
     "name": "stdout",
     "output_type": "stream",
     "text": [
      "This Is An Example String\n"
     ]
    }
   ],
   "source": [
    "text = \"this is an example string\"\n",
    "title_text = text.title()\n",
    "\n",
    "print(title_text)\n"
   ]
  },
  {
   "cell_type": "markdown",
   "id": "68f465c5",
   "metadata": {},
   "source": [
    "### In this example, the title() method capitalizes the first letter of each word in the string, and it converts all other letters to lowercase. This is commonly used when you want to format text as a title, such as in headings or titles for text documents."
   ]
  },
  {
   "cell_type": "markdown",
   "id": "4b9474f0",
   "metadata": {},
   "source": [
    "# <center><font color='green'>casefold()</font></center>"
   ]
  },
  {
   "cell_type": "markdown",
   "id": "084937bf",
   "metadata": {},
   "source": [
    "### method is a string method in Python that is used for case-folding, which is a more aggressive form of string normalization. It's primarily used for comparing and sorting strings while ignoring case differences and handling certain special characters. In essence, it performs a more extensive form of case-insensitive comparison than the lower() method."
   ]
  },
  {
   "cell_type": "code",
   "execution_count": 114,
   "id": "e6834298",
   "metadata": {},
   "outputs": [
    {
     "name": "stdout",
     "output_type": "stream",
     "text": [
      "straße\n",
      "strasse\n"
     ]
    }
   ],
   "source": [
    "text = \"Straße\"  # Note the 'ß' character\n",
    "\n",
    "lower_text = text.lower()\n",
    "casefolded_text = text.casefold()\n",
    "\n",
    "print(lower_text)      # \"straße\"\n",
    "print(casefolded_text)  # \"strasse\"\n"
   ]
  },
  {
   "cell_type": "markdown",
   "id": "9030f64b",
   "metadata": {},
   "source": [
    "# <center><font color='green'>upper()</font></center>"
   ]
  },
  {
   "cell_type": "code",
   "execution_count": 1,
   "id": "a1cd917c",
   "metadata": {},
   "outputs": [
    {
     "data": {
      "text/plain": [
       "'hello this is alex'"
      ]
     },
     "execution_count": 1,
     "metadata": {},
     "output_type": "execute_result"
    }
   ],
   "source": [
    "a1='hello this is alex'\n",
    "a1"
   ]
  },
  {
   "cell_type": "code",
   "execution_count": 3,
   "id": "2203a2d1",
   "metadata": {},
   "outputs": [
    {
     "data": {
      "text/plain": [
       "'HELLO THIS IS ALEX'"
      ]
     },
     "execution_count": 3,
     "metadata": {},
     "output_type": "execute_result"
    }
   ],
   "source": [
    "a1.upper() # change to all capital letters"
   ]
  },
  {
   "cell_type": "markdown",
   "id": "217a8177",
   "metadata": {},
   "source": [
    "# <center><font color='green'>lower()</font></center>"
   ]
  },
  {
   "cell_type": "code",
   "execution_count": 4,
   "id": "531629c1",
   "metadata": {},
   "outputs": [
    {
     "data": {
      "text/plain": [
       "'hello this is alex'"
      ]
     },
     "execution_count": 4,
     "metadata": {},
     "output_type": "execute_result"
    }
   ],
   "source": [
    "a1"
   ]
  },
  {
   "cell_type": "code",
   "execution_count": 6,
   "id": "0cae89f1",
   "metadata": {},
   "outputs": [
    {
     "data": {
      "text/plain": [
       "'hello this is alex'"
      ]
     },
     "execution_count": 6,
     "metadata": {},
     "output_type": "execute_result"
    }
   ],
   "source": [
    "a1.lower() # change to all small letters"
   ]
  },
  {
   "cell_type": "markdown",
   "id": "b0e97575",
   "metadata": {},
   "source": [
    "# <center><font color='green'>index()</font></center>"
   ]
  },
  {
   "cell_type": "markdown",
   "id": "9e3ee828",
   "metadata": {},
   "source": [
    "# index() method is a built-in string method that is used to find the index of the first occurrence of a substring within a given string. It raises a ValueError if the substring is not found. The basic syntax of the index()"
   ]
  },
  {
   "cell_type": "code",
   "execution_count": 22,
   "id": "38088946",
   "metadata": {},
   "outputs": [
    {
     "data": {
      "text/plain": [
       "'hello world space'"
      ]
     },
     "execution_count": 22,
     "metadata": {},
     "output_type": "execute_result"
    }
   ],
   "source": [
    "im=\"hello world space\"\n",
    "im"
   ]
  },
  {
   "cell_type": "code",
   "execution_count": 23,
   "id": "246aab5c",
   "metadata": {},
   "outputs": [
    {
     "data": {
      "text/plain": [
       "12"
      ]
     },
     "execution_count": 23,
     "metadata": {},
     "output_type": "execute_result"
    }
   ],
   "source": [
    "im.index('space')"
   ]
  },
  {
   "cell_type": "code",
   "execution_count": 25,
   "id": "ed9ff40e",
   "metadata": {},
   "outputs": [
    {
     "data": {
      "text/plain": [
       "6"
      ]
     },
     "execution_count": 25,
     "metadata": {},
     "output_type": "execute_result"
    }
   ],
   "source": [
    "im.index('world')"
   ]
  },
  {
   "cell_type": "markdown",
   "id": "dacf7f1d",
   "metadata": {},
   "source": [
    "# <center><font color='green'>replace()</font></center>"
   ]
  },
  {
   "cell_type": "markdown",
   "id": "9dc98ec9",
   "metadata": {},
   "source": [
    "## replacing all occurrences of a specified substring within the original string with another substring. It does not modify the original string but instead returns a new string with the replacements."
   ]
  },
  {
   "cell_type": "code",
   "execution_count": 47,
   "id": "27a331ea",
   "metadata": {},
   "outputs": [
    {
     "data": {
      "text/plain": [
       "'time paradox space and gravity'"
      ]
     },
     "execution_count": 47,
     "metadata": {},
     "output_type": "execute_result"
    }
   ],
   "source": [
    "z1=\"time paradox space and gravity\"\n",
    "z1"
   ]
  },
  {
   "cell_type": "code",
   "execution_count": 48,
   "id": "2574cd3d",
   "metadata": {},
   "outputs": [
    {
     "data": {
      "text/plain": [
       "'time paradox light and gravity'"
      ]
     },
     "execution_count": 48,
     "metadata": {},
     "output_type": "execute_result"
    }
   ],
   "source": [
    "z1.replace('space','light')"
   ]
  },
  {
   "cell_type": "code",
   "execution_count": null,
   "id": "8d0ce6a3",
   "metadata": {},
   "outputs": [],
   "source": []
  },
  {
   "cell_type": "markdown",
   "id": "1037fc33",
   "metadata": {},
   "source": [
    "## In this example, index1 is 6 because \"world\" starts at index 6 in the text string, and index2 is 12 because \"space\" starts at index 12."
   ]
  },
  {
   "cell_type": "markdown",
   "id": "eb1cfd04",
   "metadata": {},
   "source": [
    "#  <center><font color='green'>isalnum()</font></center>"
   ]
  },
  {
   "cell_type": "markdown",
   "id": "50e38a3d",
   "metadata": {},
   "source": [
    "## This method checks if all characters in a string are alphanumeric (letters and numbers).\n",
    "## It returns True if all characters in the string are alphanumeric, and False otherwise.\n",
    "## Whitespace and special characters will cause it to return False"
   ]
  },
  {
   "cell_type": "code",
   "execution_count": null,
   "id": "410757a0",
   "metadata": {},
   "outputs": [],
   "source": []
  },
  {
   "cell_type": "code",
   "execution_count": 31,
   "id": "560ee5ae",
   "metadata": {},
   "outputs": [
    {
     "data": {
      "text/plain": [
       "'alex25'"
      ]
     },
     "execution_count": 31,
     "metadata": {},
     "output_type": "execute_result"
    }
   ],
   "source": [
    "w=\"alex25\"  # there is no space between letters and numbwers so \"true\" \n",
    "w"
   ]
  },
  {
   "cell_type": "code",
   "execution_count": 32,
   "id": "eedf6da2",
   "metadata": {},
   "outputs": [
    {
     "data": {
      "text/plain": [
       "True"
      ]
     },
     "execution_count": 32,
     "metadata": {},
     "output_type": "execute_result"
    }
   ],
   "source": [
    "w.isalnum()"
   ]
  },
  {
   "cell_type": "code",
   "execution_count": 35,
   "id": "690ff007",
   "metadata": {},
   "outputs": [
    {
     "data": {
      "text/plain": [
       "'alex 25'"
      ]
     },
     "execution_count": 35,
     "metadata": {},
     "output_type": "execute_result"
    }
   ],
   "source": [
    "w=\"alex 25\"\n",
    "w"
   ]
  },
  {
   "cell_type": "code",
   "execution_count": 37,
   "id": "6ddd3373",
   "metadata": {},
   "outputs": [
    {
     "data": {
      "text/plain": [
       "False"
      ]
     },
     "execution_count": 37,
     "metadata": {},
     "output_type": "execute_result"
    }
   ],
   "source": [
    "w.isalnum() # there is space between the letters and numbers s0 \"false\""
   ]
  },
  {
   "cell_type": "markdown",
   "id": "59d37a11",
   "metadata": {},
   "source": [
    "# <center><font color='green'>isalpha()</font></center> "
   ]
  },
  {
   "cell_type": "markdown",
   "id": "b4af42fc",
   "metadata": {},
   "source": [
    "## This method checks if all characters in a string are alphabetic (letters).\n",
    "## It returns True if all characters in the string are letters, and False otherwise.\n",
    "## It will return False if the string contains digits, whitespace, or special characters."
   ]
  },
  {
   "cell_type": "code",
   "execution_count": 38,
   "id": "62fda04e",
   "metadata": {},
   "outputs": [
    {
     "data": {
      "text/plain": [
       "'alex 25'"
      ]
     },
     "execution_count": 38,
     "metadata": {},
     "output_type": "execute_result"
    }
   ],
   "source": [
    "w"
   ]
  },
  {
   "cell_type": "code",
   "execution_count": 40,
   "id": "5ae9c3f6",
   "metadata": {},
   "outputs": [
    {
     "data": {
      "text/plain": [
       "False"
      ]
     },
     "execution_count": 40,
     "metadata": {},
     "output_type": "execute_result"
    }
   ],
   "source": [
    "w.isalpha()"
   ]
  },
  {
   "cell_type": "code",
   "execution_count": 42,
   "id": "d9cb18e5",
   "metadata": {},
   "outputs": [
    {
     "data": {
      "text/plain": [
       "'alex'"
      ]
     },
     "execution_count": 42,
     "metadata": {},
     "output_type": "execute_result"
    }
   ],
   "source": [
    "w= \"alex\"\n",
    "w"
   ]
  },
  {
   "cell_type": "code",
   "execution_count": 43,
   "id": "004c35f0",
   "metadata": {},
   "outputs": [
    {
     "data": {
      "text/plain": [
       "True"
      ]
     },
     "execution_count": 43,
     "metadata": {},
     "output_type": "execute_result"
    }
   ],
   "source": [
    "w.isalpha()"
   ]
  },
  {
   "cell_type": "markdown",
   "id": "294857bb",
   "metadata": {},
   "source": [
    "# <center><font color='green'>isascii()</font></center>"
   ]
  },
  {
   "cell_type": "markdown",
   "id": "cae09230",
   "metadata": {},
   "source": [
    "# isascii() method is used to check whether all characters in a given string are within the ASCII (American Standard Code for Information Interchange) character set. It returns True if all characters in the string are ASCII characters and False if there are any non-ASCII characters."
   ]
  },
  {
   "cell_type": "code",
   "execution_count": 46,
   "id": "063ec8d2",
   "metadata": {},
   "outputs": [
    {
     "name": "stdout",
     "output_type": "stream",
     "text": [
      "True\n",
      "False\n"
     ]
    }
   ],
   "source": [
    "text1 = \"Hello\"\n",
    "result1 = text1.isascii()  # True, as all characters are ASCII characters\n",
    "\n",
    "text2 = \"你好\"\n",
    "result2 = text2.isascii()  # False, as it contains non-ASCII characters\n",
    "\n",
    "print(text1.isascii())\n",
    "print(text2.isascii())\n"
   ]
  },
  {
   "cell_type": "code",
   "execution_count": null,
   "id": "ee98f8ba",
   "metadata": {},
   "outputs": [],
   "source": []
  },
  {
   "cell_type": "markdown",
   "id": "9b9fcf5e",
   "metadata": {},
   "source": [
    "#  <center><font color='green'>str.find(substring)</font></center>"
   ]
  },
  {
   "cell_type": "markdown",
   "id": "1f22d70a",
   "metadata": {},
   "source": [
    " ### Searches for the first occurrence of the substring and returns its index, or -1 if not found."
   ]
  },
  {
   "cell_type": "code",
   "execution_count": 1,
   "id": "b42d9159",
   "metadata": {},
   "outputs": [
    {
     "data": {
      "text/plain": [
       "' Piper picked a peck of pickled peppers.\\nA peck of pickled peppers Peter Piper picked.\\nIf Peter Piper picked a peck of pickled peppers,\\nWhere’s the peck of pickled peppers Peter Piper picked'"
      ]
     },
     "execution_count": 1,
     "metadata": {},
     "output_type": "execute_result"
    }
   ],
   "source": [
    "x=''' Piper picked a peck of pickled peppers.\n",
    "A peck of pickled peppers Peter Piper picked.\n",
    "If Peter Piper picked a peck of pickled peppers,\n",
    "Where’s the peck of pickled peppers Peter Piper picked'''\n",
    "x"
   ]
  },
  {
   "cell_type": "code",
   "execution_count": 2,
   "id": "f10c1f2f",
   "metadata": {},
   "outputs": [
    {
     "data": {
      "text/plain": [
       "-1"
      ]
     },
     "execution_count": 2,
     "metadata": {},
     "output_type": "execute_result"
    }
   ],
   "source": [
    "x.find('a',0,10)"
   ]
  },
  {
   "cell_type": "markdown",
   "id": "c6fb32ef",
   "metadata": {},
   "source": [
    "### In the code x.find('a', 0, 10), the find method is being called on a string x to search for the substring 'a' within the string. The find method returns the lowest index of the substring 'a' within the string x, starting the search from index 0 (inclusive) up to index 10 (exclusive). If the substring is not found within this range, it returns -1."
   ]
  },
  {
   "cell_type": "markdown",
   "id": "4a15ebc1",
   "metadata": {},
   "source": [
    "### >The help(str.find) command is used in Python to get information and documentation about the find method of the str class (string class). It will provide you with a description of how the find method works, what arguments it takes, and what it returns.\n",
    "\n",
    "### Here's an example of what you might see when you run help(str.find) in a Python environment:"
   ]
  },
  {
   "cell_type": "code",
   "execution_count": 3,
   "id": "72926f2a",
   "metadata": {},
   "outputs": [
    {
     "name": "stdout",
     "output_type": "stream",
     "text": [
      "Help on method_descriptor:\n",
      "\n",
      "find(...)\n",
      "    S.find(sub[, start[, end]]) -> int\n",
      "    \n",
      "    Return the lowest index in S where substring sub is found,\n",
      "    such that sub is contained within S[start:end].  Optional\n",
      "    arguments start and end are interpreted as in slice notation.\n",
      "    \n",
      "    Return -1 on failure.\n",
      "\n"
     ]
    }
   ],
   "source": [
    "help(str.find)"
   ]
  },
  {
   "cell_type": "code",
   "execution_count": 4,
   "id": "960f3a7d",
   "metadata": {},
   "outputs": [
    {
     "data": {
      "text/plain": [
       "32"
      ]
     },
     "execution_count": 4,
     "metadata": {},
     "output_type": "execute_result"
    }
   ],
   "source": [
    "x.find('peppers') # If 'peppers' were not in the string, x.find('peppers') would return -1."
   ]
  },
  {
   "cell_type": "code",
   "execution_count": 5,
   "id": "a58e1e9d",
   "metadata": {},
   "outputs": [
    {
     "data": {
      "text/plain": [
       "32"
      ]
     },
     "execution_count": 5,
     "metadata": {},
     "output_type": "execute_result"
    }
   ],
   "source": [
    "x.index('peppers')"
   ]
  },
  {
   "cell_type": "code",
   "execution_count": 6,
   "id": "acba13ec",
   "metadata": {},
   "outputs": [
    {
     "data": {
      "text/plain": [
       "4"
      ]
     },
     "execution_count": 6,
     "metadata": {},
     "output_type": "execute_result"
    }
   ],
   "source": [
    "x.count('peppers') # x.find('peppers') would return 7 because 'peppers' first appears at index 7 in the string."
   ]
  },
  {
   "cell_type": "code",
   "execution_count": 7,
   "id": "b9f8a85f",
   "metadata": {},
   "outputs": [
    {
     "data": {
      "text/plain": [
       "1"
      ]
     },
     "execution_count": 7,
     "metadata": {},
     "output_type": "execute_result"
    }
   ],
   "source": [
    "x.count('a',20) # find till index 20 of letter 'a'"
   ]
  },
  {
   "cell_type": "markdown",
   "id": "83395274",
   "metadata": {},
   "source": [
    "# <center><font color='green'>rfind</font></center>\n",
    "## In Python, the rfind method is used to search for a substring within a string, just like the find method. However, there is a ## key difference: rfind searches for the last (rightmost) occurrence of the specified substring within the string, whereas find ## searches for the first (leftmost) occurrence.\n",
    "\n",
    "## Here's the syntax for using the rfind method:"
   ]
  },
  {
   "cell_type": "code",
   "execution_count": 8,
   "id": "fc98e62b",
   "metadata": {},
   "outputs": [
    {
     "data": {
      "text/plain": [
       "164"
      ]
     },
     "execution_count": 8,
     "metadata": {},
     "output_type": "execute_result"
    }
   ],
   "source": [
    "x.rfind('peppers')"
   ]
  },
  {
   "cell_type": "code",
   "execution_count": 9,
   "id": "d07d3acb",
   "metadata": {},
   "outputs": [
    {
     "data": {
      "text/plain": [
       "127"
      ]
     },
     "execution_count": 9,
     "metadata": {},
     "output_type": "execute_result"
    }
   ],
   "source": [
    "x.rfind('peppers',12,164)"
   ]
  },
  {
   "cell_type": "markdown",
   "id": "a7e9c5ec",
   "metadata": {},
   "source": [
    "### other example -"
   ]
  },
  {
   "cell_type": "code",
   "execution_count": 10,
   "id": "483b102f",
   "metadata": {},
   "outputs": [
    {
     "data": {
      "text/plain": [
       "7"
      ]
     },
     "execution_count": 10,
     "metadata": {},
     "output_type": "execute_result"
    }
   ],
   "source": [
    "'malayalam'.rfind('a',2)"
   ]
  },
  {
   "cell_type": "code",
   "execution_count": 14,
   "id": "1b132268",
   "metadata": {},
   "outputs": [
    {
     "data": {
      "text/plain": [
       "5"
      ]
     },
     "execution_count": 14,
     "metadata": {},
     "output_type": "execute_result"
    }
   ],
   "source": [
    "'malayalam'.rfind('a',2,7)"
   ]
  },
  {
   "cell_type": "markdown",
   "id": "104dce7f",
   "metadata": {},
   "source": [
    "## The code 'malayalam'.rfind('a', 2, 7) is using the rfind method to search for the character 'a' within the string 'malayalam', but it restricts the search to a specific slice of the string. Here's what it does:\n",
    "\n",
    "## 'malayalam' is the target string in which you want to search for the character 'a'.\n",
    "## 'a' is the character you're looking for.\n",
    "## 2 is the start parameter, which is the index where the search will begin (inclusive). In this case, it starts from index 2.\n",
    "## 7 is the end parameter, which is the index where the search will end (exclusive). In this case, it ends at index 7."
   ]
  },
  {
   "cell_type": "code",
   "execution_count": null,
   "id": "e3b956d4",
   "metadata": {},
   "outputs": [],
   "source": []
  },
  {
   "cell_type": "markdown",
   "id": "b2b69e37",
   "metadata": {},
   "source": [
    "# <center><font color='green'>str.split</font></center>\n",
    "## (separator): Splits the string into a list of substrings based on the specified separator."
   ]
  },
  {
   "cell_type": "code",
   "execution_count": 16,
   "id": "3af082da",
   "metadata": {},
   "outputs": [
    {
     "data": {
      "text/plain": [
       "['Piper',\n",
       " 'picked',\n",
       " 'a',\n",
       " 'peck',\n",
       " 'of',\n",
       " 'pickled',\n",
       " 'peppers.',\n",
       " 'A',\n",
       " 'peck',\n",
       " 'of',\n",
       " 'pickled',\n",
       " 'peppers',\n",
       " 'Peter',\n",
       " 'Piper',\n",
       " 'picked.',\n",
       " 'If',\n",
       " 'Peter',\n",
       " 'Piper',\n",
       " 'picked',\n",
       " 'a',\n",
       " 'peck',\n",
       " 'of',\n",
       " 'pickled',\n",
       " 'peppers,',\n",
       " 'Where’s',\n",
       " 'the',\n",
       " 'peck',\n",
       " 'of',\n",
       " 'pickled',\n",
       " 'peppers',\n",
       " 'Peter',\n",
       " 'Piper',\n",
       " 'picked']"
      ]
     },
     "execution_count": 16,
     "metadata": {},
     "output_type": "execute_result"
    }
   ],
   "source": [
    "x.split()"
   ]
  },
  {
   "cell_type": "code",
   "execution_count": 17,
   "id": "edc9b664",
   "metadata": {},
   "outputs": [],
   "source": [
    "# now split 'a' from str"
   ]
  },
  {
   "cell_type": "markdown",
   "id": "c3a0a853",
   "metadata": {},
   "source": [
    "### The code x.split('a') is used to split the string x into a list of substrings based on the delimiter 'a'. The split method is a string method in Python that divides a string into parts wherever the specified delimiter is found and returns those parts as a list.\n",
    "\n",
    "### Here's how it works:\n",
    "\n",
    "### The string x is split into substrings wherever the character 'a' is encountered.\n",
    "\n",
    "### These substrings are then returned as elements of a list.\n",
    "\n",
    "### For example, if x is the string \"banana,\" then x.split('a') would return the list ['b', 'n', 'n', ''], because it has split the string at the positions where 'a' occurs."
   ]
  },
  {
   "cell_type": "code",
   "execution_count": 18,
   "id": "9c1daf65",
   "metadata": {},
   "outputs": [
    {
     "data": {
      "text/plain": [
       "[' Piper picked ',\n",
       " ' peck of pickled peppers.\\nA peck of pickled peppers Peter Piper picked.\\nIf Peter Piper picked ',\n",
       " ' peck of pickled peppers,\\nWhere’s the peck of pickled peppers Peter Piper picked']"
      ]
     },
     "execution_count": 18,
     "metadata": {},
     "output_type": "execute_result"
    }
   ],
   "source": [
    "x.split('a')"
   ]
  },
  {
   "cell_type": "markdown",
   "id": "ce779b01",
   "metadata": {},
   "source": [
    "# <center><font color='green'>max split</font><center>"
   ]
  },
  {
   "cell_type": "code",
   "execution_count": 19,
   "id": "6223c851",
   "metadata": {},
   "outputs": [
    {
     "data": {
      "text/plain": [
       "True"
      ]
     },
     "execution_count": 19,
     "metadata": {},
     "output_type": "execute_result"
    }
   ],
   "source": [
    "r1 = x.rsplit()\n",
    "ll = x.split()\n",
    "r1 == ll"
   ]
  },
  {
   "cell_type": "markdown",
   "id": "a355e074",
   "metadata": {},
   "source": [
    "### The code x.split(' ', maxsplit=3) is using the split() method to split the string x into parts based on the space character (' '), and it limits the number of splits to a maximum of 3 using the maxsplit parameter.\n",
    "\n",
    "### Here's how it works:\n",
    "\n",
    "### The string x is split into parts wherever the space character (' ') is encountered.\n",
    "### The maxsplit parameter is set to 3, which means it will make at most 3 splits. This means it will divide the string into a maximum of 4 parts (3 splits).\n",
    "### For example, if x is the string \"This is a sample sentence,\" then x.split(' ', maxsplit=3) would return the list ['This', 'is', 'a', 'sample sentence']. It has split the string into four parts: \"This,\" \"is,\" \"a,\" and \"sample sentence.\""
   ]
  },
  {
   "cell_type": "code",
   "execution_count": 20,
   "id": "0260ace8",
   "metadata": {},
   "outputs": [
    {
     "data": {
      "text/plain": [
       "['',\n",
       " 'Piper',\n",
       " 'picked',\n",
       " 'a peck of pickled peppers.\\nA peck of pickled peppers Peter Piper picked.\\nIf Peter Piper picked a peck of pickled peppers,\\nWhere’s the peck of pickled peppers Peter Piper picked']"
      ]
     },
     "execution_count": 20,
     "metadata": {},
     "output_type": "execute_result"
    }
   ],
   "source": [
    "x.split(' ',maxsplit=3)"
   ]
  },
  {
   "cell_type": "code",
   "execution_count": 21,
   "id": "97a805c7",
   "metadata": {},
   "outputs": [
    {
     "data": {
      "text/plain": [
       "True"
      ]
     },
     "execution_count": 21,
     "metadata": {},
     "output_type": "execute_result"
    }
   ],
   "source": [
    "'rsplit' in dir(str)"
   ]
  },
  {
   "cell_type": "code",
   "execution_count": 23,
   "id": "32aae989",
   "metadata": {},
   "outputs": [
    {
     "data": {
      "text/plain": [
       "[' Piper picked a peck of pickled peppers.\\nA peck of pickled peppers Peter Piper picked.\\nIf Peter Piper picked a peck of pickled peppers,\\nWhere’s the peck of pickled peppers',\n",
       " 'Peter',\n",
       " 'Piper',\n",
       " 'picked']"
      ]
     },
     "execution_count": 23,
     "metadata": {},
     "output_type": "execute_result"
    }
   ],
   "source": [
    "x.rsplit(' ',maxsplit=3)"
   ]
  },
  {
   "cell_type": "markdown",
   "id": "06563624",
   "metadata": {},
   "source": [
    "### The code x.rsplit(' ', maxsplit=3) is using the rsplit() method to split the string x into parts based on the space character (' '), and it limits the number of splits to a maximum of 3 using the maxsplit parameter. The rsplit() method starts splitting from the right side (the end of the string) rather than the left side.\n",
    "\n",
    "### Here's how it works:\n",
    "\n",
    "### The string x is split into parts wherever the space character (' ') is encountered.\n",
    "### The maxsplit parameter is set to 3, which means it will make at most 3 splits from the right side."
   ]
  },
  {
   "cell_type": "code",
   "execution_count": null,
   "id": "c82b8416",
   "metadata": {},
   "outputs": [],
   "source": []
  },
  {
   "cell_type": "markdown",
   "id": "03237d91",
   "metadata": {},
   "source": [
    "# <center><font color='green'>partition() and rpartition()</font></center>"
   ]
  },
  {
   "cell_type": "markdown",
   "id": "7f83b951",
   "metadata": {},
   "source": [
    "### In Python, the partition() and rpartition() methods are used to split a string into three parts based on a specified separator or delimiter. These methods are somewhat similar to split(), but they always return three parts: the part before the first occurrence of the separator, the separator itself, and the part after the first occurrence of the separator. If the separator is not found, they return the original string as the first part, and two empty strings for the separator and the part after."
   ]
  },
  {
   "cell_type": "markdown",
   "id": "fd399dee",
   "metadata": {},
   "source": [
    "## 1. partition(separator):\n",
    "## It splits the string into three parts: the part before the first occurrence of separator, the separator itself, and the part after the first occurrence of separator.\n",
    "## If separator is not found in the string, it returns the original string as the first part, and two empty strings for the separator and the part after.\n",
    "## 2.rpartition(separator):\n",
    "## It is similar to partition(), but it starts the split from the right (the end of the string) and looks for the last occurrence of separator.\n",
    "## If separator is not found in the string, it returns the original string as the first part, and two empty strings for the separator and the part before."
   ]
  },
  {
   "cell_type": "code",
   "execution_count": 24,
   "id": "b79d1630",
   "metadata": {},
   "outputs": [],
   "source": [
    "#### Here are some examples:"
   ]
  },
  {
   "cell_type": "code",
   "execution_count": 25,
   "id": "d752fb72",
   "metadata": {},
   "outputs": [
    {
     "name": "stdout",
     "output_type": "stream",
     "text": [
      "('apple', ',', 'banana,cherry')\n",
      "('apple,banana', ',', 'cherry')\n",
      "('grape', '', '')\n",
      "('', '', 'grape')\n"
     ]
    }
   ],
   "source": [
    "text = \"apple,banana,cherry\"\n",
    "\n",
    "result1 = text.partition(',')\n",
    "print(result1)  # ('apple', ',', 'banana,cherry')\n",
    "\n",
    "result2 = text.rpartition(',')\n",
    "print(result2)  # ('apple,banana', ',', 'cherry')\n",
    "\n",
    "text2 = \"grape\"\n",
    "result3 = text2.partition(',')\n",
    "print(result3)  # ('grape', '', '')\n",
    "\n",
    "result4 = text2.rpartition(',')\n",
    "print(result4)  # ('grape', '', '')\n"
   ]
  },
  {
   "cell_type": "markdown",
   "id": "916c577d",
   "metadata": {},
   "source": [
    "# <center><font color='green'>splitline</font></center>"
   ]
  },
  {
   "cell_type": "markdown",
   "id": "2da4c470",
   "metadata": {},
   "source": [
    "### in Python, the splitlines() method is used to split a string into a list of lines based on line breaks or newline characters. It is particularly useful when dealing with text files or multiline strings. The splitlines() method considers different types of line endings, such as \\n (newline), \\r (carriage return), and \\r\\n (carriage return + newline).\n",
    "\n",
    "### Here's how to use the splitlines() method:"
   ]
  },
  {
   "cell_type": "code",
   "execution_count": 31,
   "id": "1d26cf2a",
   "metadata": {},
   "outputs": [
    {
     "data": {
      "text/plain": [
       "' Piper picked a peck of pickled peppers.\\nA peck of pickled peppers Peter Piper picked.\\nIf Peter Piper picked a peck of pickled peppers,\\nWhere’s the peck of pickled peppers Peter Piper picked'"
      ]
     },
     "execution_count": 31,
     "metadata": {},
     "output_type": "execute_result"
    }
   ],
   "source": [
    "x"
   ]
  },
  {
   "cell_type": "code",
   "execution_count": 32,
   "id": "b2b804e1",
   "metadata": {},
   "outputs": [
    {
     "data": {
      "text/plain": [
       "[' Piper picked a peck of pickled peppers.',\n",
       " 'A peck of pickled peppers Peter Piper picked.',\n",
       " 'If Peter Piper picked a peck of pickled peppers,',\n",
       " 'Where’s the peck of pickled peppers Peter Piper picked']"
      ]
     },
     "execution_count": 32,
     "metadata": {},
     "output_type": "execute_result"
    }
   ],
   "source": [
    "x.split('\\n')"
   ]
  },
  {
   "cell_type": "code",
   "execution_count": 33,
   "id": "cb7b6ee6",
   "metadata": {},
   "outputs": [
    {
     "data": {
      "text/plain": [
       "[' Piper picked a peck of pickled peppers.',\n",
       " 'A peck of pickled peppers Peter Piper picked.',\n",
       " 'If Peter Piper picked a peck of pickled peppers,',\n",
       " 'Where’s the peck of pickled peppers Peter Piper picked']"
      ]
     },
     "execution_count": 33,
     "metadata": {},
     "output_type": "execute_result"
    }
   ],
   "source": [
    "x.splitlines()"
   ]
  },
  {
   "cell_type": "code",
   "execution_count": 37,
   "id": "275cb054",
   "metadata": {},
   "outputs": [
    {
     "name": "stdout",
     "output_type": "stream",
     "text": [
      "['Line 1', 'Line 2', 'Line 3', 'Line 4']\n"
     ]
    }
   ],
   "source": [
    "x = \"Line 1\\nLine 2\\rLine 3\\r\\nLine 4\"\n",
    "lines = x.splitlines()\n",
    "print(lines)\n"
   ]
  },
  {
   "cell_type": "code",
   "execution_count": 38,
   "id": "dacced6f",
   "metadata": {},
   "outputs": [
    {
     "name": "stdout",
     "output_type": "stream",
     "text": [
      "['apple', 'banana', 'orange']\n"
     ]
    }
   ],
   "source": [
    "x = \"apple,banana,orange\"\n",
    "fruits = x.split(',')\n",
    "print(fruits)\n"
   ]
  },
  {
   "cell_type": "markdown",
   "id": "4e4f7668",
   "metadata": {},
   "source": [
    "# <center><font color='green'>center</font></center>\n",
    "### In Python, the term \"center\" typically refers to a string method called str.center(width, fillchar). This method is used to center-align a string within a given width and optionally fill the remaining space with a specified character"
   ]
  },
  {
   "cell_type": "code",
   "execution_count": 1,
   "id": "15d09788",
   "metadata": {},
   "outputs": [
    {
     "data": {
      "text/plain": [
       "'Astronaut'"
      ]
     },
     "execution_count": 1,
     "metadata": {},
     "output_type": "execute_result"
    }
   ],
   "source": [
    "a1 = 'Astronaut'\n",
    "a1"
   ]
  },
  {
   "cell_type": "code",
   "execution_count": 9,
   "id": "c5d4cefb",
   "metadata": {},
   "outputs": [
    {
     "data": {
      "text/plain": [
       "'          Astronaut           '"
      ]
     },
     "execution_count": 9,
     "metadata": {},
     "output_type": "execute_result"
    }
   ],
   "source": [
    "a1.center(30)"
   ]
  },
  {
   "cell_type": "code",
   "execution_count": 3,
   "id": "13daf6fa",
   "metadata": {},
   "outputs": [
    {
     "data": {
      "text/plain": [
       "'**********Astronaut***********'"
      ]
     },
     "execution_count": 3,
     "metadata": {},
     "output_type": "execute_result"
    }
   ],
   "source": [
    "a1.center(30, '*')"
   ]
  },
  {
   "cell_type": "markdown",
   "id": "0e0a6e87",
   "metadata": {},
   "source": [
    "### In this output, the word 'Astronaut' is centered within a total width of 30 characters, and spaces are added on both sides to achieve that width."
   ]
  },
  {
   "cell_type": "markdown",
   "id": "09125adc",
   "metadata": {},
   "source": [
    "# <center><font color='green'>ljust & rjust</font></center>\n",
    "### in Python, ljust and rjust are string methods used to align text within a specified width by padding it with a specific character. Here's what each of them does:"
   ]
  },
  {
   "cell_type": "markdown",
   "id": "1801608b",
   "metadata": {},
   "source": [
    "## ljust"
   ]
  },
  {
   "cell_type": "code",
   "execution_count": 10,
   "id": "70a65000",
   "metadata": {},
   "outputs": [
    {
     "data": {
      "text/plain": [
       "'Astronaut           '"
      ]
     },
     "execution_count": 10,
     "metadata": {},
     "output_type": "execute_result"
    }
   ],
   "source": [
    "a1.ljust(20)"
   ]
  },
  {
   "cell_type": "markdown",
   "id": "85daa2d4",
   "metadata": {},
   "source": [
    "### In this example, the string 'Astronaut' is left-justified within a total width of 20 characters, and spaces are added on the right side to achieve that width."
   ]
  },
  {
   "cell_type": "markdown",
   "id": "a221eb5f",
   "metadata": {},
   "source": [
    "## rjust"
   ]
  },
  {
   "cell_type": "code",
   "execution_count": 11,
   "id": "5623fd9c",
   "metadata": {},
   "outputs": [
    {
     "data": {
      "text/plain": [
       "'           Astronaut'"
      ]
     },
     "execution_count": 11,
     "metadata": {},
     "output_type": "execute_result"
    }
   ],
   "source": [
    "a1.rjust(20)"
   ]
  },
  {
   "cell_type": "markdown",
   "id": "78f8e492",
   "metadata": {},
   "source": [
    "### In this example, the string 'Astronaut' is right-justified within a total width of 20 characters, and spaces are added on the left to achieve that width."
   ]
  },
  {
   "cell_type": "code",
   "execution_count": 12,
   "id": "ba85e563",
   "metadata": {},
   "outputs": [
    {
     "data": {
      "text/plain": [
       "('           Astronaut', 'Astronaut***********')"
      ]
     },
     "execution_count": 12,
     "metadata": {},
     "output_type": "execute_result"
    }
   ],
   "source": [
    "a1.rjust(20),a1.ljust(20, '*')"
   ]
  },
  {
   "cell_type": "markdown",
   "id": "2a8a9b0d",
   "metadata": {},
   "source": [
    "### In the first line, the string 'Astronaut' is right-justified within a total width of 20 characters, and spaces are added on the left.\n",
    "\n",
    "### In the second line, the string 'Astronaut' is left-justified within a total width of 20 characters, and '*' is used as the padding character on the right."
   ]
  },
  {
   "cell_type": "code",
   "execution_count": 13,
   "id": "1c7475f6",
   "metadata": {},
   "outputs": [
    {
     "data": {
      "text/plain": [
       "('***********Astronaut', 'Astronaut***********')"
      ]
     },
     "execution_count": 13,
     "metadata": {},
     "output_type": "execute_result"
    }
   ],
   "source": [
    "a1.rjust(20, '*'),a1.ljust(20, '*')"
   ]
  },
  {
   "cell_type": "markdown",
   "id": "9f4fd6da",
   "metadata": {},
   "source": [
    "# <center><font color='green'>zfill()</center>\n",
    "## The zfill() method is a string method in Python that is used to pad a numeric string on the left with zeros. This method is ## typically used for formatting numbers in a specific width."
   ]
  },
  {
   "cell_type": "code",
   "execution_count": 17,
   "id": "ed83dd38",
   "metadata": {},
   "outputs": [
    {
     "name": "stdout",
     "output_type": "stream",
     "text": [
      "00042\n"
     ]
    }
   ],
   "source": [
    "number = \"42\"\n",
    "padded_number = number.zfill(5)\n",
    "\n",
    "print(padded_number)\n"
   ]
  },
  {
   "cell_type": "markdown",
   "id": "3197af94",
   "metadata": {},
   "source": [
    "### In this example, the original string \"42\" is padded with zeros on the left to achieve a width of 5 characters:"
   ]
  },
  {
   "cell_type": "code",
   "execution_count": 16,
   "id": "a4035502",
   "metadata": {},
   "outputs": [
    {
     "data": {
      "text/plain": [
       "'00000000000Astronaut'"
      ]
     },
     "execution_count": 16,
     "metadata": {},
     "output_type": "execute_result"
    }
   ],
   "source": [
    "a1.zfill(20)"
   ]
  },
  {
   "cell_type": "markdown",
   "id": "416274dc",
   "metadata": {},
   "source": [
    "### In this output, 'Astronaut' remains unchanged, and zeros are added to the left to achieve a width of 20 characters."
   ]
  },
  {
   "cell_type": "code",
   "execution_count": null,
   "id": "67b54c4c",
   "metadata": {},
   "outputs": [],
   "source": []
  },
  {
   "cell_type": "code",
   "execution_count": 15,
   "id": "c72d5c62",
   "metadata": {},
   "outputs": [
    {
     "data": {
      "text/plain": [
       "'!@#Astronaut#@!'"
      ]
     },
     "execution_count": 15,
     "metadata": {},
     "output_type": "execute_result"
    }
   ],
   "source": [
    "a='!@#' +a1+ '#@!'\n",
    "a"
   ]
  },
  {
   "cell_type": "code",
   "execution_count": null,
   "id": "90c4f5e7",
   "metadata": {},
   "outputs": [],
   "source": []
  },
  {
   "cell_type": "markdown",
   "id": "73864ccd",
   "metadata": {},
   "source": [
    "# <center><font color='green'>strip()</center> \n",
    " #removing white space\n",
    "    \n",
    "### The strip() method is a string method in Python that is used to remove leading and trailing whitespace (spaces, tabs, and newline characters) from a string. It does not remove whitespace characters within the string, only from the beginning and end. Here's the basic syntax of the strip() method"
   ]
  },
  {
   "cell_type": "code",
   "execution_count": 21,
   "id": "9bc3d411",
   "metadata": {},
   "outputs": [
    {
     "name": "stdout",
     "output_type": "stream",
     "text": [
      "Hello, world!\n"
     ]
    }
   ],
   "source": [
    "my_string = \" Hello, world! \"\n",
    "stripped_string = my_string.strip() \n",
    "\n",
    "print(stripped_string) \n"
   ]
  },
  {
   "cell_type": "markdown",
   "id": "344e969e",
   "metadata": {},
   "source": [
    "### In this example, the strip() method removed the leading and trailing spaces from the my_string variable, leaving only the content of the string, which is \"Hello, world!\" without the extra spaces"
   ]
  },
  {
   "cell_type": "code",
   "execution_count": null,
   "id": "1474cfdd",
   "metadata": {},
   "outputs": [],
   "source": []
  },
  {
   "cell_type": "code",
   "execution_count": 29,
   "id": "8c964b61",
   "metadata": {},
   "outputs": [
    {
     "data": {
      "text/plain": [
       "'  hi how are you  '"
      ]
     },
     "execution_count": 29,
     "metadata": {},
     "output_type": "execute_result"
    }
   ],
   "source": [
    "'  hi how are you  '\n"
   ]
  },
  {
   "cell_type": "code",
   "execution_count": 22,
   "id": "998ed2b6",
   "metadata": {},
   "outputs": [
    {
     "data": {
      "text/plain": [
       "'Astronaut'"
      ]
     },
     "execution_count": 22,
     "metadata": {},
     "output_type": "execute_result"
    }
   ],
   "source": [
    "a1.strip()"
   ]
  },
  {
   "cell_type": "code",
   "execution_count": 23,
   "id": "0ad7035b",
   "metadata": {},
   "outputs": [
    {
     "data": {
      "text/plain": [
       "'!@#Astronaut#@!'"
      ]
     },
     "execution_count": 23,
     "metadata": {},
     "output_type": "execute_result"
    }
   ],
   "source": [
    "a"
   ]
  },
  {
   "cell_type": "code",
   "execution_count": 24,
   "id": "544e6e5f",
   "metadata": {},
   "outputs": [
    {
     "data": {
      "text/plain": [
       "'@#Astronaut#@'"
      ]
     },
     "execution_count": 24,
     "metadata": {},
     "output_type": "execute_result"
    }
   ],
   "source": [
    "a.strip('!')"
   ]
  },
  {
   "cell_type": "code",
   "execution_count": 25,
   "id": "72f5930d",
   "metadata": {},
   "outputs": [
    {
     "data": {
      "text/plain": [
       "'!@#Astronaut#@!'"
      ]
     },
     "execution_count": 25,
     "metadata": {},
     "output_type": "execute_result"
    }
   ],
   "source": [
    "a"
   ]
  },
  {
   "cell_type": "code",
   "execution_count": 26,
   "id": "8c7ee5be",
   "metadata": {},
   "outputs": [
    {
     "data": {
      "text/plain": [
       "'#Astronaut#'"
      ]
     },
     "execution_count": 26,
     "metadata": {},
     "output_type": "execute_result"
    }
   ],
   "source": [
    "a.strip('!@')"
   ]
  },
  {
   "cell_type": "code",
   "execution_count": 27,
   "id": "edf95119",
   "metadata": {},
   "outputs": [
    {
     "data": {
      "text/plain": [
       "'Astronaut'"
      ]
     },
     "execution_count": 27,
     "metadata": {},
     "output_type": "execute_result"
    }
   ],
   "source": [
    "a.strip('!@#')"
   ]
  },
  {
   "cell_type": "code",
   "execution_count": 28,
   "id": "814ffd01",
   "metadata": {},
   "outputs": [
    {
     "data": {
      "text/plain": [
       "'!@#Astronaut#^@!'"
      ]
     },
     "execution_count": 28,
     "metadata": {},
     "output_type": "execute_result"
    }
   ],
   "source": [
    "aa=a[:-2]+'^'+a[-2:]\n",
    "aa"
   ]
  },
  {
   "cell_type": "markdown",
   "id": "00279aba",
   "metadata": {},
   "source": [
    "# In Python, rstrip() and lstrip() are string methods used to remove trailing (right) and leading (left) whitespace characters, respectively, from a string. These methods allow you to control the direction from which you want to remove whitespace. Here's how they work:"
   ]
  },
  {
   "cell_type": "code",
   "execution_count": 19,
   "id": "3c4c8162",
   "metadata": {},
   "outputs": [
    {
     "data": {
      "text/plain": [
       "'hello alex dmx'"
      ]
     },
     "execution_count": 19,
     "metadata": {},
     "output_type": "execute_result"
    }
   ],
   "source": [
    "p='hello alex dmx'\n",
    "p"
   ]
  },
  {
   "cell_type": "code",
   "execution_count": 20,
   "id": "0d88e166",
   "metadata": {},
   "outputs": [
    {
     "data": {
      "text/plain": [
       "'ello alex dmx'"
      ]
     },
     "execution_count": 20,
     "metadata": {},
     "output_type": "execute_result"
    }
   ],
   "source": [
    "p.strip('h') # strating and ending strip from both side"
   ]
  },
  {
   "cell_type": "markdown",
   "id": "be994228",
   "metadata": {},
   "source": [
    "### example-1"
   ]
  },
  {
   "cell_type": "markdown",
   "id": "ab2022e3",
   "metadata": {},
   "source": [
    "### rstrip"
   ]
  },
  {
   "cell_type": "code",
   "execution_count": 63,
   "id": "3add9eb5",
   "metadata": {},
   "outputs": [
    {
     "data": {
      "text/plain": [
       "'hello alex dm'"
      ]
     },
     "execution_count": 63,
     "metadata": {},
     "output_type": "execute_result"
    }
   ],
   "source": [
    "p.rstrip('x') # from > right"
   ]
  },
  {
   "cell_type": "markdown",
   "id": "78ae9178",
   "metadata": {},
   "source": [
    "### lstrip"
   ]
  },
  {
   "cell_type": "code",
   "execution_count": 68,
   "id": "ef47b6c3",
   "metadata": {},
   "outputs": [
    {
     "data": {
      "text/plain": [
       "'ello alex dmx'"
      ]
     },
     "execution_count": 68,
     "metadata": {},
     "output_type": "execute_result"
    }
   ],
   "source": [
    "p.lstrip('h') # from < left"
   ]
  },
  {
   "cell_type": "markdown",
   "id": "65446cbe",
   "metadata": {},
   "source": [
    "### example-2"
   ]
  },
  {
   "cell_type": "code",
   "execution_count": 72,
   "id": "357b7d59",
   "metadata": {},
   "outputs": [
    {
     "data": {
      "text/plain": [
       "'alex max laa'"
      ]
     },
     "execution_count": 72,
     "metadata": {},
     "output_type": "execute_result"
    }
   ],
   "source": [
    "z='alex max laa'\n",
    "z"
   ]
  },
  {
   "cell_type": "code",
   "execution_count": 73,
   "id": "57ab3cd6",
   "metadata": {},
   "outputs": [
    {
     "data": {
      "text/plain": [
       "'alex max l'"
      ]
     },
     "execution_count": 73,
     "metadata": {},
     "output_type": "execute_result"
    }
   ],
   "source": [
    "z.rstrip('a')"
   ]
  },
  {
   "cell_type": "code",
   "execution_count": 74,
   "id": "7ca8c899",
   "metadata": {},
   "outputs": [
    {
     "data": {
      "text/plain": [
       "'lex max laa'"
      ]
     },
     "execution_count": 74,
     "metadata": {},
     "output_type": "execute_result"
    }
   ],
   "source": [
    "z.lstrip('a')"
   ]
  },
  {
   "cell_type": "markdown",
   "id": "93036377",
   "metadata": {},
   "source": [
    "# <center><font color='green'>joint()</center>\n",
    "##  which is used to concatenate a sequence of strings with a specified delimiter."
   ]
  },
  {
   "cell_type": "markdown",
   "id": "122ebc02",
   "metadata": {},
   "source": [
    "### example-1"
   ]
  },
  {
   "cell_type": "code",
   "execution_count": 75,
   "id": "e994152f",
   "metadata": {},
   "outputs": [],
   "source": [
    "y=['*','a','l','e','x']"
   ]
  },
  {
   "cell_type": "code",
   "execution_count": 76,
   "id": "89300170",
   "metadata": {},
   "outputs": [
    {
     "data": {
      "text/plain": [
       "'*yaylyeyx'"
      ]
     },
     "execution_count": 76,
     "metadata": {},
     "output_type": "execute_result"
    }
   ],
   "source": [
    "'y'.join(['*','a','l','e','x'])"
   ]
  },
  {
   "cell_type": "markdown",
   "id": "ec7b72c9",
   "metadata": {},
   "source": [
    "## .join() method to concatenate the elements of the list ['*', 'a', 'l', 'e', 'x'] with the character 'y' as the delimiter."
   ]
  },
  {
   "cell_type": "markdown",
   "id": "81a4a9d5",
   "metadata": {},
   "source": [
    "### example-2"
   ]
  },
  {
   "cell_type": "code",
   "execution_count": 77,
   "id": "65c920fb",
   "metadata": {},
   "outputs": [
    {
     "data": {
      "text/plain": [
       "'gravity light'"
      ]
     },
     "execution_count": 77,
     "metadata": {},
     "output_type": "execute_result"
    }
   ],
   "source": [
    "' '.join(['gravity','light'])"
   ]
  },
  {
   "cell_type": "markdown",
   "id": "f7c4a41a",
   "metadata": {},
   "source": [
    "## In this example, the elements of the list are concatenated with a space character (' ') between them, creating the string \"gravity light.\""
   ]
  },
  {
   "cell_type": "markdown",
   "id": "d0c9ffb6",
   "metadata": {},
   "source": [
    "### example-3"
   ]
  },
  {
   "cell_type": "markdown",
   "id": "3e302c89",
   "metadata": {},
   "source": [
    "### 1. split() the variable\n",
    "### 2. join() with (**)"
   ]
  },
  {
   "cell_type": "code",
   "execution_count": 78,
   "id": "4930162c",
   "metadata": {},
   "outputs": [
    {
     "data": {
      "text/plain": [
       "'light speed is greater then sound speed and'"
      ]
     },
     "execution_count": 78,
     "metadata": {},
     "output_type": "execute_result"
    }
   ],
   "source": [
    "st1=\"light speed is greater then sound speed and\"\n",
    "st1"
   ]
  },
  {
   "cell_type": "code",
   "execution_count": 79,
   "id": "cc8cceb3",
   "metadata": {},
   "outputs": [
    {
     "data": {
      "text/plain": [
       "['light', 'speed', 'is', 'greater', 'then', 'sound', 'speed', 'and']"
      ]
     },
     "execution_count": 79,
     "metadata": {},
     "output_type": "execute_result"
    }
   ],
   "source": [
    "st1.split()"
   ]
  },
  {
   "cell_type": "code",
   "execution_count": 81,
   "id": "0b75821f",
   "metadata": {},
   "outputs": [
    {
     "data": {
      "text/plain": [
       "'light ** speed ** is ** greater ** then ** sound ** speed ** and'"
      ]
     },
     "execution_count": 81,
     "metadata": {},
     "output_type": "execute_result"
    }
   ],
   "source": [
    "' ** '.join(['light','speed','is','greater','then','sound','speed','and'])"
   ]
  },
  {
   "cell_type": "markdown",
   "id": "a42a4ebc",
   "metadata": {},
   "source": [
    "### The code you provided uses the .join() method to concatenate the elements of the list ['light', 'speed', 'is', 'greater', 'then', 'sound', 'speed', 'and'] with the string ' ** ' "
   ]
  },
  {
   "cell_type": "markdown",
   "id": "c85045b6",
   "metadata": {},
   "source": [
    "# <center><font color='green'>startswith()</font></center>\n",
    "### is used to check if a string starts with a specified prefix or substring. It returns True if the string begins with the given prefix and False otherwise. Here's the basic syntax of the startswith() "
   ]
  },
  {
   "cell_type": "code",
   "execution_count": 83,
   "id": "8a6dee72",
   "metadata": {},
   "outputs": [
    {
     "data": {
      "text/plain": [
       "True"
      ]
     },
     "execution_count": 83,
     "metadata": {},
     "output_type": "execute_result"
    }
   ],
   "source": [
    "'a bc z'.startswith('a') # starting point"
   ]
  },
  {
   "cell_type": "markdown",
   "id": "0c92611d",
   "metadata": {},
   "source": [
    "### string-The string you want to check.\n",
    "### prefix- The substring you want to check for at the beginning of the string.\n",
    "### start (optional)- The index at which the search begins (default is 0).\n",
    "### end (optional)- The index at which the search ends (default is the end of the string).\n",
    "### Here's an example:\n",
    "\n"
   ]
  },
  {
   "cell_type": "code",
   "execution_count": 39,
   "id": "a602bb98",
   "metadata": {},
   "outputs": [
    {
     "name": "stdout",
     "output_type": "stream",
     "text": [
      "True\n"
     ]
    }
   ],
   "source": [
    "text = \"Hello, World!\"\n",
    "result = text.startswith(\"Hello\")\n",
    "\n",
    "print(result)  # This will return True\n"
   ]
  },
  {
   "cell_type": "markdown",
   "id": "be03d966",
   "metadata": {},
   "source": [
    "# <center><font color='green'>endswith()</font></center>"
   ]
  },
  {
   "cell_type": "markdown",
   "id": "af39bebc",
   "metadata": {},
   "source": [
    " # endswith() method is a built-in string method used to check if a string ends with a specified suffix or a sequence of characters. It returns True if the string ends with the specified suffix, and False otherwise. "
   ]
  },
  {
   "cell_type": "markdown",
   "id": "e0b69505",
   "metadata": {},
   "source": [
    "# Parameters:\n",
    "\n",
    "# suffix: The substring you want to check whether the string ends with.\n",
    "# start (optional): The beginning index for the search. If provided, the search for the suffix will start from this index. The default value is 0, which means it will start from the beginning of the string.\n",
    "# end (optional): The ending index for the search. If provided, the search will be performed up to, but not including, this index. The default value is the length of the string, which means the search will go up to the end of the string."
   ]
  },
  {
   "cell_type": "code",
   "execution_count": 12,
   "id": "6f73851b",
   "metadata": {},
   "outputs": [
    {
     "name": "stdout",
     "output_type": "stream",
     "text": [
      "True\n",
      "False\n",
      "True\n"
     ]
    }
   ],
   "source": [
    "text = \"Hello space world\"\n",
    "result1 = text.endswith(\"World!\")  # True, as it ends with \"World!\"\n",
    "result2 = text.endswith(\"Hello\")   # False, as it does not end with \"Hello\"\n",
    "result3 = text.endswith(\"World!\", 0, 5)  # False, as the search range is limited to the first 5 characters\n",
    "\n",
    "print(text.endswith(\"world\"))\n",
    "print(text.endswith(\"hello\"))\n",
    "print(text.endswith(\"world\"))\n"
   ]
  },
  {
   "cell_type": "code",
   "execution_count": null,
   "id": "2ec9f1f5",
   "metadata": {},
   "outputs": [],
   "source": []
  },
  {
   "cell_type": "markdown",
   "id": "ef630246",
   "metadata": {},
   "source": [
    "<style>\n",
    ".red-text {\n",
    "    color: red;\n",
    "}\n",
    "</style>\n"
   ]
  },
  {
   "cell_type": "markdown",
   "id": "372ce71f",
   "metadata": {},
   "source": [
    "# <center><font color='green'>isdigit()</font></center>"
   ]
  },
  {
   "cell_type": "markdown",
   "id": "331a3bb9",
   "metadata": {},
   "source": [
    "# The isdigit() method is a built-in method in Python used to check if all the characters in a given string are digits (0-9). It returns True if all characters in the string are digits, and False otherwise."
   ]
  },
  {
   "cell_type": "code",
   "execution_count": 111,
   "id": "a78db290",
   "metadata": {},
   "outputs": [
    {
     "name": "stdout",
     "output_type": "stream",
     "text": [
      "True\n",
      "False\n",
      "False\n"
     ]
    }
   ],
   "source": [
    "text1 = \"12345\"\n",
    "text2 = \"42.0\"\n",
    "text3 = \"abc123\"\n",
    "\n",
    "print(text1.isdigit())  # True\n",
    "print(text2.isdigit())  # False (due to the decimal point)\n",
    "print(text3.isdigit())  # False (contains non-digit characters)\n"
   ]
  },
  {
   "cell_type": "markdown",
   "id": "66ee38b4",
   "metadata": {},
   "source": [
    "### In this example, text1 contains only digits, so text1.isdigit() returns True. text2 contains a decimal point, so it's not considered a digit, and text3 contains non-digit characters, so it also returns False.\n",
    "\n",
    "### 3 The isdigit() method is useful for tasks like checking if a string represents a numeric value before attempting mathematical operations on it."
   ]
  },
  {
   "cell_type": "code",
   "execution_count": 112,
   "id": "5c7990e9",
   "metadata": {},
   "outputs": [
    {
     "data": {
      "text/plain": [
       "False"
      ]
     },
     "execution_count": 112,
     "metadata": {},
     "output_type": "execute_result"
    }
   ],
   "source": [
    "'5.5'.isdecimal()"
   ]
  },
  {
   "cell_type": "markdown",
   "id": "e7e276d0",
   "metadata": {},
   "source": [
    "# <center><font color='green'>maketrans()</font></center>"
   ]
  },
  {
   "cell_type": "markdown",
   "id": "022e41d5",
   "metadata": {},
   "source": [
    "### The Python String maketrans() method creates a translation table that contains mapping information of several characters. This translation table is then used by the translate() function to replace these characters with their corresponding characters in the table."
   ]
  },
  {
   "cell_type": "markdown",
   "id": "35548522",
   "metadata": {},
   "source": [
    "### Note − Both strings used by this method must have the same length."
   ]
  },
  {
   "cell_type": "markdown",
   "id": "f671fa7f",
   "metadata": {},
   "source": [
    "## Syntax-maketrans()"
   ]
  },
  {
   "cell_type": "markdown",
   "id": "c66a04b4",
   "metadata": {},
   "source": [
    "## Parameters\n",
    "### x − This is the string having actual characters.\n",
    "\n",
    "### y − This is the string having corresponding mapping character.\n",
    "\n",
    "### z − This is a string. It is an optional third parameter. If passed, each character in this string will be mapped to None."
   ]
  },
  {
   "cell_type": "markdown",
   "id": "e497864c",
   "metadata": {},
   "source": [
    "# example_1"
   ]
  },
  {
   "cell_type": "code",
   "execution_count": 120,
   "id": "3554184d",
   "metadata": {
    "scrolled": true
   },
   "outputs": [
    {
     "name": "stdout",
     "output_type": "stream",
     "text": [
      "Translation Table:\n",
      "{97: 49, 101: 50, 105: 51, 111: 52, 117: 53}\n",
      "\n",
      "Translated text:\n",
      "th3s 3s str3ng 2x1mpl2....w4w!!!\n"
     ]
    }
   ],
   "source": [
    "intab = \"aeiou\"\n",
    "outtab = \"12345\"\n",
    "\n",
    "text = \"this is string example....wow!!!\"\n",
    "translation_table = text.maketrans(intab, outtab)\n",
    "\n",
    "print(\"Translation Table:\")\n",
    "print(translation_table)\n",
    "print()\n",
    "\n",
    "# Using the translation table with translate() method\n",
    "translated_text = text.translate(translation_table)\n",
    "print(\"Translated text:\")\n",
    "print(translated_text)\n"
   ]
  },
  {
   "cell_type": "markdown",
   "id": "1e8b0ff9",
   "metadata": {},
   "source": [
    "### In this code, you created a translation table using str.maketrans(intab, outtab), where each character in intab is replaced with the corresponding character from outtab. The translation table is a dictionary where the keys are the Unicode code points of the characters to be replaced and the values are the code points of the replacement characters. You then used this translation table to translate the original text, resulting in the \"Translated text\" with the specified replacements."
   ]
  },
  {
   "cell_type": "markdown",
   "id": "f006ed7c",
   "metadata": {},
   "source": [
    "# example-2"
   ]
  },
  {
   "cell_type": "code",
   "execution_count": 119,
   "id": "a6745c57",
   "metadata": {},
   "outputs": [
    {
     "name": "stdout",
     "output_type": "stream",
     "text": [
      "Original text:\n",
      "Welcome to antigravity space\n",
      "Translated text:\n",
      "W5l3om5 to 1ntigr1vity sp135\n"
     ]
    }
   ],
   "source": [
    "mydict = {'a': '1', 'b': '2', 'c': '3', 'd': '4', 'e': '5'}\n",
    "\n",
    "# Create a translation table\n",
    "translation_table = str.maketrans(mydict)\n",
    "\n",
    "text = \"Welcome to antigravity space\"\n",
    "print(\"Original text:\")\n",
    "print(text)\n",
    "\n",
    "# Using the translation table to replace characters\n",
    "translated_text = text.translate(translation_table)\n",
    "\n",
    "print(\"Translated text:\")\n",
    "print(translated_text)\n"
   ]
  },
  {
   "cell_type": "markdown",
   "id": "df2609f8",
   "metadata": {},
   "source": [
    "### In this code, you created a translation table using str.maketrans(mydict), where each key-value pair in mydict specifies a character to be replaced and its replacement. You then used this translation table to translate the original text, resulting in the \"Translated text\" with the specified replacements."
   ]
  }
 ],
 "metadata": {
  "kernelspec": {
   "display_name": "Python 3 (ipykernel)",
   "language": "python",
   "name": "python3"
  },
  "language_info": {
   "codemirror_mode": {
    "name": "ipython",
    "version": 3
   },
   "file_extension": ".py",
   "mimetype": "text/x-python",
   "name": "python",
   "nbconvert_exporter": "python",
   "pygments_lexer": "ipython3",
   "version": "3.11.5"
  }
 },
 "nbformat": 4,
 "nbformat_minor": 5
}
