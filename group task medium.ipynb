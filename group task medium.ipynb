{
 "cells": [
  {
   "cell_type": "markdown",
   "id": "c466ccfd",
   "metadata": {},
   "source": [
    "## 8) Create a function that takes an integer and outputs an n x n square solely consisting of the integer n.\n",
    "\n"
   ]
  },
  {
   "cell_type": "markdown",
   "id": "da53257e",
   "metadata": {},
   "source": [
    "# while loop"
   ]
  },
  {
   "cell_type": "code",
   "execution_count": 10,
   "id": "3349e7fe",
   "metadata": {},
   "outputs": [
    {
     "name": "stdout",
     "output_type": "stream",
     "text": [
      "Enter a positive integer n: 3\n",
      "[3, 3, 3]\n",
      "[3, 3, 3]\n",
      "[3, 3, 3]\n"
     ]
    }
   ],
   "source": [
    "n = int(input(\"Enter a positive integer n: \")) # Check if n is a positive integer\n",
    "\n",
    "if n <= 0:\n",
    "    print(\"n must be a positive integer\")\n",
    "else:\n",
    "    square = []      # assign an empty list to store the n x n square\n",
    "    i = 0\n",
    "    while i < n:         # Use a while loop to iterate from 0 to n - 1 to create rows\n",
    "        row = [n] * n              # Create a list with n copies of the integer n\n",
    "        square.append(row)    # Append the row to the square list\n",
    "        i += 1               # Increment the row counter\n",
    "\n",
    "    for row in square:    #Within the loop, this line prints the current value of row\n",
    "        print(row)\n"
   ]
  },
  {
   "cell_type": "markdown",
   "id": "2e12f053",
   "metadata": {},
   "source": [
    "# for loop"
   ]
  },
  {
   "cell_type": "code",
   "execution_count": null,
   "id": "6ad3fd01",
   "metadata": {},
   "outputs": [],
   "source": []
  },
  {
   "cell_type": "code",
   "execution_count": 8,
   "id": "7cdde546",
   "metadata": {},
   "outputs": [
    {
     "name": "stdout",
     "output_type": "stream",
     "text": [
      "Enter a positive integer n: 4\n",
      "[4, 4, 4, 4]\n",
      "[4, 4, 4, 4]\n",
      "[4, 4, 4, 4]\n",
      "[4, 4, 4, 4]\n"
     ]
    }
   ],
   "source": [
    "n = int(input(\"Enter a positive integer n: \"))\n",
    "\n",
    "if n <= 0:\n",
    "    print(\"n must be a positive integer\")\n",
    "else:\n",
    "    square = [] # assign square matrix\n",
    "    for i in range(n):     # for loop to iterate from 0 to n-1 for creating rows\n",
    "        row = [n] * n          # Create a list with n copies of the integer n\n",
    "        square.append(row)     # Append the row to the square list\n",
    "\n",
    "    for row in square:       # the resulting square\n",
    "        print(row)        #Within the loop, this line prints the current value of row\n"
   ]
  },
  {
   "cell_type": "markdown",
   "id": "c5a92b57",
   "metadata": {},
   "source": [
    "## 9) Given two strings comprised of + and -, return a new string which shows how the two strings interact in the following way:\n",
    "\n",
    "## When positives and positives interact, they remain positive.\n",
    "## When negatives and negatives interact, they remain negative.\n",
    "## But when negatives and positives interact, they become neutral, and are shown as the number 0."
   ]
  },
  {
   "cell_type": "markdown",
   "id": "5eba8454",
   "metadata": {},
   "source": [
    "# while loop"
   ]
  },
  {
   "cell_type": "code",
   "execution_count": 11,
   "id": "d60ff8d9",
   "metadata": {},
   "outputs": [
    {
     "name": "stdout",
     "output_type": "stream",
     "text": [
      "Enter the first string of + and - signs (or type 'quit' to exit): ++--\n",
      "Enter the second string of + and - signs: --+-\n",
      "Interaction result: 000-\n",
      "Enter the first string of + and - signs (or type 'quit' to exit): exit\n"
     ]
    }
   ],
   "source": [
    "while True:\n",
    "    string1 = input(\"Enter the first string of + and - signs (or type 'exit' to exit): \")\n",
    "    if string1.lower() == 'exit':\n",
    "        break  # Exit the loop if the user types 'quit'\n",
    "\n",
    "    string2 = input(\"Enter the second string of + and - signs: \")\n",
    "\n",
    "    result = \"\"\n",
    "    for char1, char2 in zip(string1, string2):\n",
    "        if char1 == '+' and char2 == '+':\n",
    "            result += '+'\n",
    "        elif char1 == '-' and char2 == '-':\n",
    "            result += '-'\n",
    "        else:\n",
    "            result += '0'\n",
    "\n",
    "    print(\"Interaction result:\", result)\n"
   ]
  },
  {
   "cell_type": "markdown",
   "id": "ece838f6",
   "metadata": {},
   "source": [
    "# for loop"
   ]
  },
  {
   "cell_type": "code",
   "execution_count": 9,
   "id": "70815202",
   "metadata": {},
   "outputs": [
    {
     "name": "stdout",
     "output_type": "stream",
     "text": [
      "Enter the first string of + and - signs: -++-\n",
      "Enter the second string of + and - signs: -+-+\n",
      "Interaction result: -+00\n"
     ]
    }
   ],
   "source": [
    "string1 = input(\"Enter the first string of + and - signs: \")\n",
    "string2 = input(\"Enter the second string of + and - signs: \")\n",
    "\n",
    "result = \"\"\n",
    "for char1, char2 in zip(string1, string2): # Initialize an empty string to store the interaction result.\n",
    "    if char1 == '+' and char2 == '+':           # Iterate through both input strings character by character using zip.\n",
    "        result += '+'\n",
    "    elif char1 == '-' and char2 == '-':              # If so, add '+' to the result.\n",
    "        result += '-'                              # If so, add '-' to the result.\n",
    "    else:\n",
    "        result += '0'       # If the characters don't match the above conditions, they are of opposite signs.\n",
    "\n",
    "print(\"Interaction result:\", result)       # Add '0' to the result, as they interact to become neutral.\n"
   ]
  },
  {
   "cell_type": "markdown",
   "id": "e51ee698",
   "metadata": {},
   "source": [
    "## 10)The iterated square root of a number is the number of times the square root function must be applied to bring the number strictly under 2.\n",
    "\n",
    "## Given an integer, return its iterated square root. Return \"invalid\" if it is negative."
   ]
  },
  {
   "cell_type": "markdown",
   "id": "1d1248b5",
   "metadata": {},
   "source": [
    "# while loop"
   ]
  },
  {
   "cell_type": "code",
   "execution_count": 15,
   "id": "0859e666",
   "metadata": {},
   "outputs": [
    {
     "name": "stdout",
     "output_type": "stream",
     "text": [
      "Enter an integer (or type 'exit' to exit): 256\n",
      "The iterated square root is 4.\n"
     ]
    }
   ],
   "source": [
    "import math\n",
    "\n",
    "while True:\n",
    "    number = int(input(\"Enter an integer (or type 'exit' to exit): \")) # Prompt the user to enter an integer.\n",
    "    \n",
    "    if number < 0:\n",
    "        print(\"Invalid input: The number is negative.\")  # Check if the input number is negative.\n",
    "    elif number == 0:\n",
    "        print(\"The iterated square root is 0.\")  # Handle special cases for number 0 and 1.\n",
    "    elif number == 1:\n",
    "        print(\"The iterated square root is 1.\")\n",
    "    else:\n",
    "        count = 0\n",
    "        while number >= 2:\n",
    "            number = math.sqrt(number)  # Calculate the square root.\n",
    "            count += 1\n",
    "\n",
    "        print(f\"The iterated square root is {count}.\")\n",
    "    \n",
    "    if number > 1:\n",
    "        break\n"
   ]
  },
  {
   "cell_type": "markdown",
   "id": "09b198f7",
   "metadata": {},
   "source": [
    "# for loop"
   ]
  },
  {
   "cell_type": "code",
   "execution_count": 36,
   "id": "7bf5de85",
   "metadata": {},
   "outputs": [
    {
     "name": "stdout",
     "output_type": "stream",
     "text": [
      "Enter an integer: 27\n",
      "The iterated square root is 3.\n"
     ]
    }
   ],
   "source": [
    "import math\n",
    "\n",
    "for _ in range(num_iterations):                  # Use a for loop to allow a fixed number of iterations.\n",
    "    number = int(input(\"Enter an integer: \"))      # Prompt the user to enter an integer.\n",
    "    \n",
    "    if number < 0:\n",
    "        print(\"Invalid input: The number is negative.\") # Check if the input number is negative.\n",
    "    elif number == 0:\n",
    "        print(\"The iterated square root is 0.\")  # Handle special cases for number 0 and 1.\n",
    "    elif number == 1:\n",
    "        print(\"The iterated square root is 1.\")\n",
    "    else:\n",
    "        count = 0\n",
    "        while number >= 2:\n",
    "            number = math.sqrt(number)  # Calculate the square root.\n",
    "            count += 1\n",
    "\n",
    "        print(f\"The iterated square root is {count}.\")  # Print the iterated square root count.\n",
    "    \n",
    "    if number > 1:\n",
    "        break\n"
   ]
  },
  {
   "cell_type": "markdown",
   "id": "b686e639",
   "metadata": {},
   "source": [
    "## 11)Syncopation means an emphasis on a weak beat of a bar of music; most commonly, beats 2 and 4 (and all other even-numbered beats if applicable).\n",
    "\n",
    "## You will be given a string representing beats, where hashtags # represent emphasized beats. Create a function that returns if True the line of music contains any syncopation, and False otherwise."
   ]
  },
  {
   "cell_type": "markdown",
   "id": "9c4786e6",
   "metadata": {},
   "source": [
    "# while loop"
   ]
  },
  {
   "cell_type": "code",
   "execution_count": 5,
   "id": "0d449d6b",
   "metadata": {},
   "outputs": [
    {
     "name": "stdout",
     "output_type": "stream",
     "text": [
      "Enter the string of beats: #.#.###.\n",
      "The line of music contains syncopation.\n"
     ]
    }
   ],
   "source": [
    "beats = input(\"Enter the string of beats: \")  # Input the string of beats representing the music\n",
    "\n",
    "has_syncopation = False                    # Initialize a variable to track if there's syncopation (False by default)\n",
    "i = 1                              # Start with the second character (index 1)\n",
    "\n",
    "while i < len(beats):\n",
    "    if beats[i] == '#':                  # Check if there's a '#' on even-numbered beats (beats 2, 4, 6, etc.)\n",
    "        has_syncopation = True\n",
    "        break              # If a '#' is found on an even-numbered beat, set has_syncopation to True and break out of the loop\n",
    "    i += 2                             # Move to the next even-numbered beat.\n",
    "\n",
    "if has_syncopation:\n",
    "    print(\"The line of music contains syncopation.\")     # Print the result based on whether syncopation was found or not\n",
    "else:\n",
    "    print(\"The line of music does not contain syncopation.\")\n"
   ]
  },
  {
   "cell_type": "code",
   "execution_count": null,
   "id": "fcbb99f5",
   "metadata": {},
   "outputs": [],
   "source": []
  },
  {
   "cell_type": "markdown",
   "id": "8052e459",
   "metadata": {},
   "source": [
    "# for loop"
   ]
  },
  {
   "cell_type": "code",
   "execution_count": 2,
   "id": "9e6c1403",
   "metadata": {},
   "outputs": [
    {
     "name": "stdout",
     "output_type": "stream",
     "text": [
      "Enter the string of beats: #.#...#.\n",
      "The line of music does not contain syncopation.\n"
     ]
    }
   ],
   "source": [
    "beats = input(\"Enter the string of beats: \") # Input the string of beats representing the music\n",
    "\n",
    "                                # Check if there's a syncopation by looking for '#' on even-numbered beats.\n",
    "has_syncopation = False            # Initialize a variable to track if there's syncopation (False by default)\n",
    "for i in range(1, len(beats), 2):  # Use a for loop to iterate through the string, starting from the second character (index 1)\n",
    "    if beats[i] == '#':              # Check if there's a '#' on even-numbered beats (beats 2, 4, 6, etc.)\n",
    "        has_syncopation = True\n",
    "        break               # If a '#' is found on an even-numbered beat, set has_syncopation to True and break out of the loop\n",
    "\n",
    "if has_syncopation:\n",
    "    print(\"The line of music contains syncopation.\") # Print the result based on whether syncopation was found or not\n",
    "else:\n",
    "    print(\"The line of music does not contain syncopation.\")\n"
   ]
  },
  {
   "cell_type": "markdown",
   "id": "293a101b",
   "metadata": {},
   "source": [
    "## 12)Create a function that returns the amount of duplicate characters in a string. It will be case sensitive and spaces are included. If there are no duplicates, return 0."
   ]
  },
  {
   "cell_type": "markdown",
   "id": "0252bf3d",
   "metadata": {},
   "source": [
    "# while loop "
   ]
  },
  {
   "cell_type": "code",
   "execution_count": 21,
   "id": "ecfe9fc1",
   "metadata": {},
   "outputs": [
    {
     "name": "stdout",
     "output_type": "stream",
     "text": [
      "Enter a string: hello world\n",
      "3\n"
     ]
    }
   ],
   "source": [
    "char_count = {}  # Dictionary to store the count of each character\n",
    "input_str = input(\"Enter a string: \")\n",
    "index = 0\n",
    "\n",
    "while index < len(input_str):\n",
    "    char = input_str[index]\n",
    "\n",
    "    if char.isalpha() or char.isspace():  # Consider only alphabetic characters and spaces\n",
    "        if char in char_count:\n",
    "            char_count[char] += 1\n",
    "        else:\n",
    "            char_count[char] = 1\n",
    "\n",
    "    index += 1\n",
    "\n",
    "duplicate_count = sum(count - 1 for count in char_count.values() if count > 1)\n",
    "print(duplicate_count)\n"
   ]
  },
  {
   "cell_type": "code",
   "execution_count": null,
   "id": "5c4d1d00",
   "metadata": {},
   "outputs": [],
   "source": []
  },
  {
   "cell_type": "markdown",
   "id": "994c5f58",
   "metadata": {},
   "source": [
    "# for loop"
   ]
  },
  {
   "cell_type": "code",
   "execution_count": 20,
   "id": "51a90f61",
   "metadata": {},
   "outputs": [
    {
     "name": "stdout",
     "output_type": "stream",
     "text": [
      "Enter a string: alex\n",
      "0\n"
     ]
    }
   ],
   "source": [
    "char_count = {}  # Dictionary to store the count of each character\n",
    "input_str = input(\"Enter a string: \")\n",
    "\n",
    "for char in input_str:\n",
    "    if char.isalpha() or char.isspace():  # Consider only alphabetic characters and spaces\n",
    "        if char in char_count:\n",
    "            char_count[char] += 1\n",
    "        else:\n",
    "            char_count[char] = 1\n",
    "\n",
    "duplicate_count = sum(count - 1 for count in char_count.values() if count > 1)\n",
    "print(duplicate_count)\n"
   ]
  },
  {
   "cell_type": "markdown",
   "id": "108a9ae8",
   "metadata": {},
   "source": [
    "# 13) Create a function that takes in a list of tuples as input, and return John's score after his game has ended."
   ]
  },
  {
   "cell_type": "markdown",
   "id": "b14e1904",
   "metadata": {},
   "source": [
    "# while loop"
   ]
  },
  {
   "cell_type": "code",
   "execution_count": 46,
   "id": "c828f381",
   "metadata": {},
   "outputs": [
    {
     "name": "stdout",
     "output_type": "stream",
     "text": [
      "Enter a tuple (e.g., 1 2): 1 7\n",
      "Enter a tuple (e.g., 1 2): 1 1\n",
      "0\n"
     ]
    }
   ],
   "source": [
    "score = 0\n",
    "rounds = 0\n",
    "\n",
    "while rounds < 3:\n",
    "    # Get input for each round\n",
    "    a, b = map(int, input(\"Enter a tuple (e.g., 1 2): \").split())\n",
    "\n",
    "    if a == b:\n",
    "        score = 0\n",
    "        break\n",
    "\n",
    "    score += a + b\n",
    "    rounds += 1\n",
    "\n",
    "print(score)\n"
   ]
  },
  {
   "cell_type": "markdown",
   "id": "cabf9320",
   "metadata": {},
   "source": [
    "# for loop"
   ]
  },
  {
   "cell_type": "code",
   "execution_count": 44,
   "id": "8e2e8649",
   "metadata": {},
   "outputs": [
    {
     "name": "stdout",
     "output_type": "stream",
     "text": [
      "Enter a tuple (e.g., 1 2): 1 2\n",
      "Enter a tuple (e.g., 1 2): 2 7\n",
      "Enter a tuple (e.g., 1 2): 1 3\n",
      "16\n"
     ]
    }
   ],
   "source": [
    "score = 0\n",
    "\n",
    "for _ in range(3):\n",
    "    # Get input for each round\n",
    "    a, b = map(int, input(\"Enter a tuple (e.g., 1 2): \").split())\n",
    "\n",
    "    if a == b:\n",
    "        score = 0\n",
    "        break\n",
    "\n",
    "    score += a + b\n",
    "\n",
    "print(score)\n"
   ]
  },
  {
   "cell_type": "markdown",
   "id": "af6454ce",
   "metadata": {},
   "source": [
    "## 14) This is a reverse coding challenge. Normally you're given explicit directions with how to create a function. Here, you must generate your own function to satisfy the relationship between the inputs and outputs.\n",
    "\n",
    "## Your task is to create a function that, when fed the inputs below, produces the sample outputs shown."
   ]
  },
  {
   "cell_type": "markdown",
   "id": "2150aadc",
   "metadata": {},
   "source": [
    "# while loop"
   ]
  },
  {
   "cell_type": "code",
   "execution_count": 6,
   "id": "25f0f2c2",
   "metadata": {},
   "outputs": [
    {
     "name": "stdout",
     "output_type": "stream",
     "text": [
      "Enter a number: 133\n",
      "Output: 9\n"
     ]
    }
   ],
   "source": [
    "while True:                                  # Get user input for the number using a while loop for validation\n",
    "    user_input = input(\"Enter a number: \")\n",
    "\n",
    "    if user_input.isdigit():                     # Check if the input is a valid integer\n",
    "        break\n",
    "    else:\n",
    "        print(\"Invalid input. Please enter a valid integer.\")\n",
    "\n",
    "num = int(user_input)                    # Convert the input to an integer and calculate the result\n",
    "result = 1\n",
    "\n",
    "for digit in str(num):   # Multiply the individual digits of the input number\n",
    "    result *= int(digit)\n",
    "\n",
    "print(\"Output:\", result)      # Display the result\n"
   ]
  },
  {
   "cell_type": "markdown",
   "id": "b0843024",
   "metadata": {},
   "source": [
    "# for loop"
   ]
  },
  {
   "cell_type": "code",
   "execution_count": 7,
   "id": "e44d7a42",
   "metadata": {},
   "outputs": [
    {
     "name": "stdout",
     "output_type": "stream",
     "text": [
      "Enter a number: 832\n",
      "Output: 48\n"
     ]
    }
   ],
   "source": [
    "result = 1\n",
    "\n",
    "for _ in range(3):  # Allow three attempts\n",
    "    user_input = input(\"Enter a number: \")\n",
    "\n",
    "    if user_input.isdigit():  # Check if the input is a valid integer\n",
    "        break\n",
    "    else:\n",
    "        print(\"Invalid input. Please enter a valid integer.\")\n",
    "else:\n",
    "    print(\"Too many invalid attempts. Exiting.\")\n",
    "    exit()\n",
    "\n",
    "num = int(user_input)          # Convert the input to an integer and calculate the result\n",
    "\n",
    "for digit in str(num):\n",
    "    result *= int(digit)      # Multiply the individual digits of the input number\n",
    "\n",
    "# Display the result\n",
    "print(\"Output:\", result)\n"
   ]
  },
  {
   "cell_type": "code",
   "execution_count": null,
   "id": "669ebc0b",
   "metadata": {},
   "outputs": [],
   "source": []
  }
 ],
 "metadata": {
  "kernelspec": {
   "display_name": "Python 3 (ipykernel)",
   "language": "python",
   "name": "python3"
  },
  "language_info": {
   "codemirror_mode": {
    "name": "ipython",
    "version": 3
   },
   "file_extension": ".py",
   "mimetype": "text/x-python",
   "name": "python",
   "nbconvert_exporter": "python",
   "pygments_lexer": "ipython3",
   "version": "3.11.5"
  }
 },
 "nbformat": 4,
 "nbformat_minor": 5
}
