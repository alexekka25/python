{
 "cells": [
  {
   "cell_type": "markdown",
   "id": "b9dcb5b0",
   "metadata": {},
   "source": [
    "# <center><font color='green'>LIST</font></center>"
   ]
  },
  {
   "cell_type": "markdown",
   "id": "45dcd584",
   "metadata": {},
   "source": [
    "# In Python, a list is a built-in data structure that is used to store an ordered collection of items. Lists are one of the most commonly used data types in Python and are versatile for a wide range of tasks."
   ]
  },
  {
   "cell_type": "markdown",
   "id": "0f04a499",
   "metadata": {},
   "source": [
    "### 1.Ordered Collection: Lists maintain the order of the elements you insert, which means that you can access and manipulate elements by their position (index) in the list.\n",
    "\n",
    "### 2.Mutable: Lists are mutable, which means you can change, add, or remove elements after creating the list.\n",
    "\n",
    "### 3.Heterogeneous Elements: A list can contain elements of different data types (e.g., numbers, strings, other lists, objects, etc.).\n",
    "\n",
    "### 4.Enclosed in Square Brackets: Lists are defined by enclosing a comma-separated sequence of elements within square brackets [ ]"
   ]
  },
  {
   "cell_type": "markdown",
   "id": "87ee9b4f",
   "metadata": {},
   "source": [
    "![](https://www.programiz.com/sites/tutorial2program/files/python-list-example.png)"
   ]
  },
  {
   "cell_type": "markdown",
   "id": "67732157",
   "metadata": {},
   "source": [
    "# <center><font color='green'>Accessing Elements:</font></center>"
   ]
  },
  {
   "cell_type": "code",
   "execution_count": 2,
   "id": "d2412687",
   "metadata": {},
   "outputs": [
    {
     "name": "stdout",
     "output_type": "stream",
     "text": [
      "Python\n",
      "C++\n"
     ]
    }
   ],
   "source": [
    "languages = [\"Python\", \"Swift\", \"C++\"]\n",
    "\n",
    "# access item at index 0\n",
    "print(languages[0])   # Python\n",
    "\n",
    "# access item at index 2\n",
    "print(languages[2])   # C++"
   ]
  },
  {
   "cell_type": "markdown",
   "id": "fb5c3a78",
   "metadata": {},
   "source": [
    "![](https://www.programiz.com/sites/tutorial2program/files/list-index-in-python.png)"
   ]
  },
  {
   "cell_type": "code",
   "execution_count": 3,
   "id": "729b81e3",
   "metadata": {},
   "outputs": [
    {
     "name": "stdout",
     "output_type": "stream",
     "text": [
      "C++\n",
      "Python\n"
     ]
    }
   ],
   "source": [
    "languages = [\"Python\", \"Swift\", \"C++\"]\n",
    "\n",
    "# access item at index 0\n",
    "print(languages[-1])   # C++\n",
    "\n",
    "# access item at index 2\n",
    "print(languages[-3])   # Python"
   ]
  },
  {
   "cell_type": "markdown",
   "id": "ede44fd1",
   "metadata": {},
   "source": [
    "![](https://www.programiz.com/sites/tutorial2program/files/python-list-negative-index.png)"
   ]
  },
  {
   "cell_type": "markdown",
   "id": "9a21b7d4",
   "metadata": {},
   "source": [
    "# <center><font color='green'>Slicing</font></center>"
   ]
  },
  {
   "cell_type": "markdown",
   "id": "9c236c87",
   "metadata": {},
   "source": [
    "## Creating a sample list\n",
    "my_list = [0, 1, 2, 3, 4, 5, 6, 7, 8, 9]\n",
    "print(my_list)"
   ]
  },
  {
   "cell_type": "markdown",
   "id": "adf61038",
   "metadata": {},
   "source": [
    "## <center><font color='red'>Slicing with a step</font></center>                                       "
   ]
  },
  {
   "cell_type": "code",
   "execution_count": 22,
   "id": "bb804dff",
   "metadata": {},
   "outputs": [
    {
     "name": "stdout",
     "output_type": "stream",
     "text": [
      "Slice with Step: [1, 3, 5, 7]\n"
     ]
    }
   ],
   "source": [
    "step_slice = my_list[1:9:2]  # Elements at indices 1, 3, 5, and 7\n",
    "print(\"Slice with Step:\", step_slice)\n"
   ]
  },
  {
   "cell_type": "markdown",
   "id": "a1174500",
   "metadata": {},
   "source": [
    "## <center><font color='red'>Slicing from the beginning</font></center>"
   ]
  },
  {
   "cell_type": "code",
   "execution_count": 23,
   "id": "8bd032f3",
   "metadata": {},
   "outputs": [
    {
     "name": "stdout",
     "output_type": "stream",
     "text": [
      "Slice from the Beginning: [0, 1, 2, 3, 4]\n"
     ]
    }
   ],
   "source": [
    "beginning_slice = my_list[:5]  # Elements from the start up to (but not including) index 5\n",
    "print(\"Slice from the Beginning:\", beginning_slice)"
   ]
  },
  {
   "cell_type": "markdown",
   "id": "e754c7f9",
   "metadata": {},
   "source": [
    "## <center><font color='red'>Slicing to the end</font></center>"
   ]
  },
  {
   "cell_type": "code",
   "execution_count": 24,
   "id": "f5e83581",
   "metadata": {},
   "outputs": [
    {
     "name": "stdout",
     "output_type": "stream",
     "text": [
      "Slice to the End: [6, 7, 8, 9]\n"
     ]
    }
   ],
   "source": [
    "end_slice = my_list[6:]  # Elements from index 6 to the end\n",
    "print(\"Slice to the End:\", end_slice)\n"
   ]
  },
  {
   "cell_type": "markdown",
   "id": "8248bbce",
   "metadata": {},
   "source": [
    "## <center><font color='red'>Negative indexing and slicing</font></center>"
   ]
  },
  {
   "cell_type": "code",
   "execution_count": 25,
   "id": "acd1580a",
   "metadata": {},
   "outputs": [
    {
     "name": "stdout",
     "output_type": "stream",
     "text": [
      "Negative Indexing Slice: [6, 7, 8]\n"
     ]
    }
   ],
   "source": [
    "negative_slice = my_list[-4:-1]  # Elements at indices -4, -3, and -2\n",
    "print(\"Negative Indexing Slice:\", negative_slice)\n"
   ]
  },
  {
   "cell_type": "markdown",
   "id": "7da08ee7",
   "metadata": {},
   "source": [
    "## <center><font color='red'>Reverse the list using slicing</font></center>"
   ]
  },
  {
   "cell_type": "code",
   "execution_count": 26,
   "id": "a80c265a",
   "metadata": {},
   "outputs": [
    {
     "name": "stdout",
     "output_type": "stream",
     "text": [
      "Reverse Slice: [9, 8, 7, 6, 5, 4, 3, 2, 1, 0]\n"
     ]
    }
   ],
   "source": [
    "reverse_slice = my_list[::-1]  # Reverses the list\n",
    "print(\"Reverse Slice:\", reverse_slice)"
   ]
  },
  {
   "cell_type": "markdown",
   "id": "97df39d2",
   "metadata": {},
   "source": [
    "## <center><font color='green'>Nested list</font></center>"
   ]
  },
  {
   "cell_type": "code",
   "execution_count": 53,
   "id": "db146122",
   "metadata": {},
   "outputs": [
    {
     "data": {
      "text/plain": [
       "[1, 2, 3, [4, 5, 6]]"
      ]
     },
     "execution_count": 53,
     "metadata": {},
     "output_type": "execute_result"
    }
   ],
   "source": [
    "# nested list\n",
    "q = [1,2,3, [4,5,6]]\n",
    "q"
   ]
  },
  {
   "cell_type": "code",
   "execution_count": 54,
   "id": "89017e9c",
   "metadata": {},
   "outputs": [
    {
     "data": {
      "text/plain": [
       "[4, 5, 6]"
      ]
     },
     "execution_count": 54,
     "metadata": {},
     "output_type": "execute_result"
    }
   ],
   "source": [
    "q[3]"
   ]
  },
  {
   "cell_type": "code",
   "execution_count": 55,
   "id": "d47807a6",
   "metadata": {},
   "outputs": [
    {
     "data": {
      "text/plain": [
       "4"
      ]
     },
     "execution_count": 55,
     "metadata": {},
     "output_type": "execute_result"
    }
   ],
   "source": [
    "q[3][0]"
   ]
  },
  {
   "cell_type": "code",
   "execution_count": 56,
   "id": "e71afe55",
   "metadata": {},
   "outputs": [
    {
     "data": {
      "text/plain": [
       "6"
      ]
     },
     "execution_count": 56,
     "metadata": {},
     "output_type": "execute_result"
    }
   ],
   "source": [
    "q[3][2]"
   ]
  },
  {
   "cell_type": "code",
   "execution_count": 57,
   "id": "00358a03",
   "metadata": {},
   "outputs": [
    {
     "data": {
      "text/plain": [
       "[6, 4]"
      ]
     },
     "execution_count": 57,
     "metadata": {},
     "output_type": "execute_result"
    }
   ],
   "source": [
    "q[3][::-2]"
   ]
  },
  {
   "cell_type": "markdown",
   "id": "c6ef9a0c",
   "metadata": {},
   "source": [
    "# <center><font color='green'>sort()</font></center>"
   ]
  },
  {
   "cell_type": "code",
   "execution_count": 58,
   "id": "43e2109a",
   "metadata": {},
   "outputs": [],
   "source": [
    "x,y = [1,2,-5,14,100,89], ['a','ani','b','z','jolly']\n",
    "z=x+y"
   ]
  },
  {
   "cell_type": "code",
   "execution_count": 59,
   "id": "0a3c33a9",
   "metadata": {},
   "outputs": [
    {
     "data": {
      "text/plain": [
       "[1, 2, -5, 14, 100, 89, 'a', 'ani', 'b', 'z', 'jolly']"
      ]
     },
     "execution_count": 59,
     "metadata": {},
     "output_type": "execute_result"
    }
   ],
   "source": [
    "z"
   ]
  },
  {
   "cell_type": "markdown",
   "id": "94da3b6e",
   "metadata": {},
   "source": [
    "## x is a list containing integers: [1, 2, -5, 14, 100, 89]\n",
    "## y is a list containing strings: ['a', 'ani', 'b', 'z', 'jolly']\n",
    "## Then, you concatenate these two lists using the + operator, and the result is stored in a new list z. Here's what z would contain:"
   ]
  },
  {
   "cell_type": "code",
   "execution_count": 60,
   "id": "81029834",
   "metadata": {},
   "outputs": [
    {
     "data": {
      "text/plain": [
       "[-5, 1, 2, 14, 89, 100]"
      ]
     },
     "execution_count": 60,
     "metadata": {},
     "output_type": "execute_result"
    }
   ],
   "source": [
    "x.sort()\n",
    "x"
   ]
  },
  {
   "cell_type": "code",
   "execution_count": 61,
   "id": "6c6d3b29",
   "metadata": {},
   "outputs": [
    {
     "data": {
      "text/plain": [
       "[1, 2, -5, 14, 100, 89, 'a', 'ani', 'b', 'z', 'jolly']"
      ]
     },
     "execution_count": 61,
     "metadata": {},
     "output_type": "execute_result"
    }
   ],
   "source": [
    "z"
   ]
  },
  {
   "cell_type": "markdown",
   "id": "f6e693c5",
   "metadata": {},
   "source": [
    "### When you call the sort() method on a list in Python, it sorts the list in ascending order by default. "
   ]
  },
  {
   "cell_type": "code",
   "execution_count": null,
   "id": "3191fa37",
   "metadata": {},
   "outputs": [],
   "source": []
  },
  {
   "cell_type": "code",
   "execution_count": 36,
   "id": "fd810cdb",
   "metadata": {},
   "outputs": [
    {
     "data": {
      "text/plain": [
       "['alex', 'arun', 'abhi', 'aaa', 'AAA']"
      ]
     },
     "execution_count": 36,
     "metadata": {},
     "output_type": "execute_result"
    }
   ],
   "source": [
    "a= ['alex','arun','abhi','aaa','AAA']\n",
    "a"
   ]
  },
  {
   "cell_type": "code",
   "execution_count": 37,
   "id": "4c189e84",
   "metadata": {},
   "outputs": [
    {
     "data": {
      "text/plain": [
       "['AAA', 'aaa', 'abhi', 'alex', 'arun']"
      ]
     },
     "execution_count": 37,
     "metadata": {},
     "output_type": "execute_result"
    }
   ],
   "source": [
    "a.sort()\n",
    "a"
   ]
  },
  {
   "cell_type": "code",
   "execution_count": 38,
   "id": "25a194df",
   "metadata": {},
   "outputs": [
    {
     "name": "stdout",
     "output_type": "stream",
     "text": [
      "Help on built-in function sort:\n",
      "\n",
      "sort(*, key=None, reverse=False) method of builtins.list instance\n",
      "    Sort the list in ascending order and return None.\n",
      "    \n",
      "    The sort is in-place (i.e. the list itself is modified) and stable (i.e. the\n",
      "    order of two equal elements is maintained).\n",
      "    \n",
      "    If a key function is given, apply it once to each list item and sort them,\n",
      "    ascending or descending, according to their function values.\n",
      "    \n",
      "    The reverse flag can be set to sort in descending order.\n",
      "\n"
     ]
    }
   ],
   "source": [
    "help(a.sort)"
   ]
  },
  {
   "cell_type": "markdown",
   "id": "33d0225f",
   "metadata": {},
   "source": [
    "# <center><font color='green'>index()</font></center>"
   ]
  },
  {
   "cell_type": "markdown",
   "id": "5d608775",
   "metadata": {},
   "source": [
    "## The .index() method in Python is used to find the index of the first occurrence of a specified element in a list."
   ]
  },
  {
   "cell_type": "code",
   "execution_count": 45,
   "id": "1ac2d7f6",
   "metadata": {},
   "outputs": [
    {
     "name": "stdout",
     "output_type": "stream",
     "text": [
      "Index of 20: 1\n",
      "Index of 20 from index 2: 5\n"
     ]
    }
   ],
   "source": [
    "my_list = [10, 20, 30, 40, 50, 20]\n",
    "\n",
    "# Find the index of the first occurrence of 20 in the list\n",
    "index = my_list.index(20)\n",
    "print(\"Index of 20:\", index)  # Output: Index of 20: 1\n",
    "\n",
    "# Find the index of the first occurrence of 20 starting from index 2\n",
    "index = my_list.index(20, 2)\n",
    "print(\"Index of 20 from index 2:\", index)  # Output: Index of 20 from index 2: 5\n"
   ]
  },
  {
   "cell_type": "code",
   "execution_count": 46,
   "id": "2aaa7d12",
   "metadata": {},
   "outputs": [
    {
     "data": {
      "text/plain": [
       "3"
      ]
     },
     "execution_count": 46,
     "metadata": {},
     "output_type": "execute_result"
    }
   ],
   "source": [
    "my_list.index(40)"
   ]
  },
  {
   "cell_type": "code",
   "execution_count": 47,
   "id": "2de7eda9",
   "metadata": {},
   "outputs": [
    {
     "data": {
      "text/plain": [
       "3"
      ]
     },
     "execution_count": 47,
     "metadata": {},
     "output_type": "execute_result"
    }
   ],
   "source": [
    "my_list.index(40,2)"
   ]
  },
  {
   "cell_type": "markdown",
   "id": "66e8d71d",
   "metadata": {},
   "source": [
    "# <center><font color='green'>clear()</font></center>"
   ]
  },
  {
   "cell_type": "code",
   "execution_count": 48,
   "id": "dd662c26",
   "metadata": {},
   "outputs": [
    {
     "name": "stdout",
     "output_type": "stream",
     "text": [
      "Original List: [10, 20, 30, 40, 50]\n",
      "List after clear(): []\n"
     ]
    }
   ],
   "source": [
    "# Create a list\n",
    "my_list = [10, 20, 30, 40, 50]\n",
    "\n",
    "# Display the original list\n",
    "print(\"Original List:\", my_list)\n",
    "\n",
    "# Use the clear() method to remove all elements\n",
    "my_list.clear()\n",
    "\n",
    "# Display the list after clearing\n",
    "print(\"List after clear():\", my_list)\n"
   ]
  },
  {
   "cell_type": "markdown",
   "id": "6ebaad96",
   "metadata": {},
   "source": [
    "# <center><font color='green'>Tuple()</font></center>"
   ]
  },
  {
   "cell_type": "markdown",
   "id": "fb48f354",
   "metadata": {},
   "source": [
    "# A tuple in Python is a collection of ordered, immutable elements. This means that once you create a tuple, you cannot change its contents. Tuples are defined using parentheses () "
   ]
  },
  {
   "cell_type": "markdown",
   "id": "06977918",
   "metadata": {},
   "source": [
    "![](https://i1.faceprep.in/feed/images/tuples-in-python--image.webp)"
   ]
  },
  {
   "cell_type": "code",
   "execution_count": 52,
   "id": "0ea28a1f",
   "metadata": {},
   "outputs": [
    {
     "data": {
      "text/plain": [
       "(1, 'apple', 3.14, [4, 5])"
      ]
     },
     "execution_count": 52,
     "metadata": {},
     "output_type": "execute_result"
    }
   ],
   "source": [
    "my_tuple = (1, \"apple\", 3.14, [4, 5])\n",
    "my_tuple"
   ]
  },
  {
   "cell_type": "markdown",
   "id": "ab3cd1d9",
   "metadata": {},
   "source": [
    "## <center><font color='red'>Accessing elements</font></center>"
   ]
  },
  {
   "cell_type": "code",
   "execution_count": 62,
   "id": "fef30e46",
   "metadata": {},
   "outputs": [
    {
     "name": "stdout",
     "output_type": "stream",
     "text": [
      "Tuple: (1, 'apple', 3.14, [4, 5])\n",
      "First element: 1\n",
      "Second element: apple\n"
     ]
    }
   ],
   "source": [
    "print(\"Tuple:\", my_tuple)\n",
    "print(\"First element:\", my_tuple[0])\n",
    "print(\"Second element:\", my_tuple[1])\n"
   ]
  },
  {
   "cell_type": "markdown",
   "id": "6dad1411",
   "metadata": {},
   "source": [
    "## <center><font color='red'>Iterating through a tuple</font></center>"
   ]
  },
  {
   "cell_type": "code",
   "execution_count": 63,
   "id": "08798a71",
   "metadata": {},
   "outputs": [
    {
     "name": "stdout",
     "output_type": "stream",
     "text": [
      "1\n",
      "apple\n",
      "3.14\n",
      "[4, 5]\n"
     ]
    }
   ],
   "source": [
    "for item in my_tuple:\n",
    "    print(item)"
   ]
  },
  {
   "cell_type": "markdown",
   "id": "3bbeac49",
   "metadata": {},
   "source": [
    "## <center><font color='red'>Tuple unpacking</font></center>"
   ]
  },
  {
   "cell_type": "code",
   "execution_count": 64,
   "id": "1083150c",
   "metadata": {},
   "outputs": [
    {
     "name": "stdout",
     "output_type": "stream",
     "text": [
      "Unpacked variables: 1 apple 3.14 [4, 5]\n"
     ]
    }
   ],
   "source": [
    "a, b, c, d = my_tuple\n",
    "print(\"Unpacked variables:\", a, b, c, d)\n"
   ]
  },
  {
   "cell_type": "code",
   "execution_count": 65,
   "id": "56f24bc0",
   "metadata": {},
   "outputs": [
    {
     "data": {
      "text/plain": [
       "2"
      ]
     },
     "execution_count": 65,
     "metadata": {},
     "output_type": "execute_result"
    }
   ],
   "source": [
    "b,c =(2,3)  # b gets 2\n",
    "b"
   ]
  },
  {
   "cell_type": "code",
   "execution_count": 66,
   "id": "01071fdf",
   "metadata": {},
   "outputs": [
    {
     "data": {
      "text/plain": [
       "3"
      ]
     },
     "execution_count": 66,
     "metadata": {},
     "output_type": "execute_result"
    }
   ],
   "source": [
    "c     # c gets 3"
   ]
  },
  {
   "cell_type": "markdown",
   "id": "73e5c231",
   "metadata": {},
   "source": [
    "## <center><font color='red'>Length of a tuple</font></center>"
   ]
  },
  {
   "cell_type": "code",
   "execution_count": 70,
   "id": "cf5b2502",
   "metadata": {},
   "outputs": [
    {
     "data": {
      "text/plain": [
       "(1, 'apple', 3.14, [4, 5])"
      ]
     },
     "execution_count": 70,
     "metadata": {},
     "output_type": "execute_result"
    }
   ],
   "source": [
    "my_tuple"
   ]
  },
  {
   "cell_type": "code",
   "execution_count": 71,
   "id": "e9c4266d",
   "metadata": {},
   "outputs": [
    {
     "name": "stdout",
     "output_type": "stream",
     "text": [
      "Length of the tuple: 4\n"
     ]
    }
   ],
   "source": [
    "print(\"Length of the tuple:\", len(my_tuple))"
   ]
  },
  {
   "cell_type": "markdown",
   "id": "0ea1dc0f",
   "metadata": {},
   "source": [
    "## <center><font color='red'>min & max</font></center>"
   ]
  },
  {
   "cell_type": "markdown",
   "id": "b87e785d",
   "metadata": {},
   "source": [
    "## You can find the minimum and maximum values in a tuple in Python using the built-in min() and max()"
   ]
  },
  {
   "cell_type": "code",
   "execution_count": 77,
   "id": "da2c88a4",
   "metadata": {},
   "outputs": [
    {
     "data": {
      "text/plain": [
       "(10, 30, 5, 40, 20)"
      ]
     },
     "execution_count": 77,
     "metadata": {},
     "output_type": "execute_result"
    }
   ],
   "source": [
    "my_tuple2 = (10, 30, 5, 40, 20)\n",
    "my_tuple2"
   ]
  },
  {
   "cell_type": "code",
   "execution_count": 78,
   "id": "02777fbf",
   "metadata": {},
   "outputs": [
    {
     "data": {
      "text/plain": [
       "5"
      ]
     },
     "execution_count": 78,
     "metadata": {},
     "output_type": "execute_result"
    }
   ],
   "source": [
    "min(my_tuple2)"
   ]
  },
  {
   "cell_type": "code",
   "execution_count": 80,
   "id": "5393b7e6",
   "metadata": {},
   "outputs": [
    {
     "data": {
      "text/plain": [
       "40"
      ]
     },
     "execution_count": 80,
     "metadata": {},
     "output_type": "execute_result"
    }
   ],
   "source": [
    "max(my_tuple2)"
   ]
  },
  {
   "cell_type": "code",
   "execution_count": null,
   "id": "25b9945a",
   "metadata": {},
   "outputs": [],
   "source": []
  }
 ],
 "metadata": {
  "kernelspec": {
   "display_name": "Python 3 (ipykernel)",
   "language": "python",
   "name": "python3"
  },
  "language_info": {
   "codemirror_mode": {
    "name": "ipython",
    "version": 3
   },
   "file_extension": ".py",
   "mimetype": "text/x-python",
   "name": "python",
   "nbconvert_exporter": "python",
   "pygments_lexer": "ipython3",
   "version": "3.11.5"
  }
 },
 "nbformat": 4,
 "nbformat_minor": 5
}
